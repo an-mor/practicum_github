{
 "cells": [
  {
   "cell_type": "markdown",
   "id": "b5019fb6",
   "metadata": {
    "toc": true
   },
   "source": [
    "<h1>Table of Contents<span class=\"tocSkip\"></span></h1>\n",
    "<div class=\"toc\"><ul class=\"toc-item\"><li><span><a href=\"#Подготовка-данных\" data-toc-modified-id=\"Подготовка-данных-1\"><span class=\"toc-item-num\">1&nbsp;&nbsp;</span>Подготовка данных</a></span><ul class=\"toc-item\"><li><span><a href=\"#Загрузка-и-обзор-данных\" data-toc-modified-id=\"Загрузка-и-обзор-данных-1.1\"><span class=\"toc-item-num\">1.1&nbsp;&nbsp;</span>Загрузка и обзор данных</a></span></li><li><span><a href=\"#Описание-данных\" data-toc-modified-id=\"Описание-данных-1.2\"><span class=\"toc-item-num\">1.2&nbsp;&nbsp;</span>Описание данных</a></span></li><li><span><a href=\"#Предобработка-данных\" data-toc-modified-id=\"Предобработка-данных-1.3\"><span class=\"toc-item-num\">1.3&nbsp;&nbsp;</span>Предобработка данных</a></span></li><li><span><a href=\"#Подготовка-признаков\" data-toc-modified-id=\"Подготовка-признаков-1.4\"><span class=\"toc-item-num\">1.4&nbsp;&nbsp;</span>Подготовка признаков</a></span></li></ul></li><li><span><a href=\"#Исследование-задачи\" data-toc-modified-id=\"Исследование-задачи-2\"><span class=\"toc-item-num\">2&nbsp;&nbsp;</span>Исследование задачи</a></span><ul class=\"toc-item\"><li><span><a href=\"#Логистическая-регрессия\" data-toc-modified-id=\"Логистическая-регрессия-2.1\"><span class=\"toc-item-num\">2.1&nbsp;&nbsp;</span>Логистическая регрессия</a></span></li><li><span><a href=\"#Дерево-решений\" data-toc-modified-id=\"Дерево-решений-2.2\"><span class=\"toc-item-num\">2.2&nbsp;&nbsp;</span>Дерево решений</a></span></li><li><span><a href=\"#Случайный-лес\" data-toc-modified-id=\"Случайный-лес-2.3\"><span class=\"toc-item-num\">2.3&nbsp;&nbsp;</span>Случайный лес</a></span></li><li><span><a href=\"#Catboost\" data-toc-modified-id=\"Catboost-2.4\"><span class=\"toc-item-num\">2.4&nbsp;&nbsp;</span>Catboost</a></span></li><li><span><a href=\"#Вывод\" data-toc-modified-id=\"Вывод-2.5\"><span class=\"toc-item-num\">2.5&nbsp;&nbsp;</span>Вывод</a></span></li></ul></li><li><span><a href=\"#Дисбаланс-классов\" data-toc-modified-id=\"Дисбаланс-классов-3\"><span class=\"toc-item-num\">3&nbsp;&nbsp;</span>Дисбаланс классов</a></span><ul class=\"toc-item\"><li><span><a href=\"#Взвешивание-классов\" data-toc-modified-id=\"Взвешивание-классов-3.1\"><span class=\"toc-item-num\">3.1&nbsp;&nbsp;</span>Взвешивание классов</a></span></li><li><span><a href=\"#Upsampling\" data-toc-modified-id=\"Upsampling-3.2\"><span class=\"toc-item-num\">3.2&nbsp;&nbsp;</span>Upsampling</a></span></li><li><span><a href=\"#Downsampling\" data-toc-modified-id=\"Downsampling-3.3\"><span class=\"toc-item-num\">3.3&nbsp;&nbsp;</span>Downsampling</a></span></li><li><span><a href=\"#Изменение-порога\" data-toc-modified-id=\"Изменение-порога-3.4\"><span class=\"toc-item-num\">3.4&nbsp;&nbsp;</span>Изменение порога</a></span></li><li><span><a href=\"#Вывод\" data-toc-modified-id=\"Вывод-3.5\"><span class=\"toc-item-num\">3.5&nbsp;&nbsp;</span>Вывод</a></span></li></ul></li><li><span><a href=\"#Тестирование\" data-toc-modified-id=\"Тестирование-4\"><span class=\"toc-item-num\">4&nbsp;&nbsp;</span>Тестирование</a></span></li><li><span><a href=\"#Общий-вывод\" data-toc-modified-id=\"Общий-вывод-5\"><span class=\"toc-item-num\">5&nbsp;&nbsp;</span>Общий вывод</a></span></li></ul></div>"
   ]
  },
  {
   "cell_type": "markdown",
   "id": "2faaf7d3",
   "metadata": {},
   "source": [
    "# Отток клиентов банка"
   ]
  },
  {
   "cell_type": "markdown",
   "id": "dd769920",
   "metadata": {},
   "source": [
    "Из \"Бета-Банка\" стали уходить клиенты. Предоставлены исторические данные о поведении клиентов и расторжении договоров.\n",
    "\n",
    "**Цель** - построить модель для прогноза: уйдёт клиент в ближайшее время или нет.\n",
    "\n",
    "**Ход исследования**\n",
    "\n",
    "1. Загрузить и подготовить данные.\n",
    "2. Исследовать баланс классов, обучить модель без учёта дисбаланса. Сделать выводы.\n",
    "3. Улучшить качество модели, учитывая дисбаланс классов. Обучить различные модели и выбрать лучшую.\n",
    "4. Оценить качество модели с помощью метрик: F1-мера (минимум 0,59) и AUC-ROC. \n",
    "5. Провести тестирование модели на тестовой выборке."
   ]
  },
  {
   "cell_type": "markdown",
   "id": "1d4c5577",
   "metadata": {},
   "source": [
    "## Подготовка данных"
   ]
  },
  {
   "cell_type": "markdown",
   "id": "eb3a61a9",
   "metadata": {},
   "source": [
    "### Загрузка и обзор данных"
   ]
  },
  {
   "cell_type": "code",
   "execution_count": 1,
   "id": "c71da338",
   "metadata": {
    "ExecuteTime": {
     "end_time": "2023-04-16T15:49:47.944669Z",
     "start_time": "2023-04-16T15:49:45.627299Z"
    }
   },
   "outputs": [],
   "source": [
    "import matplotlib.pyplot as plt\n",
    "import numpy as np\n",
    "import pandas as pd\n",
    "import seaborn as sns\n",
    "\n",
    "# для обучения моделей\n",
    "from sklearn.ensemble import RandomForestClassifier\n",
    "from sklearn.linear_model import LogisticRegression\n",
    "from sklearn.metrics import f1_score, precision_score, recall_score, roc_auc_score, roc_curve\n",
    "from sklearn.model_selection import GridSearchCV, train_test_split\n",
    "from sklearn.preprocessing import OneHotEncoder\n",
    "from sklearn.preprocessing import StandardScaler \n",
    "from sklearn.tree import DecisionTreeClassifier\n",
    "from sklearn.utils import shuffle\n",
    "from scipy import interpolate\n",
    "\n",
    "import warnings\n",
    "warnings.filterwarnings('ignore')"
   ]
  },
  {
   "cell_type": "code",
   "execution_count": 2,
   "id": "ff64fbf1",
   "metadata": {
    "ExecuteTime": {
     "end_time": "2023-04-16T15:49:47.960628Z",
     "start_time": "2023-04-16T15:49:47.946665Z"
    }
   },
   "outputs": [],
   "source": [
    "# постоянные параметры\n",
    "rnd_state = 12345"
   ]
  },
  {
   "cell_type": "code",
   "execution_count": 3,
   "id": "1c93c44b",
   "metadata": {
    "ExecuteTime": {
     "end_time": "2023-04-16T15:49:48.646808Z",
     "start_time": "2023-04-16T15:49:47.963619Z"
    }
   },
   "outputs": [],
   "source": [
    "df = pd.read_csv('https://code.s3.yandex.net/datasets/Churn.csv')"
   ]
  },
  {
   "cell_type": "code",
   "execution_count": 4,
   "id": "924e324a",
   "metadata": {
    "ExecuteTime": {
     "end_time": "2023-04-16T15:49:48.693626Z",
     "start_time": "2023-04-16T15:49:48.649918Z"
    }
   },
   "outputs": [
    {
     "data": {
      "text/html": [
       "<div>\n",
       "<style scoped>\n",
       "    .dataframe tbody tr th:only-of-type {\n",
       "        vertical-align: middle;\n",
       "    }\n",
       "\n",
       "    .dataframe tbody tr th {\n",
       "        vertical-align: top;\n",
       "    }\n",
       "\n",
       "    .dataframe thead th {\n",
       "        text-align: right;\n",
       "    }\n",
       "</style>\n",
       "<table border=\"1\" class=\"dataframe\">\n",
       "  <thead>\n",
       "    <tr style=\"text-align: right;\">\n",
       "      <th></th>\n",
       "      <th>RowNumber</th>\n",
       "      <th>CustomerId</th>\n",
       "      <th>Surname</th>\n",
       "      <th>CreditScore</th>\n",
       "      <th>Geography</th>\n",
       "      <th>Gender</th>\n",
       "      <th>Age</th>\n",
       "      <th>Tenure</th>\n",
       "      <th>Balance</th>\n",
       "      <th>NumOfProducts</th>\n",
       "      <th>HasCrCard</th>\n",
       "      <th>IsActiveMember</th>\n",
       "      <th>EstimatedSalary</th>\n",
       "      <th>Exited</th>\n",
       "    </tr>\n",
       "  </thead>\n",
       "  <tbody>\n",
       "    <tr>\n",
       "      <th>0</th>\n",
       "      <td>1</td>\n",
       "      <td>15634602</td>\n",
       "      <td>Hargrave</td>\n",
       "      <td>619</td>\n",
       "      <td>France</td>\n",
       "      <td>Female</td>\n",
       "      <td>42</td>\n",
       "      <td>2.0</td>\n",
       "      <td>0.00</td>\n",
       "      <td>1</td>\n",
       "      <td>1</td>\n",
       "      <td>1</td>\n",
       "      <td>101348.88</td>\n",
       "      <td>1</td>\n",
       "    </tr>\n",
       "    <tr>\n",
       "      <th>1</th>\n",
       "      <td>2</td>\n",
       "      <td>15647311</td>\n",
       "      <td>Hill</td>\n",
       "      <td>608</td>\n",
       "      <td>Spain</td>\n",
       "      <td>Female</td>\n",
       "      <td>41</td>\n",
       "      <td>1.0</td>\n",
       "      <td>83807.86</td>\n",
       "      <td>1</td>\n",
       "      <td>0</td>\n",
       "      <td>1</td>\n",
       "      <td>112542.58</td>\n",
       "      <td>0</td>\n",
       "    </tr>\n",
       "    <tr>\n",
       "      <th>2</th>\n",
       "      <td>3</td>\n",
       "      <td>15619304</td>\n",
       "      <td>Onio</td>\n",
       "      <td>502</td>\n",
       "      <td>France</td>\n",
       "      <td>Female</td>\n",
       "      <td>42</td>\n",
       "      <td>8.0</td>\n",
       "      <td>159660.80</td>\n",
       "      <td>3</td>\n",
       "      <td>1</td>\n",
       "      <td>0</td>\n",
       "      <td>113931.57</td>\n",
       "      <td>1</td>\n",
       "    </tr>\n",
       "    <tr>\n",
       "      <th>3</th>\n",
       "      <td>4</td>\n",
       "      <td>15701354</td>\n",
       "      <td>Boni</td>\n",
       "      <td>699</td>\n",
       "      <td>France</td>\n",
       "      <td>Female</td>\n",
       "      <td>39</td>\n",
       "      <td>1.0</td>\n",
       "      <td>0.00</td>\n",
       "      <td>2</td>\n",
       "      <td>0</td>\n",
       "      <td>0</td>\n",
       "      <td>93826.63</td>\n",
       "      <td>0</td>\n",
       "    </tr>\n",
       "    <tr>\n",
       "      <th>4</th>\n",
       "      <td>5</td>\n",
       "      <td>15737888</td>\n",
       "      <td>Mitchell</td>\n",
       "      <td>850</td>\n",
       "      <td>Spain</td>\n",
       "      <td>Female</td>\n",
       "      <td>43</td>\n",
       "      <td>2.0</td>\n",
       "      <td>125510.82</td>\n",
       "      <td>1</td>\n",
       "      <td>1</td>\n",
       "      <td>1</td>\n",
       "      <td>79084.10</td>\n",
       "      <td>0</td>\n",
       "    </tr>\n",
       "    <tr>\n",
       "      <th>5</th>\n",
       "      <td>6</td>\n",
       "      <td>15574012</td>\n",
       "      <td>Chu</td>\n",
       "      <td>645</td>\n",
       "      <td>Spain</td>\n",
       "      <td>Male</td>\n",
       "      <td>44</td>\n",
       "      <td>8.0</td>\n",
       "      <td>113755.78</td>\n",
       "      <td>2</td>\n",
       "      <td>1</td>\n",
       "      <td>0</td>\n",
       "      <td>149756.71</td>\n",
       "      <td>1</td>\n",
       "    </tr>\n",
       "    <tr>\n",
       "      <th>6</th>\n",
       "      <td>7</td>\n",
       "      <td>15592531</td>\n",
       "      <td>Bartlett</td>\n",
       "      <td>822</td>\n",
       "      <td>France</td>\n",
       "      <td>Male</td>\n",
       "      <td>50</td>\n",
       "      <td>7.0</td>\n",
       "      <td>0.00</td>\n",
       "      <td>2</td>\n",
       "      <td>1</td>\n",
       "      <td>1</td>\n",
       "      <td>10062.80</td>\n",
       "      <td>0</td>\n",
       "    </tr>\n",
       "    <tr>\n",
       "      <th>7</th>\n",
       "      <td>8</td>\n",
       "      <td>15656148</td>\n",
       "      <td>Obinna</td>\n",
       "      <td>376</td>\n",
       "      <td>Germany</td>\n",
       "      <td>Female</td>\n",
       "      <td>29</td>\n",
       "      <td>4.0</td>\n",
       "      <td>115046.74</td>\n",
       "      <td>4</td>\n",
       "      <td>1</td>\n",
       "      <td>0</td>\n",
       "      <td>119346.88</td>\n",
       "      <td>1</td>\n",
       "    </tr>\n",
       "    <tr>\n",
       "      <th>8</th>\n",
       "      <td>9</td>\n",
       "      <td>15792365</td>\n",
       "      <td>He</td>\n",
       "      <td>501</td>\n",
       "      <td>France</td>\n",
       "      <td>Male</td>\n",
       "      <td>44</td>\n",
       "      <td>4.0</td>\n",
       "      <td>142051.07</td>\n",
       "      <td>2</td>\n",
       "      <td>0</td>\n",
       "      <td>1</td>\n",
       "      <td>74940.50</td>\n",
       "      <td>0</td>\n",
       "    </tr>\n",
       "    <tr>\n",
       "      <th>9</th>\n",
       "      <td>10</td>\n",
       "      <td>15592389</td>\n",
       "      <td>H?</td>\n",
       "      <td>684</td>\n",
       "      <td>France</td>\n",
       "      <td>Male</td>\n",
       "      <td>27</td>\n",
       "      <td>2.0</td>\n",
       "      <td>134603.88</td>\n",
       "      <td>1</td>\n",
       "      <td>1</td>\n",
       "      <td>1</td>\n",
       "      <td>71725.73</td>\n",
       "      <td>0</td>\n",
       "    </tr>\n",
       "  </tbody>\n",
       "</table>\n",
       "</div>"
      ],
      "text/plain": [
       "   RowNumber  CustomerId   Surname  CreditScore Geography  Gender  Age  \\\n",
       "0          1    15634602  Hargrave          619    France  Female   42   \n",
       "1          2    15647311      Hill          608     Spain  Female   41   \n",
       "2          3    15619304      Onio          502    France  Female   42   \n",
       "3          4    15701354      Boni          699    France  Female   39   \n",
       "4          5    15737888  Mitchell          850     Spain  Female   43   \n",
       "5          6    15574012       Chu          645     Spain    Male   44   \n",
       "6          7    15592531  Bartlett          822    France    Male   50   \n",
       "7          8    15656148    Obinna          376   Germany  Female   29   \n",
       "8          9    15792365        He          501    France    Male   44   \n",
       "9         10    15592389        H?          684    France    Male   27   \n",
       "\n",
       "   Tenure    Balance  NumOfProducts  HasCrCard  IsActiveMember  \\\n",
       "0     2.0       0.00              1          1               1   \n",
       "1     1.0   83807.86              1          0               1   \n",
       "2     8.0  159660.80              3          1               0   \n",
       "3     1.0       0.00              2          0               0   \n",
       "4     2.0  125510.82              1          1               1   \n",
       "5     8.0  113755.78              2          1               0   \n",
       "6     7.0       0.00              2          1               1   \n",
       "7     4.0  115046.74              4          1               0   \n",
       "8     4.0  142051.07              2          0               1   \n",
       "9     2.0  134603.88              1          1               1   \n",
       "\n",
       "   EstimatedSalary  Exited  \n",
       "0        101348.88       1  \n",
       "1        112542.58       0  \n",
       "2        113931.57       1  \n",
       "3         93826.63       0  \n",
       "4         79084.10       0  \n",
       "5        149756.71       1  \n",
       "6         10062.80       0  \n",
       "7        119346.88       1  \n",
       "8         74940.50       0  \n",
       "9         71725.73       0  "
      ]
     },
     "execution_count": 4,
     "metadata": {},
     "output_type": "execute_result"
    }
   ],
   "source": [
    "df.head(10)"
   ]
  },
  {
   "cell_type": "code",
   "execution_count": 5,
   "id": "b8ad2aa6",
   "metadata": {
    "ExecuteTime": {
     "end_time": "2023-04-16T15:49:48.724883Z",
     "start_time": "2023-04-16T15:49:48.695624Z"
    }
   },
   "outputs": [
    {
     "name": "stdout",
     "output_type": "stream",
     "text": [
      "<class 'pandas.core.frame.DataFrame'>\n",
      "RangeIndex: 10000 entries, 0 to 9999\n",
      "Data columns (total 14 columns):\n",
      " #   Column           Non-Null Count  Dtype  \n",
      "---  ------           --------------  -----  \n",
      " 0   RowNumber        10000 non-null  int64  \n",
      " 1   CustomerId       10000 non-null  int64  \n",
      " 2   Surname          10000 non-null  object \n",
      " 3   CreditScore      10000 non-null  int64  \n",
      " 4   Geography        10000 non-null  object \n",
      " 5   Gender           10000 non-null  object \n",
      " 6   Age              10000 non-null  int64  \n",
      " 7   Tenure           9091 non-null   float64\n",
      " 8   Balance          10000 non-null  float64\n",
      " 9   NumOfProducts    10000 non-null  int64  \n",
      " 10  HasCrCard        10000 non-null  int64  \n",
      " 11  IsActiveMember   10000 non-null  int64  \n",
      " 12  EstimatedSalary  10000 non-null  float64\n",
      " 13  Exited           10000 non-null  int64  \n",
      "dtypes: float64(3), int64(8), object(3)\n",
      "memory usage: 1.1+ MB\n"
     ]
    }
   ],
   "source": [
    "df.info()"
   ]
  },
  {
   "cell_type": "markdown",
   "id": "f1a1ed43",
   "metadata": {},
   "source": [
    "### Описание данных"
   ]
  },
  {
   "cell_type": "markdown",
   "id": "687d554a",
   "metadata": {},
   "source": [
    "Признаки\n",
    "- `RowNumber` — индекс строки в данных\n",
    "- `CustomerId` — уникальный идентификатор клиента\n",
    "- `Surname` — фамилия\n",
    "- `CreditScore` — кредитный рейтинг\n",
    "- `Geography` — страна проживания\n",
    "- `Gender` — пол\n",
    "- `Age` — возраст\n",
    "- `Tenure` — сколько лет человек является клиентом банка\n",
    "- `Balance` — баланс на счёте\n",
    "- `NumOfProducts` — количество продуктов банка, используемых клиентом\n",
    "- `HasCrCard` — наличие кредитной карты\n",
    "- `IsActiveMember` — активность клиента\n",
    "- `EstimatedSalary` — предполагаемая зарплата\n",
    "\n",
    "Целевой признак\n",
    "- `Exited` — факт ухода клиента"
   ]
  },
  {
   "cell_type": "markdown",
   "id": "5af17a6b",
   "metadata": {},
   "source": [
    "### Предобработка данных"
   ]
  },
  {
   "cell_type": "markdown",
   "id": "89e76072",
   "metadata": {},
   "source": [
    "Для удобства переименовываю столбцы - убираю верблюжий регистр. Столбец `RowNumber` - индекс строки - не нужен для исследования и обучения, удаляю его. Фамилия тоже не нужна."
   ]
  },
  {
   "cell_type": "code",
   "execution_count": 6,
   "id": "0c353a23",
   "metadata": {
    "ExecuteTime": {
     "end_time": "2023-04-16T15:49:48.740107Z",
     "start_time": "2023-04-16T15:49:48.726881Z"
    }
   },
   "outputs": [],
   "source": [
    "df = df.drop(columns=['RowNumber', 'Surname'], axis=1)"
   ]
  },
  {
   "cell_type": "code",
   "execution_count": 7,
   "id": "bd5a913f",
   "metadata": {
    "ExecuteTime": {
     "end_time": "2023-04-16T15:49:48.771608Z",
     "start_time": "2023-04-16T15:49:48.742654Z"
    }
   },
   "outputs": [
    {
     "data": {
      "text/html": [
       "<div>\n",
       "<style scoped>\n",
       "    .dataframe tbody tr th:only-of-type {\n",
       "        vertical-align: middle;\n",
       "    }\n",
       "\n",
       "    .dataframe tbody tr th {\n",
       "        vertical-align: top;\n",
       "    }\n",
       "\n",
       "    .dataframe thead th {\n",
       "        text-align: right;\n",
       "    }\n",
       "</style>\n",
       "<table border=\"1\" class=\"dataframe\">\n",
       "  <thead>\n",
       "    <tr style=\"text-align: right;\">\n",
       "      <th></th>\n",
       "      <th>CustomerId</th>\n",
       "      <th>CreditScore</th>\n",
       "      <th>Geography</th>\n",
       "      <th>Gender</th>\n",
       "      <th>Age</th>\n",
       "      <th>Tenure</th>\n",
       "      <th>Balance</th>\n",
       "      <th>NumOfProducts</th>\n",
       "      <th>HasCrCard</th>\n",
       "      <th>IsActiveMember</th>\n",
       "      <th>EstimatedSalary</th>\n",
       "      <th>Exited</th>\n",
       "    </tr>\n",
       "  </thead>\n",
       "  <tbody>\n",
       "    <tr>\n",
       "      <th>0</th>\n",
       "      <td>15634602</td>\n",
       "      <td>619</td>\n",
       "      <td>France</td>\n",
       "      <td>Female</td>\n",
       "      <td>42</td>\n",
       "      <td>2.0</td>\n",
       "      <td>0.00</td>\n",
       "      <td>1</td>\n",
       "      <td>1</td>\n",
       "      <td>1</td>\n",
       "      <td>101348.88</td>\n",
       "      <td>1</td>\n",
       "    </tr>\n",
       "    <tr>\n",
       "      <th>1</th>\n",
       "      <td>15647311</td>\n",
       "      <td>608</td>\n",
       "      <td>Spain</td>\n",
       "      <td>Female</td>\n",
       "      <td>41</td>\n",
       "      <td>1.0</td>\n",
       "      <td>83807.86</td>\n",
       "      <td>1</td>\n",
       "      <td>0</td>\n",
       "      <td>1</td>\n",
       "      <td>112542.58</td>\n",
       "      <td>0</td>\n",
       "    </tr>\n",
       "    <tr>\n",
       "      <th>2</th>\n",
       "      <td>15619304</td>\n",
       "      <td>502</td>\n",
       "      <td>France</td>\n",
       "      <td>Female</td>\n",
       "      <td>42</td>\n",
       "      <td>8.0</td>\n",
       "      <td>159660.80</td>\n",
       "      <td>3</td>\n",
       "      <td>1</td>\n",
       "      <td>0</td>\n",
       "      <td>113931.57</td>\n",
       "      <td>1</td>\n",
       "    </tr>\n",
       "    <tr>\n",
       "      <th>3</th>\n",
       "      <td>15701354</td>\n",
       "      <td>699</td>\n",
       "      <td>France</td>\n",
       "      <td>Female</td>\n",
       "      <td>39</td>\n",
       "      <td>1.0</td>\n",
       "      <td>0.00</td>\n",
       "      <td>2</td>\n",
       "      <td>0</td>\n",
       "      <td>0</td>\n",
       "      <td>93826.63</td>\n",
       "      <td>0</td>\n",
       "    </tr>\n",
       "    <tr>\n",
       "      <th>4</th>\n",
       "      <td>15737888</td>\n",
       "      <td>850</td>\n",
       "      <td>Spain</td>\n",
       "      <td>Female</td>\n",
       "      <td>43</td>\n",
       "      <td>2.0</td>\n",
       "      <td>125510.82</td>\n",
       "      <td>1</td>\n",
       "      <td>1</td>\n",
       "      <td>1</td>\n",
       "      <td>79084.10</td>\n",
       "      <td>0</td>\n",
       "    </tr>\n",
       "  </tbody>\n",
       "</table>\n",
       "</div>"
      ],
      "text/plain": [
       "   CustomerId  CreditScore Geography  Gender  Age  Tenure    Balance  \\\n",
       "0    15634602          619    France  Female   42     2.0       0.00   \n",
       "1    15647311          608     Spain  Female   41     1.0   83807.86   \n",
       "2    15619304          502    France  Female   42     8.0  159660.80   \n",
       "3    15701354          699    France  Female   39     1.0       0.00   \n",
       "4    15737888          850     Spain  Female   43     2.0  125510.82   \n",
       "\n",
       "   NumOfProducts  HasCrCard  IsActiveMember  EstimatedSalary  Exited  \n",
       "0              1          1               1        101348.88       1  \n",
       "1              1          0               1        112542.58       0  \n",
       "2              3          1               0        113931.57       1  \n",
       "3              2          0               0         93826.63       0  \n",
       "4              1          1               1         79084.10       0  "
      ]
     },
     "execution_count": 7,
     "metadata": {},
     "output_type": "execute_result"
    }
   ],
   "source": [
    "df.head()"
   ]
  },
  {
   "cell_type": "code",
   "execution_count": 8,
   "id": "2fa7257b",
   "metadata": {
    "ExecuteTime": {
     "end_time": "2023-04-16T15:49:48.787536Z",
     "start_time": "2023-04-16T15:49:48.774569Z"
    }
   },
   "outputs": [
    {
     "data": {
      "text/plain": [
       "10000"
      ]
     },
     "execution_count": 8,
     "metadata": {},
     "output_type": "execute_result"
    }
   ],
   "source": [
    "len(df['CustomerId'].unique())"
   ]
  },
  {
   "cell_type": "markdown",
   "id": "eb84e58c",
   "metadata": {},
   "source": [
    "Все ID клиентов уникальны, значит дубликатов в таблице нет."
   ]
  },
  {
   "cell_type": "code",
   "execution_count": 9,
   "id": "f2b89235",
   "metadata": {
    "ExecuteTime": {
     "end_time": "2023-04-16T15:49:48.803493Z",
     "start_time": "2023-04-16T15:49:48.790526Z"
    }
   },
   "outputs": [],
   "source": [
    "df.columns = ['customer_id', 'credit_score', 'geography', 'gender', 'age', 'tenure', 'balance', 'num_of_products', 'has_cr_card', 'is_active', 'salary', 'exited']"
   ]
  },
  {
   "cell_type": "code",
   "execution_count": 10,
   "id": "ead7d2f8",
   "metadata": {
    "ExecuteTime": {
     "end_time": "2023-04-16T15:49:48.834412Z",
     "start_time": "2023-04-16T15:49:48.808478Z"
    }
   },
   "outputs": [
    {
     "data": {
      "text/html": [
       "<div>\n",
       "<style scoped>\n",
       "    .dataframe tbody tr th:only-of-type {\n",
       "        vertical-align: middle;\n",
       "    }\n",
       "\n",
       "    .dataframe tbody tr th {\n",
       "        vertical-align: top;\n",
       "    }\n",
       "\n",
       "    .dataframe thead th {\n",
       "        text-align: right;\n",
       "    }\n",
       "</style>\n",
       "<table border=\"1\" class=\"dataframe\">\n",
       "  <thead>\n",
       "    <tr style=\"text-align: right;\">\n",
       "      <th></th>\n",
       "      <th>customer_id</th>\n",
       "      <th>credit_score</th>\n",
       "      <th>geography</th>\n",
       "      <th>gender</th>\n",
       "      <th>age</th>\n",
       "      <th>tenure</th>\n",
       "      <th>balance</th>\n",
       "      <th>num_of_products</th>\n",
       "      <th>has_cr_card</th>\n",
       "      <th>is_active</th>\n",
       "      <th>salary</th>\n",
       "      <th>exited</th>\n",
       "    </tr>\n",
       "  </thead>\n",
       "  <tbody>\n",
       "    <tr>\n",
       "      <th>0</th>\n",
       "      <td>15634602</td>\n",
       "      <td>619</td>\n",
       "      <td>France</td>\n",
       "      <td>Female</td>\n",
       "      <td>42</td>\n",
       "      <td>2.0</td>\n",
       "      <td>0.00</td>\n",
       "      <td>1</td>\n",
       "      <td>1</td>\n",
       "      <td>1</td>\n",
       "      <td>101348.88</td>\n",
       "      <td>1</td>\n",
       "    </tr>\n",
       "    <tr>\n",
       "      <th>1</th>\n",
       "      <td>15647311</td>\n",
       "      <td>608</td>\n",
       "      <td>Spain</td>\n",
       "      <td>Female</td>\n",
       "      <td>41</td>\n",
       "      <td>1.0</td>\n",
       "      <td>83807.86</td>\n",
       "      <td>1</td>\n",
       "      <td>0</td>\n",
       "      <td>1</td>\n",
       "      <td>112542.58</td>\n",
       "      <td>0</td>\n",
       "    </tr>\n",
       "    <tr>\n",
       "      <th>2</th>\n",
       "      <td>15619304</td>\n",
       "      <td>502</td>\n",
       "      <td>France</td>\n",
       "      <td>Female</td>\n",
       "      <td>42</td>\n",
       "      <td>8.0</td>\n",
       "      <td>159660.80</td>\n",
       "      <td>3</td>\n",
       "      <td>1</td>\n",
       "      <td>0</td>\n",
       "      <td>113931.57</td>\n",
       "      <td>1</td>\n",
       "    </tr>\n",
       "    <tr>\n",
       "      <th>3</th>\n",
       "      <td>15701354</td>\n",
       "      <td>699</td>\n",
       "      <td>France</td>\n",
       "      <td>Female</td>\n",
       "      <td>39</td>\n",
       "      <td>1.0</td>\n",
       "      <td>0.00</td>\n",
       "      <td>2</td>\n",
       "      <td>0</td>\n",
       "      <td>0</td>\n",
       "      <td>93826.63</td>\n",
       "      <td>0</td>\n",
       "    </tr>\n",
       "    <tr>\n",
       "      <th>4</th>\n",
       "      <td>15737888</td>\n",
       "      <td>850</td>\n",
       "      <td>Spain</td>\n",
       "      <td>Female</td>\n",
       "      <td>43</td>\n",
       "      <td>2.0</td>\n",
       "      <td>125510.82</td>\n",
       "      <td>1</td>\n",
       "      <td>1</td>\n",
       "      <td>1</td>\n",
       "      <td>79084.10</td>\n",
       "      <td>0</td>\n",
       "    </tr>\n",
       "  </tbody>\n",
       "</table>\n",
       "</div>"
      ],
      "text/plain": [
       "   customer_id  credit_score geography  gender  age  tenure    balance  \\\n",
       "0     15634602           619    France  Female   42     2.0       0.00   \n",
       "1     15647311           608     Spain  Female   41     1.0   83807.86   \n",
       "2     15619304           502    France  Female   42     8.0  159660.80   \n",
       "3     15701354           699    France  Female   39     1.0       0.00   \n",
       "4     15737888           850     Spain  Female   43     2.0  125510.82   \n",
       "\n",
       "   num_of_products  has_cr_card  is_active     salary  exited  \n",
       "0                1            1          1  101348.88       1  \n",
       "1                1            0          1  112542.58       0  \n",
       "2                3            1          0  113931.57       1  \n",
       "3                2            0          0   93826.63       0  \n",
       "4                1            1          1   79084.10       0  "
      ]
     },
     "execution_count": 10,
     "metadata": {},
     "output_type": "execute_result"
    }
   ],
   "source": [
    "df.head()"
   ]
  },
  {
   "cell_type": "markdown",
   "id": "d5641739",
   "metadata": {},
   "source": [
    "Значения баланса и заработной платы можно округлить и перевести в целые числа."
   ]
  },
  {
   "cell_type": "code",
   "execution_count": 11,
   "id": "bfa8bab2",
   "metadata": {
    "ExecuteTime": {
     "end_time": "2023-04-16T15:49:48.850400Z",
     "start_time": "2023-04-16T15:49:48.837400Z"
    }
   },
   "outputs": [],
   "source": [
    "df['balance'] = np.ceil(df['balance'])\n",
    "df['salary'] = np.ceil(df['salary'])\n",
    "df[['balance', 'salary']] = df[['balance', 'salary']].astype('int64')"
   ]
  },
  {
   "cell_type": "code",
   "execution_count": 12,
   "id": "dff0f267",
   "metadata": {
    "ExecuteTime": {
     "end_time": "2023-04-16T15:49:49.216388Z",
     "start_time": "2023-04-16T15:49:48.852362Z"
    }
   },
   "outputs": [
    {
     "data": {
      "image/png": "[encoded data removed]",
      "text/plain": [
       "<Figure size 402.375x360 with 1 Axes>"
      ]
     },
     "metadata": {
      "needs_background": "light"
     },
     "output_type": "display_data"
    }
   ],
   "source": [
    "sns.catplot(data=df, x='geography', kind='count', hue='exited')\n",
    "plt.show()"
   ]
  },
  {
   "cell_type": "markdown",
   "id": "dedadc8e",
   "metadata": {},
   "source": [
    "Больше всего клиентов во Франции. Интересно, что в Германии клиентов намного меньше, но ушедших практически столько же, сколько во Франции."
   ]
  },
  {
   "cell_type": "code",
   "execution_count": 13,
   "id": "4926a5c6",
   "metadata": {
    "ExecuteTime": {
     "end_time": "2023-04-16T15:49:49.437947Z",
     "start_time": "2023-04-16T15:49:49.218384Z"
    }
   },
   "outputs": [
    {
     "data": {
      "image/png": "[encoded data removed]",
      "text/plain": [
       "<Figure size 402.375x360 with 1 Axes>"
      ]
     },
     "metadata": {
      "needs_background": "light"
     },
     "output_type": "display_data"
    }
   ],
   "source": [
    "sns.catplot(data=df, x='gender', kind='count', hue='exited')\n",
    "plt.show()"
   ]
  },
  {
   "cell_type": "markdown",
   "id": "0be871fe",
   "metadata": {},
   "source": [
    "Среди клиентов больше мужчин, но среди ушедших клиентов - больше женщин."
   ]
  },
  {
   "cell_type": "code",
   "execution_count": 14,
   "id": "b9f8eae7",
   "metadata": {
    "ExecuteTime": {
     "end_time": "2023-04-16T15:49:49.706777Z",
     "start_time": "2023-04-16T15:49:49.444979Z"
    }
   },
   "outputs": [
    {
     "data": {
      "image/png": "[encoded data removed]",
      "text/plain": [
       "<Figure size 402.375x360 with 1 Axes>"
      ]
     },
     "metadata": {
      "needs_background": "light"
     },
     "output_type": "display_data"
    }
   ],
   "source": [
    "sns.catplot(data=df, x='num_of_products', kind='count', hue='exited')\n",
    "plt.show()"
   ]
  },
  {
   "cell_type": "markdown",
   "id": "4d5a9a7a",
   "metadata": {},
   "source": [
    "Почему-то клиенты, использующие 3 и 4 продукта в банке, в большинстве своём перестали пользоваться его услугами. В то же время, судя по отношению ушедших к оставшимся, самые довольные - клиенты с двумя продуктами."
   ]
  },
  {
   "cell_type": "code",
   "execution_count": 15,
   "id": "73eca909",
   "metadata": {
    "ExecuteTime": {
     "end_time": "2023-04-16T15:49:49.929355Z",
     "start_time": "2023-04-16T15:49:49.708774Z"
    }
   },
   "outputs": [
    {
     "data": {
      "image/png": "[encoded data removed]",
      "text/plain": [
       "<Figure size 402.375x360 with 1 Axes>"
      ]
     },
     "metadata": {
      "needs_background": "light"
     },
     "output_type": "display_data"
    }
   ],
   "source": [
    "sns.catplot(data=df, x='has_cr_card', kind='count', hue='exited')\n",
    "plt.show()"
   ]
  },
  {
   "cell_type": "markdown",
   "id": "314d05fd",
   "metadata": {},
   "source": [
    "Большинство клиентов пользуются кредитной картой."
   ]
  },
  {
   "cell_type": "code",
   "execution_count": 16,
   "id": "09bfd591",
   "metadata": {
    "ExecuteTime": {
     "end_time": "2023-04-16T15:49:50.133839Z",
     "start_time": "2023-04-16T15:49:49.931716Z"
    }
   },
   "outputs": [
    {
     "data": {
      "image/png": "[encoded data removed]",
      "text/plain": [
       "<Figure size 402.375x360 with 1 Axes>"
      ]
     },
     "metadata": {
      "needs_background": "light"
     },
     "output_type": "display_data"
    }
   ],
   "source": [
    "sns.catplot(data=df, x='is_active', kind='count', hue='exited')\n",
    "plt.show()"
   ]
  },
  {
   "cell_type": "markdown",
   "id": "92074c0c",
   "metadata": {},
   "source": [
    "Среди неактивных клиентов больше тех, кто ушёл, что логично."
   ]
  },
  {
   "cell_type": "code",
   "execution_count": 17,
   "id": "063a860d",
   "metadata": {
    "ExecuteTime": {
     "end_time": "2023-04-16T15:49:50.435838Z",
     "start_time": "2023-04-16T15:49:50.135835Z"
    }
   },
   "outputs": [
    {
     "data": {
      "image/png": "[encoded data removed]",
      "text/plain": [
       "<Figure size 402.375x360 with 1 Axes>"
      ]
     },
     "metadata": {
      "needs_background": "light"
     },
     "output_type": "display_data"
    }
   ],
   "source": [
    "sns.displot(df, x=\"age\", hue=\"exited\", kind=\"kde\", fill=True)\n",
    "plt.show()"
   ]
  },
  {
   "cell_type": "code",
   "execution_count": 18,
   "id": "fe0b0399",
   "metadata": {
    "ExecuteTime": {
     "end_time": "2023-04-16T15:49:50.609097Z",
     "start_time": "2023-04-16T15:49:50.437828Z"
    }
   },
   "outputs": [
    {
     "data": {
      "image/png": "[encoded data removed]",
      "text/plain": [
       "<Figure size 360x360 with 1 Axes>"
      ]
     },
     "metadata": {
      "needs_background": "light"
     },
     "output_type": "display_data"
    }
   ],
   "source": [
    "sns.catplot(data=df, x=\"exited\", y=\"age\", kind=\"box\")\n",
    "plt.show()"
   ]
  },
  {
   "cell_type": "markdown",
   "id": "e0f5fcb3",
   "metadata": {},
   "source": [
    "Средний возраст ушедших клиентов больше, чем оставшихся. "
   ]
  },
  {
   "cell_type": "code",
   "execution_count": 19,
   "id": "c78c4505",
   "metadata": {
    "ExecuteTime": {
     "end_time": "2023-04-16T15:49:50.640539Z",
     "start_time": "2023-04-16T15:49:50.614092Z"
    }
   },
   "outputs": [
    {
     "data": {
      "text/plain": [
       "count    10000.000000\n",
       "mean        38.921800\n",
       "std         10.487806\n",
       "min         18.000000\n",
       "25%         32.000000\n",
       "50%         37.000000\n",
       "75%         44.000000\n",
       "max         92.000000\n",
       "Name: age, dtype: float64"
      ]
     },
     "execution_count": 19,
     "metadata": {},
     "output_type": "execute_result"
    }
   ],
   "source": [
    "df['age'].describe()"
   ]
  },
  {
   "cell_type": "code",
   "execution_count": 20,
   "id": "33176726",
   "metadata": {
    "ExecuteTime": {
     "end_time": "2023-04-16T15:49:51.068493Z",
     "start_time": "2023-04-16T15:49:50.643569Z"
    }
   },
   "outputs": [
    {
     "data": {
      "image/png": "[encoded data removed]",
      "text/plain": [
       "<Figure size 402.375x360 with 1 Axes>"
      ]
     },
     "metadata": {
      "needs_background": "light"
     },
     "output_type": "display_data"
    }
   ],
   "source": [
    "sns.displot(df, x=\"credit_score\", hue=\"exited\", bins=30, kde=True)\n",
    "plt.show()"
   ]
  },
  {
   "cell_type": "markdown",
   "id": "d562f860",
   "metadata": {},
   "source": [
    "Распределение кредитного рейтинга похоже для ушедших и действующих клиентов. Есть всплеск количества клиентов с высоким значением рейтинга. Клиенты с рейтингом ниже 400 ушли из банка."
   ]
  },
  {
   "cell_type": "code",
   "execution_count": 21,
   "id": "35acdeb5",
   "metadata": {
    "ExecuteTime": {
     "end_time": "2023-04-16T15:49:51.367993Z",
     "start_time": "2023-04-16T15:49:51.070452Z"
    }
   },
   "outputs": [
    {
     "data": {
      "image/png": "[encoded data removed]",
      "text/plain": [
       "<Figure size 402.375x360 with 1 Axes>"
      ]
     },
     "metadata": {
      "needs_background": "light"
     },
     "output_type": "display_data"
    }
   ],
   "source": [
    "sns.displot(df, x=\"tenure\", hue=\"exited\", bins=11)\n",
    "plt.show()"
   ]
  },
  {
   "cell_type": "markdown",
   "id": "29d34640",
   "metadata": {},
   "source": [
    "Распределение ушедших клиентов среди клиентов с различным стажем примерно одинаковое."
   ]
  },
  {
   "cell_type": "code",
   "execution_count": 22,
   "id": "0ce3e6b5",
   "metadata": {
    "ExecuteTime": {
     "end_time": "2023-04-16T15:49:51.716627Z",
     "start_time": "2023-04-16T15:49:51.369990Z"
    }
   },
   "outputs": [
    {
     "data": {
      "image/png": "[encoded data removed]",
      "text/plain": [
       "<Figure size 402.375x360 with 1 Axes>"
      ]
     },
     "metadata": {
      "needs_background": "light"
     },
     "output_type": "display_data"
    }
   ],
   "source": [
    "sns.displot(df, x=\"balance\", hue=\"exited\", kde=True)\n",
    "plt.show()"
   ]
  },
  {
   "cell_type": "code",
   "execution_count": 23,
   "id": "f31c1ec5",
   "metadata": {
    "ExecuteTime": {
     "end_time": "2023-04-16T15:49:51.732612Z",
     "start_time": "2023-04-16T15:49:51.718621Z"
    }
   },
   "outputs": [
    {
     "data": {
      "text/plain": [
       "count     10000.000000\n",
       "mean      76486.202500\n",
       "std       62397.623623\n",
       "min           0.000000\n",
       "25%           0.000000\n",
       "50%       97199.000000\n",
       "75%      127644.750000\n",
       "max      250899.000000\n",
       "Name: balance, dtype: float64"
      ]
     },
     "execution_count": 23,
     "metadata": {},
     "output_type": "execute_result"
    }
   ],
   "source": [
    "df['balance'].describe()"
   ]
  },
  {
   "cell_type": "code",
   "execution_count": 24,
   "id": "ba5b555e",
   "metadata": {
    "ExecuteTime": {
     "end_time": "2023-04-16T15:49:51.907605Z",
     "start_time": "2023-04-16T15:49:51.734579Z"
    }
   },
   "outputs": [
    {
     "data": {
      "image/png": "[encoded data removed]",
      "text/plain": [
       "<Figure size 360x360 with 1 Axes>"
      ]
     },
     "metadata": {
      "needs_background": "light"
     },
     "output_type": "display_data"
    }
   ],
   "source": [
    "sns.catplot(data=df, x=\"exited\", y=\"balance\", kind=\"box\")\n",
    "plt.show()"
   ]
  },
  {
   "cell_type": "code",
   "execution_count": 25,
   "id": "6e65ed35",
   "metadata": {
    "ExecuteTime": {
     "end_time": "2023-04-16T15:49:51.923596Z",
     "start_time": "2023-04-16T15:49:51.908603Z"
    }
   },
   "outputs": [
    {
     "data": {
      "text/plain": [
       "0.3617"
      ]
     },
     "execution_count": 25,
     "metadata": {},
     "output_type": "execute_result"
    }
   ],
   "source": [
    "np.mean(df['balance'] == 0)"
   ]
  },
  {
   "cell_type": "markdown",
   "id": "4fa73e97",
   "metadata": {},
   "source": [
    "Всплеск в нулевых значениях баланса. Клиентов с отсутствием денег на счету около 36%. Посмотрим, что это за клиенты\n"
   ]
  },
  {
   "cell_type": "code",
   "execution_count": 26,
   "id": "5680c038",
   "metadata": {
    "ExecuteTime": {
     "end_time": "2023-04-16T15:49:52.175320Z",
     "start_time": "2023-04-16T15:49:51.924604Z"
    }
   },
   "outputs": [
    {
     "data": {
      "image/png": "[encoded data removed]",
      "text/plain": [
       "<Figure size 402.375x360 with 1 Axes>"
      ]
     },
     "metadata": {
      "needs_background": "light"
     },
     "output_type": "display_data"
    }
   ],
   "source": [
    "sns.catplot(data=df[df['balance'] == 0] , x='is_active', kind='count', hue='exited')\n",
    "plt.title('Клиенты с нулевым балансом, активность')\n",
    "plt.show()"
   ]
  },
  {
   "cell_type": "markdown",
   "id": "47eecea4",
   "metadata": {},
   "source": [
    "Активность клиентов с нулевым балансом не особо отличается от общей картины"
   ]
  },
  {
   "cell_type": "code",
   "execution_count": 27,
   "id": "c63ac327",
   "metadata": {
    "ExecuteTime": {
     "end_time": "2023-04-16T15:49:52.460586Z",
     "start_time": "2023-04-16T15:49:52.176314Z"
    }
   },
   "outputs": [
    {
     "data": {
      "image/png": "[encoded data removed]",
      "text/plain": [
       "<Figure size 402.375x360 with 1 Axes>"
      ]
     },
     "metadata": {
      "needs_background": "light"
     },
     "output_type": "display_data"
    }
   ],
   "source": [
    "sns.displot(df[df['balance'] == 0], x=\"tenure\", hue=\"exited\", bins=11)\n",
    "plt.title('Клиенты с нулевым балансом, стаж')\n",
    "plt.show()"
   ]
  },
  {
   "cell_type": "markdown",
   "id": "9c7b4ef5",
   "metadata": {},
   "source": [
    "Распределение по стажу в выборке клиентов с нулевым балансом похоже на общую картину, хотя здесь количество ушедших клиентов имеет тенденцию к снижению с увеличением стажа."
   ]
  },
  {
   "cell_type": "code",
   "execution_count": 28,
   "id": "0c3537dc",
   "metadata": {
    "ExecuteTime": {
     "end_time": "2023-04-16T15:49:52.682066Z",
     "start_time": "2023-04-16T15:49:52.469564Z"
    }
   },
   "outputs": [
    {
     "data": {
      "image/png": "[encoded data removed]",
      "text/plain": [
       "<Figure size 402.375x360 with 1 Axes>"
      ]
     },
     "metadata": {
      "needs_background": "light"
     },
     "output_type": "display_data"
    }
   ],
   "source": [
    "sns.catplot(data=df[df['balance'] == 0], x='has_cr_card', kind='count', hue='exited')\n",
    "plt.title('Клиенты с нулевым балансом, наличие кредитки')\n",
    "plt.show()"
   ]
  },
  {
   "cell_type": "markdown",
   "id": "e7a70a61",
   "metadata": {},
   "source": [
    "Большинство клиентов с нулевым балансом пользуются кредитными картами, то есть возможно они пользуются услугами банка ради кредитной карты, а деньги на счету имеют в другом банке.\n",
    "\n",
    "Тем не менее есть и такие клиенты, которые кредитной картой не пользуются, и баланс у них на нуле."
   ]
  },
  {
   "cell_type": "code",
   "execution_count": 29,
   "id": "ab790c7b",
   "metadata": {
    "ExecuteTime": {
     "end_time": "2023-04-16T15:49:52.697965Z",
     "start_time": "2023-04-16T15:49:52.686964Z"
    }
   },
   "outputs": [
    {
     "data": {
      "text/plain": [
       "334"
      ]
     },
     "execution_count": 29,
     "metadata": {},
     "output_type": "execute_result"
    }
   ],
   "source": [
    "df[(df['balance'] == 0) & (df['tenure'].isna())]['balance'].count()"
   ]
  },
  {
   "cell_type": "code",
   "execution_count": 30,
   "id": "41d13ce2",
   "metadata": {
    "ExecuteTime": {
     "end_time": "2023-04-16T15:49:52.713889Z",
     "start_time": "2023-04-16T15:49:52.699926Z"
    }
   },
   "outputs": [
    {
     "data": {
      "text/plain": [
       "48"
      ]
     },
     "execution_count": 30,
     "metadata": {},
     "output_type": "execute_result"
    }
   ],
   "source": [
    "df[(df['balance'] == 0) & (df['tenure'].isna()) & (df['exited'] == 1)]['balance'].count()"
   ]
  },
  {
   "cell_type": "code",
   "execution_count": 31,
   "id": "a4a72321",
   "metadata": {
    "ExecuteTime": {
     "end_time": "2023-04-16T15:49:52.729846Z",
     "start_time": "2023-04-16T15:49:52.715884Z"
    }
   },
   "outputs": [
    {
     "data": {
      "text/plain": [
       "99"
      ]
     },
     "execution_count": 31,
     "metadata": {},
     "output_type": "execute_result"
    }
   ],
   "source": [
    "df[(df['balance'] == 0) & (df['tenure'].isna()) & (df['has_cr_card'] == 0)]['balance'].count()"
   ]
  },
  {
   "cell_type": "markdown",
   "id": "0b0dc993",
   "metadata": {},
   "source": [
    "Не знаю, что делать с теми клиентами, у которых баланс на нуле. Несмотря на всплеск количества таких клиентов на диаграмме, удалять их не буду."
   ]
  },
  {
   "cell_type": "markdown",
   "id": "d04259d3",
   "metadata": {},
   "source": [
    "Обрабатываю пропуски в столбце `tenure`. В первой версии они были заполнены нулём (предположение, что количество лет не указано для \"свежих\" клиентов, которые недавно начали пользоваться услугами банка).\n",
    "\n",
    "Пробую другие варианты."
   ]
  },
  {
   "cell_type": "code",
   "execution_count": 32,
   "id": "db912299",
   "metadata": {
    "ExecuteTime": {
     "end_time": "2023-04-16T15:49:52.760792Z",
     "start_time": "2023-04-16T15:49:52.731843Z"
    }
   },
   "outputs": [
    {
     "data": {
      "text/html": [
       "<div>\n",
       "<style scoped>\n",
       "    .dataframe tbody tr th:only-of-type {\n",
       "        vertical-align: middle;\n",
       "    }\n",
       "\n",
       "    .dataframe tbody tr th {\n",
       "        vertical-align: top;\n",
       "    }\n",
       "\n",
       "    .dataframe thead th {\n",
       "        text-align: right;\n",
       "    }\n",
       "</style>\n",
       "<table border=\"1\" class=\"dataframe\">\n",
       "  <thead>\n",
       "    <tr style=\"text-align: right;\">\n",
       "      <th></th>\n",
       "      <th>customer_id</th>\n",
       "      <th>credit_score</th>\n",
       "      <th>geography</th>\n",
       "      <th>gender</th>\n",
       "      <th>age</th>\n",
       "      <th>tenure</th>\n",
       "      <th>balance</th>\n",
       "      <th>num_of_products</th>\n",
       "      <th>has_cr_card</th>\n",
       "      <th>is_active</th>\n",
       "      <th>salary</th>\n",
       "      <th>exited</th>\n",
       "    </tr>\n",
       "  </thead>\n",
       "  <tbody>\n",
       "    <tr>\n",
       "      <th>0</th>\n",
       "      <td>15634602</td>\n",
       "      <td>619</td>\n",
       "      <td>France</td>\n",
       "      <td>Female</td>\n",
       "      <td>42</td>\n",
       "      <td>2.0</td>\n",
       "      <td>0</td>\n",
       "      <td>1</td>\n",
       "      <td>1</td>\n",
       "      <td>1</td>\n",
       "      <td>101349</td>\n",
       "      <td>1</td>\n",
       "    </tr>\n",
       "    <tr>\n",
       "      <th>1</th>\n",
       "      <td>15647311</td>\n",
       "      <td>608</td>\n",
       "      <td>Spain</td>\n",
       "      <td>Female</td>\n",
       "      <td>41</td>\n",
       "      <td>1.0</td>\n",
       "      <td>83808</td>\n",
       "      <td>1</td>\n",
       "      <td>0</td>\n",
       "      <td>1</td>\n",
       "      <td>112543</td>\n",
       "      <td>0</td>\n",
       "    </tr>\n",
       "    <tr>\n",
       "      <th>2</th>\n",
       "      <td>15619304</td>\n",
       "      <td>502</td>\n",
       "      <td>France</td>\n",
       "      <td>Female</td>\n",
       "      <td>42</td>\n",
       "      <td>8.0</td>\n",
       "      <td>159661</td>\n",
       "      <td>3</td>\n",
       "      <td>1</td>\n",
       "      <td>0</td>\n",
       "      <td>113932</td>\n",
       "      <td>1</td>\n",
       "    </tr>\n",
       "    <tr>\n",
       "      <th>3</th>\n",
       "      <td>15701354</td>\n",
       "      <td>699</td>\n",
       "      <td>France</td>\n",
       "      <td>Female</td>\n",
       "      <td>39</td>\n",
       "      <td>1.0</td>\n",
       "      <td>0</td>\n",
       "      <td>2</td>\n",
       "      <td>0</td>\n",
       "      <td>0</td>\n",
       "      <td>93827</td>\n",
       "      <td>0</td>\n",
       "    </tr>\n",
       "    <tr>\n",
       "      <th>4</th>\n",
       "      <td>15737888</td>\n",
       "      <td>850</td>\n",
       "      <td>Spain</td>\n",
       "      <td>Female</td>\n",
       "      <td>43</td>\n",
       "      <td>2.0</td>\n",
       "      <td>125511</td>\n",
       "      <td>1</td>\n",
       "      <td>1</td>\n",
       "      <td>1</td>\n",
       "      <td>79085</td>\n",
       "      <td>0</td>\n",
       "    </tr>\n",
       "  </tbody>\n",
       "</table>\n",
       "</div>"
      ],
      "text/plain": [
       "   customer_id  credit_score geography  gender  age  tenure  balance  \\\n",
       "0     15634602           619    France  Female   42     2.0        0   \n",
       "1     15647311           608     Spain  Female   41     1.0    83808   \n",
       "2     15619304           502    France  Female   42     8.0   159661   \n",
       "3     15701354           699    France  Female   39     1.0        0   \n",
       "4     15737888           850     Spain  Female   43     2.0   125511   \n",
       "\n",
       "   num_of_products  has_cr_card  is_active  salary  exited  \n",
       "0                1            1          1  101349       1  \n",
       "1                1            0          1  112543       0  \n",
       "2                3            1          0  113932       1  \n",
       "3                2            0          0   93827       0  \n",
       "4                1            1          1   79085       0  "
      ]
     },
     "execution_count": 32,
     "metadata": {},
     "output_type": "execute_result"
    }
   ],
   "source": [
    "df.head()"
   ]
  },
  {
   "cell_type": "code",
   "execution_count": 33,
   "id": "c8971830",
   "metadata": {
    "ExecuteTime": {
     "end_time": "2023-04-16T15:49:52.776721Z",
     "start_time": "2023-04-16T15:49:52.763756Z"
    }
   },
   "outputs": [
    {
     "data": {
      "text/plain": [
       "0.0909"
      ]
     },
     "execution_count": 33,
     "metadata": {},
     "output_type": "execute_result"
    }
   ],
   "source": [
    "df['tenure'].isna().mean()"
   ]
  },
  {
   "cell_type": "markdown",
   "id": "1d9876be",
   "metadata": {},
   "source": [
    "Доля пропусков - около 9%"
   ]
  },
  {
   "cell_type": "code",
   "execution_count": 34,
   "id": "9c6efd45",
   "metadata": {
    "ExecuteTime": {
     "end_time": "2023-04-16T15:49:52.792685Z",
     "start_time": "2023-04-16T15:49:52.778716Z"
    }
   },
   "outputs": [
    {
     "data": {
      "text/plain": [
       "Male      483\n",
       "Female    426\n",
       "Name: gender, dtype: int64"
      ]
     },
     "execution_count": 34,
     "metadata": {},
     "output_type": "execute_result"
    }
   ],
   "source": [
    "df.query('tenure.isna()')['gender'].value_counts()"
   ]
  },
  {
   "cell_type": "code",
   "execution_count": 35,
   "id": "0663a50d",
   "metadata": {
    "ExecuteTime": {
     "end_time": "2023-04-16T15:49:52.808636Z",
     "start_time": "2023-04-16T15:49:52.795672Z"
    }
   },
   "outputs": [
    {
     "data": {
      "text/plain": [
       "France     464\n",
       "Spain      229\n",
       "Germany    216\n",
       "Name: geography, dtype: int64"
      ]
     },
     "execution_count": 35,
     "metadata": {},
     "output_type": "execute_result"
    }
   ],
   "source": [
    "df.query('tenure.isna()')['geography'].value_counts()"
   ]
  },
  {
   "cell_type": "markdown",
   "id": "1121ea1c",
   "metadata": {},
   "source": [
    "Смотрю средние значения и медиану для стажа клиента по странам."
   ]
  },
  {
   "cell_type": "code",
   "execution_count": 36,
   "id": "8adf0484",
   "metadata": {
    "ExecuteTime": {
     "end_time": "2023-04-16T15:49:52.855542Z",
     "start_time": "2023-04-16T15:49:52.810631Z"
    }
   },
   "outputs": [
    {
     "data": {
      "text/html": [
       "<div>\n",
       "<style scoped>\n",
       "    .dataframe tbody tr th:only-of-type {\n",
       "        vertical-align: middle;\n",
       "    }\n",
       "\n",
       "    .dataframe tbody tr th {\n",
       "        vertical-align: top;\n",
       "    }\n",
       "\n",
       "    .dataframe thead tr th {\n",
       "        text-align: left;\n",
       "    }\n",
       "\n",
       "    .dataframe thead tr:last-of-type th {\n",
       "        text-align: right;\n",
       "    }\n",
       "</style>\n",
       "<table border=\"1\" class=\"dataframe\">\n",
       "  <thead>\n",
       "    <tr>\n",
       "      <th></th>\n",
       "      <th>mean</th>\n",
       "      <th>median</th>\n",
       "      <th>count</th>\n",
       "    </tr>\n",
       "    <tr>\n",
       "      <th></th>\n",
       "      <th>tenure</th>\n",
       "      <th>tenure</th>\n",
       "      <th>tenure</th>\n",
       "    </tr>\n",
       "    <tr>\n",
       "      <th>geography</th>\n",
       "      <th></th>\n",
       "      <th></th>\n",
       "      <th></th>\n",
       "    </tr>\n",
       "  </thead>\n",
       "  <tbody>\n",
       "    <tr>\n",
       "      <th>France</th>\n",
       "      <td>5.003956</td>\n",
       "      <td>5.0</td>\n",
       "      <td>4550</td>\n",
       "    </tr>\n",
       "    <tr>\n",
       "      <th>Germany</th>\n",
       "      <td>4.981247</td>\n",
       "      <td>5.0</td>\n",
       "      <td>2293</td>\n",
       "    </tr>\n",
       "    <tr>\n",
       "      <th>Spain</th>\n",
       "      <td>5.001779</td>\n",
       "      <td>5.0</td>\n",
       "      <td>2248</td>\n",
       "    </tr>\n",
       "  </tbody>\n",
       "</table>\n",
       "</div>"
      ],
      "text/plain": [
       "               mean median  count\n",
       "             tenure tenure tenure\n",
       "geography                        \n",
       "France     5.003956    5.0   4550\n",
       "Germany    4.981247    5.0   2293\n",
       "Spain      5.001779    5.0   2248"
      ]
     },
     "execution_count": 36,
     "metadata": {},
     "output_type": "execute_result"
    }
   ],
   "source": [
    "df.pivot_table(index='geography', values='tenure', aggfunc=['mean', 'median', 'count'])"
   ]
  },
  {
   "cell_type": "markdown",
   "id": "d9aa9234",
   "metadata": {},
   "source": [
    "Средний стаж для всех стран примерно одинаков - 5 лет. Посмотрю средние значения по другим группам."
   ]
  },
  {
   "cell_type": "code",
   "execution_count": 37,
   "id": "47fa7cc0",
   "metadata": {
    "ExecuteTime": {
     "end_time": "2023-04-16T15:49:52.902416Z",
     "start_time": "2023-04-16T15:49:52.858502Z"
    }
   },
   "outputs": [
    {
     "data": {
      "text/html": [
       "<div>\n",
       "<style scoped>\n",
       "    .dataframe tbody tr th:only-of-type {\n",
       "        vertical-align: middle;\n",
       "    }\n",
       "\n",
       "    .dataframe tbody tr th {\n",
       "        vertical-align: top;\n",
       "    }\n",
       "\n",
       "    .dataframe thead tr th {\n",
       "        text-align: left;\n",
       "    }\n",
       "</style>\n",
       "<table border=\"1\" class=\"dataframe\">\n",
       "  <thead>\n",
       "    <tr>\n",
       "      <th></th>\n",
       "      <th colspan=\"3\" halign=\"left\">median</th>\n",
       "      <th colspan=\"3\" halign=\"left\">mean</th>\n",
       "      <th colspan=\"3\" halign=\"left\">count</th>\n",
       "    </tr>\n",
       "    <tr>\n",
       "      <th>geography</th>\n",
       "      <th>France</th>\n",
       "      <th>Germany</th>\n",
       "      <th>Spain</th>\n",
       "      <th>France</th>\n",
       "      <th>Germany</th>\n",
       "      <th>Spain</th>\n",
       "      <th>France</th>\n",
       "      <th>Germany</th>\n",
       "      <th>Spain</th>\n",
       "    </tr>\n",
       "  </thead>\n",
       "  <tbody>\n",
       "    <tr>\n",
       "      <th>age</th>\n",
       "      <td>37.0</td>\n",
       "      <td>37.5</td>\n",
       "      <td>38.0</td>\n",
       "      <td>38.125</td>\n",
       "      <td>39.041667</td>\n",
       "      <td>39.336245</td>\n",
       "      <td>464</td>\n",
       "      <td>216</td>\n",
       "      <td>229</td>\n",
       "    </tr>\n",
       "  </tbody>\n",
       "</table>\n",
       "</div>"
      ],
      "text/plain": [
       "          median                  mean                        count          \\\n",
       "geography France Germany Spain  France    Germany      Spain France Germany   \n",
       "age         37.0    37.5  38.0  38.125  39.041667  39.336245    464     216   \n",
       "\n",
       "                 \n",
       "geography Spain  \n",
       "age         229  "
      ]
     },
     "execution_count": 37,
     "metadata": {},
     "output_type": "execute_result"
    }
   ],
   "source": [
    "(df\n",
    " .query('tenure.isna()')\n",
    " .pivot_table(columns='geography', values='age', aggfunc=['median', 'mean', 'count'])\n",
    ")"
   ]
  },
  {
   "cell_type": "markdown",
   "id": "81ba231c",
   "metadata": {},
   "source": [
    "Средний возраст для клиентов с пропуском в стаже по странам похож и составляет 37-39 лет."
   ]
  },
  {
   "cell_type": "code",
   "execution_count": 38,
   "id": "bd97a76f",
   "metadata": {
    "ExecuteTime": {
     "end_time": "2023-04-16T15:49:53.109829Z",
     "start_time": "2023-04-16T15:49:52.903383Z"
    }
   },
   "outputs": [
    {
     "data": {
      "image/png": "[encoded data removed]",
      "text/plain": [
       "<Figure size 432x288 with 1 Axes>"
      ]
     },
     "metadata": {
      "needs_background": "light"
     },
     "output_type": "display_data"
    }
   ],
   "source": [
    "df.query('tenure.isna()')['age'].hist(bins=30)\n",
    "plt.show()"
   ]
  },
  {
   "cell_type": "markdown",
   "id": "ffb7b060",
   "metadata": {},
   "source": [
    "Распределение по возрасту для клиентов с пропуском в стаже примерно такое же, как и для клиентов без пропуска, ничего особенного не вижу.\n",
    "\n",
    "Добавляю в таблицу столбец с разделением на категории по возрасту. Возможно удастся получить различный средний стаж для этих категорий и использовать его для заполнения пропусков."
   ]
  },
  {
   "cell_type": "code",
   "execution_count": 39,
   "id": "b4f351c5",
   "metadata": {
    "ExecuteTime": {
     "end_time": "2023-04-16T15:49:53.125818Z",
     "start_time": "2023-04-16T15:49:53.111824Z"
    }
   },
   "outputs": [],
   "source": [
    "# функция для присвоения категории по возрасту\n",
    "def age_cat(age):\n",
    "    if age < 21:\n",
    "        return('18-20')\n",
    "    if age < 31:\n",
    "        return('21-30')\n",
    "    if age < 41:\n",
    "        return('31-40')\n",
    "    if age < 51:\n",
    "        return('41-50')\n",
    "    if age < 61:\n",
    "        return('51-60')\n",
    "    if age > 60:\n",
    "        return('61-92')"
   ]
  },
  {
   "cell_type": "code",
   "execution_count": 40,
   "id": "b63d4a2e",
   "metadata": {
    "ExecuteTime": {
     "end_time": "2023-04-16T15:49:53.141745Z",
     "start_time": "2023-04-16T15:49:53.127781Z"
    }
   },
   "outputs": [
    {
     "data": {
      "text/plain": [
       "'61-92'"
      ]
     },
     "execution_count": 40,
     "metadata": {},
     "output_type": "execute_result"
    }
   ],
   "source": [
    "age_cat(92)"
   ]
  },
  {
   "cell_type": "code",
   "execution_count": 41,
   "id": "f5652e9a",
   "metadata": {
    "ExecuteTime": {
     "end_time": "2023-04-16T15:49:53.157701Z",
     "start_time": "2023-04-16T15:49:53.142742Z"
    }
   },
   "outputs": [],
   "source": [
    "df['age_category'] = df['age'].apply(age_cat)"
   ]
  },
  {
   "cell_type": "code",
   "execution_count": 42,
   "id": "5ea256d6",
   "metadata": {
    "ExecuteTime": {
     "end_time": "2023-04-16T15:49:53.204614Z",
     "start_time": "2023-04-16T15:49:53.159696Z"
    }
   },
   "outputs": [
    {
     "data": {
      "text/html": [
       "<div>\n",
       "<style scoped>\n",
       "    .dataframe tbody tr th:only-of-type {\n",
       "        vertical-align: middle;\n",
       "    }\n",
       "\n",
       "    .dataframe tbody tr th {\n",
       "        vertical-align: top;\n",
       "    }\n",
       "\n",
       "    .dataframe thead tr th {\n",
       "        text-align: left;\n",
       "    }\n",
       "\n",
       "    .dataframe thead tr:last-of-type th {\n",
       "        text-align: right;\n",
       "    }\n",
       "</style>\n",
       "<table border=\"1\" class=\"dataframe\">\n",
       "  <thead>\n",
       "    <tr>\n",
       "      <th></th>\n",
       "      <th>mean</th>\n",
       "      <th>median</th>\n",
       "      <th>count</th>\n",
       "    </tr>\n",
       "    <tr>\n",
       "      <th></th>\n",
       "      <th>tenure</th>\n",
       "      <th>tenure</th>\n",
       "      <th>tenure</th>\n",
       "    </tr>\n",
       "    <tr>\n",
       "      <th>age_category</th>\n",
       "      <th></th>\n",
       "      <th></th>\n",
       "      <th></th>\n",
       "    </tr>\n",
       "  </thead>\n",
       "  <tbody>\n",
       "    <tr>\n",
       "      <th>18-20</th>\n",
       "      <td>5.072289</td>\n",
       "      <td>5.0</td>\n",
       "      <td>83</td>\n",
       "    </tr>\n",
       "    <tr>\n",
       "      <th>21-30</th>\n",
       "      <td>5.065698</td>\n",
       "      <td>5.0</td>\n",
       "      <td>1720</td>\n",
       "    </tr>\n",
       "    <tr>\n",
       "      <th>31-40</th>\n",
       "      <td>5.007234</td>\n",
       "      <td>5.0</td>\n",
       "      <td>4009</td>\n",
       "    </tr>\n",
       "    <tr>\n",
       "      <th>41-50</th>\n",
       "      <td>4.954781</td>\n",
       "      <td>5.0</td>\n",
       "      <td>2123</td>\n",
       "    </tr>\n",
       "    <tr>\n",
       "      <th>51-60</th>\n",
       "      <td>4.976487</td>\n",
       "      <td>5.0</td>\n",
       "      <td>723</td>\n",
       "    </tr>\n",
       "    <tr>\n",
       "      <th>61-92</th>\n",
       "      <td>4.870670</td>\n",
       "      <td>5.0</td>\n",
       "      <td>433</td>\n",
       "    </tr>\n",
       "  </tbody>\n",
       "</table>\n",
       "</div>"
      ],
      "text/plain": [
       "                  mean median  count\n",
       "                tenure tenure tenure\n",
       "age_category                        \n",
       "18-20         5.072289    5.0     83\n",
       "21-30         5.065698    5.0   1720\n",
       "31-40         5.007234    5.0   4009\n",
       "41-50         4.954781    5.0   2123\n",
       "51-60         4.976487    5.0    723\n",
       "61-92         4.870670    5.0    433"
      ]
     },
     "execution_count": 42,
     "metadata": {},
     "output_type": "execute_result"
    }
   ],
   "source": [
    "df.pivot_table(index='age_category', values='tenure', aggfunc=['mean', 'median', 'count'])"
   ]
  },
  {
   "cell_type": "markdown",
   "id": "4785e5ba",
   "metadata": {},
   "source": [
    "Для различных категорий возраста та же самая картина - одинаковая медиана и почти одинаковое среднее - 5 лет. Пробовала немного другую разбивку на категории (меняла диапазоны), ничего не изменилось."
   ]
  },
  {
   "cell_type": "code",
   "execution_count": 43,
   "id": "30fb59af",
   "metadata": {
    "ExecuteTime": {
     "end_time": "2023-04-16T15:49:53.364149Z",
     "start_time": "2023-04-16T15:49:53.206571Z"
    }
   },
   "outputs": [
    {
     "data": {
      "text/plain": [
       "<AxesSubplot:>"
      ]
     },
     "execution_count": 43,
     "metadata": {},
     "output_type": "execute_result"
    },
    {
     "data": {
      "image/png": "[encoded data removed]",
      "text/plain": [
       "<Figure size 432x288 with 1 Axes>"
      ]
     },
     "metadata": {
      "needs_background": "light"
     },
     "output_type": "display_data"
    }
   ],
   "source": [
    "df.query('age < 21')['tenure'].hist(bins=11)"
   ]
  },
  {
   "cell_type": "markdown",
   "id": "aa04ae6d",
   "metadata": {},
   "source": [
    "Что самое странное, даже в категории от 18 до 20 лет средний стаж - тоже 5 лет. На графике видно, что среди таких молодых клиентов есть и те, у кого стаж 10 лет. Мне это странно, но детям в принципе можно сделать карту в банке, возможно это учитывалось как стаж. В реальной жизни можно было бы спросить у поставщиков данных, но сейчас не вижу другого выхода, кроме как удивиться и пойти дальше."
   ]
  },
  {
   "cell_type": "code",
   "execution_count": 44,
   "id": "0003fec5",
   "metadata": {
    "ExecuteTime": {
     "end_time": "2023-04-16T15:49:53.380106Z",
     "start_time": "2023-04-16T15:49:53.366144Z"
    }
   },
   "outputs": [
    {
     "data": {
      "text/plain": [
       "count    9091.000000\n",
       "mean        4.997690\n",
       "std         2.894723\n",
       "min         0.000000\n",
       "25%         2.000000\n",
       "50%         5.000000\n",
       "75%         7.000000\n",
       "max        10.000000\n",
       "Name: tenure, dtype: float64"
      ]
     },
     "execution_count": 44,
     "metadata": {},
     "output_type": "execute_result"
    }
   ],
   "source": [
    "df['tenure'].describe()"
   ]
  },
  {
   "cell_type": "markdown",
   "id": "5e9a7f1e",
   "metadata": {},
   "source": [
    "Ещё одна попытка - посмотрю средний стаж в связи с категориями по кредитному рейтингу."
   ]
  },
  {
   "cell_type": "code",
   "execution_count": 45,
   "id": "d8eb5b5f",
   "metadata": {
    "ExecuteTime": {
     "end_time": "2023-04-16T15:49:53.570598Z",
     "start_time": "2023-04-16T15:49:53.382101Z"
    }
   },
   "outputs": [
    {
     "data": {
      "text/plain": [
       "<AxesSubplot:>"
      ]
     },
     "execution_count": 45,
     "metadata": {},
     "output_type": "execute_result"
    },
    {
     "data": {
      "image/png": "[encoded data removed]",
      "text/plain": [
       "<Figure size 432x288 with 1 Axes>"
      ]
     },
     "metadata": {
      "needs_background": "light"
     },
     "output_type": "display_data"
    }
   ],
   "source": [
    "df['credit_score'].hist(bins=50)"
   ]
  },
  {
   "cell_type": "code",
   "execution_count": 46,
   "id": "fe213e5f",
   "metadata": {
    "ExecuteTime": {
     "end_time": "2023-04-16T15:49:53.586554Z",
     "start_time": "2023-04-16T15:49:53.571594Z"
    }
   },
   "outputs": [],
   "source": [
    "def credit_score_cat(score):\n",
    "    if score > 818:\n",
    "        return('A')\n",
    "    if score > 700:\n",
    "        return('B')\n",
    "    if score > 600:\n",
    "        return('C')\n",
    "    if score > 500:\n",
    "        return('D')\n",
    "    if score < 501:\n",
    "        return('E')"
   ]
  },
  {
   "cell_type": "code",
   "execution_count": 47,
   "id": "0a60b67e",
   "metadata": {
    "ExecuteTime": {
     "end_time": "2023-04-16T15:49:53.602511Z",
     "start_time": "2023-04-16T15:49:53.588550Z"
    }
   },
   "outputs": [],
   "source": [
    "df['credit_score_category'] = df['credit_score'].apply(credit_score_cat)"
   ]
  },
  {
   "cell_type": "code",
   "execution_count": 48,
   "id": "d6230feb",
   "metadata": {
    "ExecuteTime": {
     "end_time": "2023-04-16T15:49:53.634457Z",
     "start_time": "2023-04-16T15:49:53.603509Z"
    }
   },
   "outputs": [
    {
     "data": {
      "text/html": [
       "<div>\n",
       "<style scoped>\n",
       "    .dataframe tbody tr th:only-of-type {\n",
       "        vertical-align: middle;\n",
       "    }\n",
       "\n",
       "    .dataframe tbody tr th {\n",
       "        vertical-align: top;\n",
       "    }\n",
       "\n",
       "    .dataframe thead tr th {\n",
       "        text-align: left;\n",
       "    }\n",
       "\n",
       "    .dataframe thead tr:last-of-type th {\n",
       "        text-align: right;\n",
       "    }\n",
       "</style>\n",
       "<table border=\"1\" class=\"dataframe\">\n",
       "  <thead>\n",
       "    <tr>\n",
       "      <th></th>\n",
       "      <th>mean</th>\n",
       "      <th>median</th>\n",
       "      <th>count</th>\n",
       "    </tr>\n",
       "    <tr>\n",
       "      <th></th>\n",
       "      <th>tenure</th>\n",
       "      <th>tenure</th>\n",
       "      <th>tenure</th>\n",
       "    </tr>\n",
       "    <tr>\n",
       "      <th>credit_score_category</th>\n",
       "      <th></th>\n",
       "      <th></th>\n",
       "      <th></th>\n",
       "    </tr>\n",
       "  </thead>\n",
       "  <tbody>\n",
       "    <tr>\n",
       "      <th>A</th>\n",
       "      <td>4.949622</td>\n",
       "      <td>5.0</td>\n",
       "      <td>397</td>\n",
       "    </tr>\n",
       "    <tr>\n",
       "      <th>B</th>\n",
       "      <td>5.039868</td>\n",
       "      <td>5.0</td>\n",
       "      <td>2433</td>\n",
       "    </tr>\n",
       "    <tr>\n",
       "      <th>C</th>\n",
       "      <td>5.001721</td>\n",
       "      <td>5.0</td>\n",
       "      <td>3486</td>\n",
       "    </tr>\n",
       "    <tr>\n",
       "      <th>D</th>\n",
       "      <td>4.929449</td>\n",
       "      <td>5.0</td>\n",
       "      <td>2197</td>\n",
       "    </tr>\n",
       "    <tr>\n",
       "      <th>E</th>\n",
       "      <td>5.088235</td>\n",
       "      <td>5.0</td>\n",
       "      <td>578</td>\n",
       "    </tr>\n",
       "  </tbody>\n",
       "</table>\n",
       "</div>"
      ],
      "text/plain": [
       "                           mean median  count\n",
       "                         tenure tenure tenure\n",
       "credit_score_category                        \n",
       "A                      4.949622    5.0    397\n",
       "B                      5.039868    5.0   2433\n",
       "C                      5.001721    5.0   3486\n",
       "D                      4.929449    5.0   2197\n",
       "E                      5.088235    5.0    578"
      ]
     },
     "execution_count": 48,
     "metadata": {},
     "output_type": "execute_result"
    }
   ],
   "source": [
    "df.pivot_table(index='credit_score_category', values='tenure', aggfunc=['mean', 'median', 'count'])"
   ]
  },
  {
   "cell_type": "markdown",
   "id": "d78a2070",
   "metadata": {},
   "source": [
    "И это ничего не дало. Опять по всем категориям одинаковая медиана и примерно одинаковое среднее. Сдаюсь и заполняю все пропуски этим средним - 5 лет.\n",
    "\n",
    "Было бы конечно здорово сделать отдельную модель для заполнения пропусков, но это пока слишком круто для меня, провожусь с этим долго."
   ]
  },
  {
   "cell_type": "code",
   "execution_count": 49,
   "id": "574164aa",
   "metadata": {
    "ExecuteTime": {
     "end_time": "2023-04-16T15:49:53.650416Z",
     "start_time": "2023-04-16T15:49:53.636420Z"
    }
   },
   "outputs": [
    {
     "name": "stdout",
     "output_type": "stream",
     "text": [
      "<class 'pandas.core.frame.DataFrame'>\n",
      "RangeIndex: 10000 entries, 0 to 9999\n",
      "Data columns (total 14 columns):\n",
      " #   Column                 Non-Null Count  Dtype \n",
      "---  ------                 --------------  ----- \n",
      " 0   customer_id            10000 non-null  int64 \n",
      " 1   credit_score           10000 non-null  int64 \n",
      " 2   geography              10000 non-null  object\n",
      " 3   gender                 10000 non-null  object\n",
      " 4   age                    10000 non-null  int64 \n",
      " 5   tenure                 10000 non-null  int32 \n",
      " 6   balance                10000 non-null  int64 \n",
      " 7   num_of_products        10000 non-null  int64 \n",
      " 8   has_cr_card            10000 non-null  int64 \n",
      " 9   is_active              10000 non-null  int64 \n",
      " 10  salary                 10000 non-null  int64 \n",
      " 11  exited                 10000 non-null  int64 \n",
      " 12  age_category           10000 non-null  object\n",
      " 13  credit_score_category  10000 non-null  object\n",
      "dtypes: int32(1), int64(9), object(4)\n",
      "memory usage: 1.0+ MB\n"
     ]
    }
   ],
   "source": [
    "df['tenure'] = df['tenure'].fillna(5).astype('int')\n",
    "df.info()"
   ]
  },
  {
   "cell_type": "code",
   "execution_count": 50,
   "id": "ec98745c",
   "metadata": {
    "ExecuteTime": {
     "end_time": "2023-04-16T15:49:53.902272Z",
     "start_time": "2023-04-16T15:49:53.652378Z"
    }
   },
   "outputs": [
    {
     "data": {
      "image/png": "[encoded data removed]",
      "text/plain": [
       "<Figure size 360x360 with 1 Axes>"
      ]
     },
     "metadata": {
      "needs_background": "light"
     },
     "output_type": "display_data"
    }
   ],
   "source": [
    "sns.catplot(data=df, x=\"exited\", y=\"salary\", kind=\"box\")\n",
    "plt.show()"
   ]
  },
  {
   "cell_type": "code",
   "execution_count": 51,
   "id": "ea9e8cab",
   "metadata": {
    "ExecuteTime": {
     "end_time": "2023-04-16T15:49:53.917159Z",
     "start_time": "2023-04-16T15:49:53.903196Z"
    }
   },
   "outputs": [
    {
     "data": {
      "text/plain": [
       "count     10000.00000\n",
       "mean     100090.73650\n",
       "std       57510.49455\n",
       "min          12.00000\n",
       "25%       51002.75000\n",
       "50%      100194.50000\n",
       "75%      149388.75000\n",
       "max      199993.00000\n",
       "Name: salary, dtype: float64"
      ]
     },
     "execution_count": 51,
     "metadata": {},
     "output_type": "execute_result"
    }
   ],
   "source": [
    "df['salary'].describe()"
   ]
  },
  {
   "cell_type": "markdown",
   "id": "3bc0fd0c",
   "metadata": {},
   "source": [
    "Распределение данных о заработной плате практически одинаково для ушедших и оставшихся клиентов."
   ]
  },
  {
   "cell_type": "markdown",
   "id": "12b5b6ad",
   "metadata": {},
   "source": [
    "### Подготовка признаков"
   ]
  },
  {
   "cell_type": "markdown",
   "id": "c0239fd0",
   "metadata": {},
   "source": [
    "Делю данные на выборки, отбрасывая при этом ненужные."
   ]
  },
  {
   "cell_type": "code",
   "execution_count": 105,
   "id": "833e431e",
   "metadata": {
    "ExecuteTime": {
     "end_time": "2023-04-16T22:22:54.134016Z",
     "start_time": "2023-04-16T22:22:54.107661Z"
    }
   },
   "outputs": [],
   "source": [
    "target = df['exited']\n",
    "features = df.drop(['exited', 'customer_id', 'age_category', 'credit_score_category'], axis=1)"
   ]
  },
  {
   "cell_type": "code",
   "execution_count": 52,
   "id": "ef57d25a",
   "metadata": {
    "ExecuteTime": {
     "end_time": "2023-04-16T15:49:53.949135Z",
     "start_time": "2023-04-16T15:49:53.920152Z"
    }
   },
   "outputs": [],
   "source": [
    "features_train, features_test, target_train, target_test = train_test_split(\n",
    "     features, target, test_size=0.2, random_state=12345)\n",
    "\n",
    "features_train, features_valid, target_train, target_valid = train_test_split(\n",
    "    features_train, target_train, test_size=0.25, random_state=12345)"
   ]
  },
  {
   "cell_type": "code",
   "execution_count": 53,
   "id": "8569a3b7",
   "metadata": {
    "ExecuteTime": {
     "end_time": "2023-04-16T15:49:53.964464Z",
     "start_time": "2023-04-16T15:49:53.951098Z"
    }
   },
   "outputs": [
    {
     "data": {
      "text/plain": [
       "(6000, 10)"
      ]
     },
     "execution_count": 53,
     "metadata": {},
     "output_type": "execute_result"
    }
   ],
   "source": [
    "features_train.shape"
   ]
  },
  {
   "cell_type": "code",
   "execution_count": 54,
   "id": "641310b3",
   "metadata": {
    "ExecuteTime": {
     "end_time": "2023-04-16T15:49:53.980412Z",
     "start_time": "2023-04-16T15:49:53.966451Z"
    }
   },
   "outputs": [
    {
     "data": {
      "text/plain": [
       "(2000, 10)"
      ]
     },
     "execution_count": 54,
     "metadata": {},
     "output_type": "execute_result"
    }
   ],
   "source": [
    "features_valid.shape"
   ]
  },
  {
   "cell_type": "code",
   "execution_count": 55,
   "id": "d3e04adc",
   "metadata": {
    "ExecuteTime": {
     "end_time": "2023-04-16T15:49:53.996370Z",
     "start_time": "2023-04-16T15:49:53.983406Z"
    }
   },
   "outputs": [
    {
     "data": {
      "text/plain": [
       "(2000, 10)"
      ]
     },
     "execution_count": 55,
     "metadata": {},
     "output_type": "execute_result"
    }
   ],
   "source": [
    "features_test.shape"
   ]
  },
  {
   "cell_type": "markdown",
   "id": "eff3bdd3",
   "metadata": {},
   "source": [
    "Подготавливаю признаки. Кодирую категориальные признаки `geography` и `gender`, численные признаки масштабирую. "
   ]
  },
  {
   "cell_type": "code",
   "execution_count": 56,
   "id": "db9f1820",
   "metadata": {
    "ExecuteTime": {
     "end_time": "2023-04-16T15:49:54.011329Z",
     "start_time": "2023-04-16T15:49:53.998365Z"
    }
   },
   "outputs": [
    {
     "data": {
      "text/html": [
       "<div>\n",
       "<style scoped>\n",
       "    .dataframe tbody tr th:only-of-type {\n",
       "        vertical-align: middle;\n",
       "    }\n",
       "\n",
       "    .dataframe tbody tr th {\n",
       "        vertical-align: top;\n",
       "    }\n",
       "\n",
       "    .dataframe thead th {\n",
       "        text-align: right;\n",
       "    }\n",
       "</style>\n",
       "<table border=\"1\" class=\"dataframe\">\n",
       "  <thead>\n",
       "    <tr style=\"text-align: right;\">\n",
       "      <th></th>\n",
       "      <th>credit_score</th>\n",
       "      <th>geography</th>\n",
       "      <th>gender</th>\n",
       "      <th>age</th>\n",
       "      <th>tenure</th>\n",
       "      <th>balance</th>\n",
       "      <th>num_of_products</th>\n",
       "      <th>has_cr_card</th>\n",
       "      <th>is_active</th>\n",
       "      <th>salary</th>\n",
       "    </tr>\n",
       "  </thead>\n",
       "  <tbody>\n",
       "    <tr>\n",
       "      <th>492</th>\n",
       "      <td>639</td>\n",
       "      <td>France</td>\n",
       "      <td>Female</td>\n",
       "      <td>38</td>\n",
       "      <td>4</td>\n",
       "      <td>81551</td>\n",
       "      <td>2</td>\n",
       "      <td>0</td>\n",
       "      <td>1</td>\n",
       "      <td>118975</td>\n",
       "    </tr>\n",
       "    <tr>\n",
       "      <th>6655</th>\n",
       "      <td>554</td>\n",
       "      <td>France</td>\n",
       "      <td>Male</td>\n",
       "      <td>44</td>\n",
       "      <td>5</td>\n",
       "      <td>85305</td>\n",
       "      <td>1</td>\n",
       "      <td>1</td>\n",
       "      <td>1</td>\n",
       "      <td>58077</td>\n",
       "    </tr>\n",
       "    <tr>\n",
       "      <th>4287</th>\n",
       "      <td>714</td>\n",
       "      <td>Germany</td>\n",
       "      <td>Male</td>\n",
       "      <td>53</td>\n",
       "      <td>1</td>\n",
       "      <td>99142</td>\n",
       "      <td>1</td>\n",
       "      <td>1</td>\n",
       "      <td>1</td>\n",
       "      <td>72497</td>\n",
       "    </tr>\n",
       "    <tr>\n",
       "      <th>42</th>\n",
       "      <td>556</td>\n",
       "      <td>France</td>\n",
       "      <td>Female</td>\n",
       "      <td>61</td>\n",
       "      <td>2</td>\n",
       "      <td>117420</td>\n",
       "      <td>1</td>\n",
       "      <td>1</td>\n",
       "      <td>1</td>\n",
       "      <td>94154</td>\n",
       "    </tr>\n",
       "    <tr>\n",
       "      <th>8178</th>\n",
       "      <td>707</td>\n",
       "      <td>France</td>\n",
       "      <td>Female</td>\n",
       "      <td>46</td>\n",
       "      <td>7</td>\n",
       "      <td>127477</td>\n",
       "      <td>2</td>\n",
       "      <td>1</td>\n",
       "      <td>1</td>\n",
       "      <td>146012</td>\n",
       "    </tr>\n",
       "  </tbody>\n",
       "</table>\n",
       "</div>"
      ],
      "text/plain": [
       "      credit_score geography  gender  age  tenure  balance  num_of_products  \\\n",
       "492            639    France  Female   38       4    81551                2   \n",
       "6655           554    France    Male   44       5    85305                1   \n",
       "4287           714   Germany    Male   53       1    99142                1   \n",
       "42             556    France  Female   61       2   117420                1   \n",
       "8178           707    France  Female   46       7   127477                2   \n",
       "\n",
       "      has_cr_card  is_active  salary  \n",
       "492             0          1  118975  \n",
       "6655            1          1   58077  \n",
       "4287            1          1   72497  \n",
       "42              1          1   94154  \n",
       "8178            1          1  146012  "
      ]
     },
     "execution_count": 56,
     "metadata": {},
     "output_type": "execute_result"
    }
   ],
   "source": [
    "features_train.head()"
   ]
  },
  {
   "cell_type": "code",
   "execution_count": 57,
   "id": "1b922a75",
   "metadata": {
    "ExecuteTime": {
     "end_time": "2023-04-16T15:49:54.027321Z",
     "start_time": "2023-04-16T15:49:54.013324Z"
    }
   },
   "outputs": [],
   "source": [
    "cat_cols = ['geography', 'gender']\n",
    "num_cols = ['credit_score', 'age', 'balance', 'tenure', 'salary', 'num_of_products']"
   ]
  },
  {
   "cell_type": "code",
   "execution_count": 58,
   "id": "db97b618",
   "metadata": {
    "ExecuteTime": {
     "end_time": "2023-04-16T15:49:54.043250Z",
     "start_time": "2023-04-16T15:49:54.030307Z"
    }
   },
   "outputs": [
    {
     "data": {
      "text/plain": [
       "StandardScaler()"
      ]
     },
     "execution_count": 58,
     "metadata": {},
     "output_type": "execute_result"
    }
   ],
   "source": [
    "ohe = OneHotEncoder(sparse=False, drop='first').fit(features_train[cat_cols])\n",
    "\n",
    "scaler = StandardScaler()\n",
    "scaler.fit(features_train[num_cols])"
   ]
  },
  {
   "cell_type": "code",
   "execution_count": 59,
   "id": "351615fb",
   "metadata": {
    "ExecuteTime": {
     "end_time": "2023-04-16T15:49:54.107074Z",
     "start_time": "2023-04-16T15:49:54.046237Z"
    }
   },
   "outputs": [],
   "source": [
    "for df_name in [features_train, features_valid, features_test]:\n",
    "    df_name[ohe.get_feature_names()] = ohe.transform(df_name[cat_cols])\n",
    "    df_name[num_cols] = scaler.transform(df_name[num_cols])\n",
    "    df_name.drop(columns=cat_cols, inplace=True)"
   ]
  },
  {
   "cell_type": "code",
   "execution_count": 60,
   "id": "823b0880",
   "metadata": {
    "ExecuteTime": {
     "end_time": "2023-04-16T15:49:54.138989Z",
     "start_time": "2023-04-16T15:49:54.108073Z"
    }
   },
   "outputs": [
    {
     "data": {
      "text/html": [
       "<div>\n",
       "<style scoped>\n",
       "    .dataframe tbody tr th:only-of-type {\n",
       "        vertical-align: middle;\n",
       "    }\n",
       "\n",
       "    .dataframe tbody tr th {\n",
       "        vertical-align: top;\n",
       "    }\n",
       "\n",
       "    .dataframe thead th {\n",
       "        text-align: right;\n",
       "    }\n",
       "</style>\n",
       "<table border=\"1\" class=\"dataframe\">\n",
       "  <thead>\n",
       "    <tr style=\"text-align: right;\">\n",
       "      <th></th>\n",
       "      <th>credit_score</th>\n",
       "      <th>age</th>\n",
       "      <th>tenure</th>\n",
       "      <th>balance</th>\n",
       "      <th>num_of_products</th>\n",
       "      <th>has_cr_card</th>\n",
       "      <th>is_active</th>\n",
       "      <th>salary</th>\n",
       "      <th>x0_Germany</th>\n",
       "      <th>x0_Spain</th>\n",
       "      <th>x1_Male</th>\n",
       "    </tr>\n",
       "  </thead>\n",
       "  <tbody>\n",
       "    <tr>\n",
       "      <th>492</th>\n",
       "      <td>-0.134048</td>\n",
       "      <td>-0.078068</td>\n",
       "      <td>-0.369113</td>\n",
       "      <td>0.076159</td>\n",
       "      <td>0.816929</td>\n",
       "      <td>0</td>\n",
       "      <td>1</td>\n",
       "      <td>0.331566</td>\n",
       "      <td>0.0</td>\n",
       "      <td>0.0</td>\n",
       "      <td>0.0</td>\n",
       "    </tr>\n",
       "    <tr>\n",
       "      <th>6655</th>\n",
       "      <td>-1.010798</td>\n",
       "      <td>0.494555</td>\n",
       "      <td>-0.007415</td>\n",
       "      <td>0.136397</td>\n",
       "      <td>-0.896909</td>\n",
       "      <td>1</td>\n",
       "      <td>1</td>\n",
       "      <td>-0.727858</td>\n",
       "      <td>0.0</td>\n",
       "      <td>0.0</td>\n",
       "      <td>1.0</td>\n",
       "    </tr>\n",
       "    <tr>\n",
       "      <th>4287</th>\n",
       "      <td>0.639554</td>\n",
       "      <td>1.353490</td>\n",
       "      <td>-1.454209</td>\n",
       "      <td>0.358431</td>\n",
       "      <td>-0.896909</td>\n",
       "      <td>1</td>\n",
       "      <td>1</td>\n",
       "      <td>-0.476998</td>\n",
       "      <td>1.0</td>\n",
       "      <td>0.0</td>\n",
       "      <td>1.0</td>\n",
       "    </tr>\n",
       "    <tr>\n",
       "      <th>42</th>\n",
       "      <td>-0.990168</td>\n",
       "      <td>2.116987</td>\n",
       "      <td>-1.092511</td>\n",
       "      <td>0.651728</td>\n",
       "      <td>-0.896909</td>\n",
       "      <td>1</td>\n",
       "      <td>1</td>\n",
       "      <td>-0.100237</td>\n",
       "      <td>0.0</td>\n",
       "      <td>0.0</td>\n",
       "      <td>0.0</td>\n",
       "    </tr>\n",
       "    <tr>\n",
       "      <th>8178</th>\n",
       "      <td>0.567351</td>\n",
       "      <td>0.685430</td>\n",
       "      <td>0.715982</td>\n",
       "      <td>0.813107</td>\n",
       "      <td>0.816929</td>\n",
       "      <td>1</td>\n",
       "      <td>1</td>\n",
       "      <td>0.801921</td>\n",
       "      <td>0.0</td>\n",
       "      <td>0.0</td>\n",
       "      <td>0.0</td>\n",
       "    </tr>\n",
       "  </tbody>\n",
       "</table>\n",
       "</div>"
      ],
      "text/plain": [
       "      credit_score       age    tenure   balance  num_of_products  \\\n",
       "492      -0.134048 -0.078068 -0.369113  0.076159         0.816929   \n",
       "6655     -1.010798  0.494555 -0.007415  0.136397        -0.896909   \n",
       "4287      0.639554  1.353490 -1.454209  0.358431        -0.896909   \n",
       "42       -0.990168  2.116987 -1.092511  0.651728        -0.896909   \n",
       "8178      0.567351  0.685430  0.715982  0.813107         0.816929   \n",
       "\n",
       "      has_cr_card  is_active    salary  x0_Germany  x0_Spain  x1_Male  \n",
       "492             0          1  0.331566         0.0       0.0      0.0  \n",
       "6655            1          1 -0.727858         0.0       0.0      1.0  \n",
       "4287            1          1 -0.476998         1.0       0.0      1.0  \n",
       "42              1          1 -0.100237         0.0       0.0      0.0  \n",
       "8178            1          1  0.801921         0.0       0.0      0.0  "
      ]
     },
     "metadata": {},
     "output_type": "display_data"
    },
    {
     "data": {
      "text/plain": [
       "(6000, 11)"
      ]
     },
     "metadata": {},
     "output_type": "display_data"
    }
   ],
   "source": [
    "display(features_train.head())\n",
    "display(features_train.shape)"
   ]
  },
  {
   "cell_type": "code",
   "execution_count": 61,
   "id": "9855deab",
   "metadata": {
    "ExecuteTime": {
     "end_time": "2023-04-16T15:49:54.170904Z",
     "start_time": "2023-04-16T15:49:54.139987Z"
    }
   },
   "outputs": [
    {
     "data": {
      "text/html": [
       "<div>\n",
       "<style scoped>\n",
       "    .dataframe tbody tr th:only-of-type {\n",
       "        vertical-align: middle;\n",
       "    }\n",
       "\n",
       "    .dataframe tbody tr th {\n",
       "        vertical-align: top;\n",
       "    }\n",
       "\n",
       "    .dataframe thead th {\n",
       "        text-align: right;\n",
       "    }\n",
       "</style>\n",
       "<table border=\"1\" class=\"dataframe\">\n",
       "  <thead>\n",
       "    <tr style=\"text-align: right;\">\n",
       "      <th></th>\n",
       "      <th>credit_score</th>\n",
       "      <th>age</th>\n",
       "      <th>tenure</th>\n",
       "      <th>balance</th>\n",
       "      <th>num_of_products</th>\n",
       "      <th>has_cr_card</th>\n",
       "      <th>is_active</th>\n",
       "      <th>salary</th>\n",
       "      <th>x0_Germany</th>\n",
       "      <th>x0_Spain</th>\n",
       "      <th>x1_Male</th>\n",
       "    </tr>\n",
       "  </thead>\n",
       "  <tbody>\n",
       "    <tr>\n",
       "      <th>2358</th>\n",
       "      <td>0.175393</td>\n",
       "      <td>0.399118</td>\n",
       "      <td>-1.454209</td>\n",
       "      <td>1.385691</td>\n",
       "      <td>-0.896909</td>\n",
       "      <td>0</td>\n",
       "      <td>1</td>\n",
       "      <td>-1.466766</td>\n",
       "      <td>0.0</td>\n",
       "      <td>0.0</td>\n",
       "      <td>1.0</td>\n",
       "    </tr>\n",
       "    <tr>\n",
       "      <th>8463</th>\n",
       "      <td>-1.299609</td>\n",
       "      <td>0.971741</td>\n",
       "      <td>-1.092511</td>\n",
       "      <td>-1.232442</td>\n",
       "      <td>-0.896909</td>\n",
       "      <td>1</td>\n",
       "      <td>0</td>\n",
       "      <td>0.254412</td>\n",
       "      <td>0.0</td>\n",
       "      <td>1.0</td>\n",
       "      <td>1.0</td>\n",
       "    </tr>\n",
       "    <tr>\n",
       "      <th>163</th>\n",
       "      <td>0.711757</td>\n",
       "      <td>-0.268942</td>\n",
       "      <td>-1.092511</td>\n",
       "      <td>-1.232442</td>\n",
       "      <td>0.816929</td>\n",
       "      <td>1</td>\n",
       "      <td>1</td>\n",
       "      <td>0.122858</td>\n",
       "      <td>0.0</td>\n",
       "      <td>1.0</td>\n",
       "      <td>0.0</td>\n",
       "    </tr>\n",
       "    <tr>\n",
       "      <th>3074</th>\n",
       "      <td>-0.391916</td>\n",
       "      <td>0.494555</td>\n",
       "      <td>0.354284</td>\n",
       "      <td>0.672524</td>\n",
       "      <td>-0.896909</td>\n",
       "      <td>1</td>\n",
       "      <td>0</td>\n",
       "      <td>0.585854</td>\n",
       "      <td>1.0</td>\n",
       "      <td>0.0</td>\n",
       "      <td>0.0</td>\n",
       "    </tr>\n",
       "    <tr>\n",
       "      <th>5989</th>\n",
       "      <td>0.165078</td>\n",
       "      <td>1.353490</td>\n",
       "      <td>1.801078</td>\n",
       "      <td>0.536531</td>\n",
       "      <td>-0.896909</td>\n",
       "      <td>0</td>\n",
       "      <td>0</td>\n",
       "      <td>1.462456</td>\n",
       "      <td>0.0</td>\n",
       "      <td>0.0</td>\n",
       "      <td>0.0</td>\n",
       "    </tr>\n",
       "  </tbody>\n",
       "</table>\n",
       "</div>"
      ],
      "text/plain": [
       "      credit_score       age    tenure   balance  num_of_products  \\\n",
       "2358      0.175393  0.399118 -1.454209  1.385691        -0.896909   \n",
       "8463     -1.299609  0.971741 -1.092511 -1.232442        -0.896909   \n",
       "163       0.711757 -0.268942 -1.092511 -1.232442         0.816929   \n",
       "3074     -0.391916  0.494555  0.354284  0.672524        -0.896909   \n",
       "5989      0.165078  1.353490  1.801078  0.536531        -0.896909   \n",
       "\n",
       "      has_cr_card  is_active    salary  x0_Germany  x0_Spain  x1_Male  \n",
       "2358            0          1 -1.466766         0.0       0.0      1.0  \n",
       "8463            1          0  0.254412         0.0       1.0      1.0  \n",
       "163             1          1  0.122858         0.0       1.0      0.0  \n",
       "3074            1          0  0.585854         1.0       0.0      0.0  \n",
       "5989            0          0  1.462456         0.0       0.0      0.0  "
      ]
     },
     "metadata": {},
     "output_type": "display_data"
    },
    {
     "data": {
      "text/plain": [
       "(2000, 11)"
      ]
     },
     "metadata": {},
     "output_type": "display_data"
    }
   ],
   "source": [
    "display(features_valid.head())\n",
    "display(features_valid.shape)"
   ]
  },
  {
   "cell_type": "code",
   "execution_count": 62,
   "id": "26981ae8",
   "metadata": {
    "ExecuteTime": {
     "end_time": "2023-04-16T15:49:54.201988Z",
     "start_time": "2023-04-16T15:49:54.172899Z"
    }
   },
   "outputs": [
    {
     "data": {
      "text/html": [
       "<div>\n",
       "<style scoped>\n",
       "    .dataframe tbody tr th:only-of-type {\n",
       "        vertical-align: middle;\n",
       "    }\n",
       "\n",
       "    .dataframe tbody tr th {\n",
       "        vertical-align: top;\n",
       "    }\n",
       "\n",
       "    .dataframe thead th {\n",
       "        text-align: right;\n",
       "    }\n",
       "</style>\n",
       "<table border=\"1\" class=\"dataframe\">\n",
       "  <thead>\n",
       "    <tr style=\"text-align: right;\">\n",
       "      <th></th>\n",
       "      <th>credit_score</th>\n",
       "      <th>age</th>\n",
       "      <th>tenure</th>\n",
       "      <th>balance</th>\n",
       "      <th>num_of_products</th>\n",
       "      <th>has_cr_card</th>\n",
       "      <th>is_active</th>\n",
       "      <th>salary</th>\n",
       "      <th>x0_Germany</th>\n",
       "      <th>x0_Spain</th>\n",
       "      <th>x1_Male</th>\n",
       "    </tr>\n",
       "  </thead>\n",
       "  <tbody>\n",
       "    <tr>\n",
       "      <th>7867</th>\n",
       "      <td>-0.123733</td>\n",
       "      <td>0.685430</td>\n",
       "      <td>-0.730812</td>\n",
       "      <td>-1.232442</td>\n",
       "      <td>-0.896909</td>\n",
       "      <td>1</td>\n",
       "      <td>1</td>\n",
       "      <td>0.980220</td>\n",
       "      <td>0.0</td>\n",
       "      <td>1.0</td>\n",
       "      <td>0.0</td>\n",
       "    </tr>\n",
       "    <tr>\n",
       "      <th>1402</th>\n",
       "      <td>1.083087</td>\n",
       "      <td>-0.937002</td>\n",
       "      <td>1.077681</td>\n",
       "      <td>0.858518</td>\n",
       "      <td>-0.896909</td>\n",
       "      <td>1</td>\n",
       "      <td>0</td>\n",
       "      <td>-0.390484</td>\n",
       "      <td>0.0</td>\n",
       "      <td>0.0</td>\n",
       "      <td>1.0</td>\n",
       "    </tr>\n",
       "    <tr>\n",
       "      <th>8606</th>\n",
       "      <td>1.598822</td>\n",
       "      <td>0.303681</td>\n",
       "      <td>-0.007415</td>\n",
       "      <td>-1.232442</td>\n",
       "      <td>0.816929</td>\n",
       "      <td>1</td>\n",
       "      <td>1</td>\n",
       "      <td>-0.435176</td>\n",
       "      <td>0.0</td>\n",
       "      <td>1.0</td>\n",
       "      <td>1.0</td>\n",
       "    </tr>\n",
       "    <tr>\n",
       "      <th>8885</th>\n",
       "      <td>0.165078</td>\n",
       "      <td>0.589993</td>\n",
       "      <td>-0.369113</td>\n",
       "      <td>0.412107</td>\n",
       "      <td>0.816929</td>\n",
       "      <td>1</td>\n",
       "      <td>1</td>\n",
       "      <td>1.017083</td>\n",
       "      <td>0.0</td>\n",
       "      <td>1.0</td>\n",
       "      <td>1.0</td>\n",
       "    </tr>\n",
       "    <tr>\n",
       "      <th>6494</th>\n",
       "      <td>0.484834</td>\n",
       "      <td>-1.032439</td>\n",
       "      <td>0.715982</td>\n",
       "      <td>-1.232442</td>\n",
       "      <td>0.816929</td>\n",
       "      <td>1</td>\n",
       "      <td>1</td>\n",
       "      <td>-1.343562</td>\n",
       "      <td>0.0</td>\n",
       "      <td>0.0</td>\n",
       "      <td>1.0</td>\n",
       "    </tr>\n",
       "  </tbody>\n",
       "</table>\n",
       "</div>"
      ],
      "text/plain": [
       "      credit_score       age    tenure   balance  num_of_products  \\\n",
       "7867     -0.123733  0.685430 -0.730812 -1.232442        -0.896909   \n",
       "1402      1.083087 -0.937002  1.077681  0.858518        -0.896909   \n",
       "8606      1.598822  0.303681 -0.007415 -1.232442         0.816929   \n",
       "8885      0.165078  0.589993 -0.369113  0.412107         0.816929   \n",
       "6494      0.484834 -1.032439  0.715982 -1.232442         0.816929   \n",
       "\n",
       "      has_cr_card  is_active    salary  x0_Germany  x0_Spain  x1_Male  \n",
       "7867            1          1  0.980220         0.0       1.0      0.0  \n",
       "1402            1          0 -0.390484         0.0       0.0      1.0  \n",
       "8606            1          1 -0.435176         0.0       1.0      1.0  \n",
       "8885            1          1  1.017083         0.0       1.0      1.0  \n",
       "6494            1          1 -1.343562         0.0       0.0      1.0  "
      ]
     },
     "metadata": {},
     "output_type": "display_data"
    },
    {
     "data": {
      "text/plain": [
       "(2000, 11)"
      ]
     },
     "metadata": {},
     "output_type": "display_data"
    }
   ],
   "source": [
    "display(features_test.head())\n",
    "display(features_test.shape)"
   ]
  },
  {
   "cell_type": "markdown",
   "id": "17303f14",
   "metadata": {},
   "source": [
    "Данные подготовлены, можно приступать к исследованию."
   ]
  },
  {
   "cell_type": "markdown",
   "id": "8913253e",
   "metadata": {},
   "source": [
    "## Исследование задачи"
   ]
  },
  {
   "cell_type": "code",
   "execution_count": 63,
   "id": "68fc0a98",
   "metadata": {
    "ExecuteTime": {
     "end_time": "2023-04-16T15:49:54.375521Z",
     "start_time": "2023-04-16T15:49:54.203969Z"
    }
   },
   "outputs": [
    {
     "data": {
      "image/png": "[encoded data removed]",
      "text/plain": [
       "<Figure size 360x360 with 1 Axes>"
      ]
     },
     "metadata": {
      "needs_background": "light"
     },
     "output_type": "display_data"
    }
   ],
   "source": [
    "sns.catplot(data=df, x='exited', kind='count')\n",
    "plt.show()"
   ]
  },
  {
   "cell_type": "markdown",
   "id": "cd4a65a6",
   "metadata": {},
   "source": [
    "В предоставленных данных наблюдается дисбаланс классов. На данном этапе обучим модели без учёта дисбаланса."
   ]
  },
  {
   "cell_type": "markdown",
   "id": "2b832400",
   "metadata": {},
   "source": [
    "### Логистическая регрессия"
   ]
  },
  {
   "cell_type": "code",
   "execution_count": 64,
   "id": "f6a40fef",
   "metadata": {
    "ExecuteTime": {
     "end_time": "2023-04-16T15:49:54.485224Z",
     "start_time": "2023-04-16T15:49:54.377483Z"
    }
   },
   "outputs": [
    {
     "name": "stdout",
     "output_type": "stream",
     "text": [
      "solver_type = newton-cg, F1 = 0.3013, ROC AUC = 0.7703\n",
      "solver_type = lbfgs, F1 = 0.3013, ROC AUC = 0.7703\n",
      "solver_type = liblinear, F1 = 0.3013, ROC AUC = 0.7703\n"
     ]
    }
   ],
   "source": [
    "best_f1_logistic_regression = 0\n",
    "for solver_type in ['newton-cg', 'lbfgs', 'liblinear']:\n",
    "    model = LogisticRegression(solver=solver_type, max_iter=400, random_state=12345)\n",
    "    model.fit(features_train, target_train)\n",
    "    predictions = model.predict(features_valid)\n",
    "    f1 = f1_score(target_valid, predictions)\n",
    "    probabilities_one_valid = model.predict_proba(features_valid)[:, 1]\n",
    "    auc_roc = roc_auc_score(target_valid, probabilities_one_valid)\n",
    "    print(f'solver_type = {solver_type}, F1 = {f1:.4f}, ROC AUC = {auc_roc:.4f}')\n",
    "    if f1 > best_f1_logistic_regression:\n",
    "        best_f1_logistic_regression = f1"
   ]
  },
  {
   "cell_type": "markdown",
   "id": "88fe8ba3",
   "metadata": {},
   "source": [
    "Значение F1-меры примерно одинаково для всех алгоритмов логической регрессии - около 0,3, метрики ROC AUC - 0,77"
   ]
  },
  {
   "cell_type": "markdown",
   "id": "8f090f20",
   "metadata": {},
   "source": [
    "### Дерево решений"
   ]
  },
  {
   "cell_type": "markdown",
   "id": "e064aeba",
   "metadata": {},
   "source": [
    "Посмотрим, какие результаты даст дерево решений."
   ]
  },
  {
   "cell_type": "code",
   "execution_count": 65,
   "id": "f38e1e41",
   "metadata": {
    "ExecuteTime": {
     "end_time": "2023-04-16T15:49:54.533095Z",
     "start_time": "2023-04-16T15:49:54.488217Z"
    }
   },
   "outputs": [
    {
     "name": "stdout",
     "output_type": "stream",
     "text": [
      "F1 = 0.4839\n"
     ]
    }
   ],
   "source": [
    "model = DecisionTreeClassifier(random_state=12345)\n",
    "model.fit(features_train, target_train)\n",
    "predictions = model.predict(features_valid)\n",
    "print('F1 =', round(f1_score(target_valid, predictions), 4))"
   ]
  },
  {
   "cell_type": "markdown",
   "id": "2ce40a33",
   "metadata": {},
   "source": [
    "Значение F1-меры для дерева решений выше, чем для логистической регрессии даже без подбора параметров. Попробую подобрать более оптимальные параметры."
   ]
  },
  {
   "cell_type": "markdown",
   "id": "abc5efcf",
   "metadata": {},
   "source": [
    "Изучаю, как влияет на качество модели по метрике F1 значения различных параметров."
   ]
  },
  {
   "cell_type": "code",
   "execution_count": 66,
   "id": "d30acb0d",
   "metadata": {
    "ExecuteTime": {
     "end_time": "2023-04-16T15:49:54.928022Z",
     "start_time": "2023-04-16T15:49:54.535059Z"
    }
   },
   "outputs": [
    {
     "name": "stdout",
     "output_type": "stream",
     "text": [
      "max_depth = 2, F1 = 0.5037\n",
      "max_depth = 3, F1 = 0.3938\n",
      "max_depth = 4, F1 = 0.4302\n",
      "max_depth = 5, F1 = 0.5488\n",
      "max_depth = 6, F1 = 0.5113\n",
      "max_depth = 7, F1 = 0.5584\n",
      "max_depth = 8, F1 = 0.5399\n",
      "max_depth = 9, F1 = 0.5357\n",
      "max_depth = 10, F1 = 0.5384\n",
      "max_depth = 11, F1 = 0.5132\n",
      "max_depth = 12, F1 = 0.5080\n",
      "max_depth = 13, F1 = 0.4966\n",
      "max_depth = 14, F1 = 0.5080\n",
      "max_depth = 15, F1 = 0.4993\n",
      "max_depth = 16, F1 = 0.5065\n",
      "max_depth = 17, F1 = 0.4917\n",
      "max_depth = 18, F1 = 0.4855\n",
      "max_depth = 19, F1 = 0.4975\n"
     ]
    }
   ],
   "source": [
    "for depth in range(2, 20):\n",
    "    model = DecisionTreeClassifier(max_depth=depth, random_state=12345)\n",
    "    model.fit(features_train, target_train)\n",
    "    predictions = model.predict(features_valid)\n",
    "    f1 = f1_score(target_valid, predictions)\n",
    "    print(f'max_depth = {depth}, F1 = {f1:.4f}')"
   ]
  },
  {
   "cell_type": "code",
   "execution_count": 67,
   "id": "0b14ab31",
   "metadata": {
    "ExecuteTime": {
     "end_time": "2023-04-16T15:49:55.355398Z",
     "start_time": "2023-04-16T15:49:54.928986Z"
    }
   },
   "outputs": [
    {
     "name": "stdout",
     "output_type": "stream",
     "text": [
      "samples_split = 2, F1 = 0.5584\n",
      "samples_split = 12, F1 = 0.5575\n",
      "samples_split = 22, F1 = 0.5575\n",
      "samples_split = 32, F1 = 0.5561\n",
      "samples_split = 42, F1 = 0.5390\n",
      "samples_split = 52, F1 = 0.5368\n",
      "samples_split = 62, F1 = 0.5368\n",
      "samples_split = 72, F1 = 0.5368\n",
      "samples_split = 82, F1 = 0.5368\n",
      "samples_split = 92, F1 = 0.5419\n",
      "samples_split = 102, F1 = 0.5535\n",
      "samples_split = 112, F1 = 0.5535\n",
      "samples_split = 122, F1 = 0.5666\n",
      "samples_split = 132, F1 = 0.5666\n",
      "samples_split = 142, F1 = 0.5753\n",
      "samples_split = 152, F1 = 0.5753\n",
      "samples_split = 162, F1 = 0.5753\n",
      "samples_split = 172, F1 = 0.5774\n",
      "samples_split = 182, F1 = 0.5774\n",
      "samples_split = 192, F1 = 0.5774\n",
      "samples_split = 202, F1 = 0.5494\n",
      "samples_split = 212, F1 = 0.5494\n",
      "samples_split = 222, F1 = 0.5183\n",
      "samples_split = 232, F1 = 0.5183\n",
      "samples_split = 242, F1 = 0.5183\n"
     ]
    }
   ],
   "source": [
    "for samples_split in range(2, 250, 10):\n",
    "    model = DecisionTreeClassifier(max_depth=7, min_samples_split=samples_split, random_state=12345)\n",
    "    model.fit(features_train, target_train)\n",
    "    predictions = model.predict(features_valid)\n",
    "    f1 = f1_score(target_valid, predictions)\n",
    "    print(f'samples_split = {samples_split}, F1 = {f1:.4f}')"
   ]
  },
  {
   "cell_type": "code",
   "execution_count": 68,
   "id": "cccf612e",
   "metadata": {
    "ExecuteTime": {
     "end_time": "2023-04-16T15:49:55.765658Z",
     "start_time": "2023-04-16T15:49:55.357396Z"
    }
   },
   "outputs": [
    {
     "name": "stdout",
     "output_type": "stream",
     "text": [
      "samples_leaf = 2, F1 = 0.5592\n",
      "samples_leaf = 4, F1 = 0.5584\n",
      "samples_leaf = 6, F1 = 0.5566\n",
      "samples_leaf = 8, F1 = 0.5647\n",
      "samples_leaf = 10, F1 = 0.5566\n",
      "samples_leaf = 12, F1 = 0.5635\n",
      "samples_leaf = 14, F1 = 0.5626\n",
      "samples_leaf = 16, F1 = 0.5617\n",
      "samples_leaf = 18, F1 = 0.5489\n",
      "samples_leaf = 20, F1 = 0.5446\n",
      "samples_leaf = 22, F1 = 0.5410\n",
      "samples_leaf = 24, F1 = 0.5410\n",
      "samples_leaf = 26, F1 = 0.5419\n",
      "samples_leaf = 28, F1 = 0.5404\n",
      "samples_leaf = 30, F1 = 0.5404\n",
      "samples_leaf = 32, F1 = 0.5318\n",
      "samples_leaf = 34, F1 = 0.5460\n",
      "samples_leaf = 36, F1 = 0.5460\n",
      "samples_leaf = 38, F1 = 0.5688\n",
      "samples_leaf = 40, F1 = 0.5688\n",
      "samples_leaf = 42, F1 = 0.5521\n",
      "samples_leaf = 44, F1 = 0.5152\n",
      "samples_leaf = 46, F1 = 0.5097\n",
      "samples_leaf = 48, F1 = 0.5140\n"
     ]
    }
   ],
   "source": [
    "for samples_leaf in range(2, 50, 2):\n",
    "    model = DecisionTreeClassifier(max_depth=7, min_samples_leaf=samples_leaf, random_state=rnd_state)\n",
    "    model.fit(features_train, target_train)\n",
    "    predictions = model.predict(features_valid)\n",
    "    f1 = f1_score(target_valid, predictions)\n",
    "    print(f'samples_leaf = {samples_leaf}, F1 = {f1:.4f}')"
   ]
  },
  {
   "cell_type": "code",
   "execution_count": 69,
   "id": "fdccc485",
   "metadata": {
    "ExecuteTime": {
     "end_time": "2023-04-16T15:50:37.176414Z",
     "start_time": "2023-04-16T15:49:55.771650Z"
    }
   },
   "outputs": [
    {
     "name": "stdout",
     "output_type": "stream",
     "text": [
      "Fitting 5 folds for each of 1600 candidates, totalling 8000 fits\n"
     ]
    },
    {
     "data": {
      "text/plain": [
       "GridSearchCV(estimator=DecisionTreeClassifier(), n_jobs=-1,\n",
       "             param_grid={'max_depth': range(5, 13),\n",
       "                         'min_samples_leaf': range(2, 42, 2),\n",
       "                         'min_samples_split': range(100, 200, 10)},\n",
       "             scoring='f1', verbose=1)"
      ]
     },
     "execution_count": 69,
     "metadata": {},
     "output_type": "execute_result"
    }
   ],
   "source": [
    "parameters_grid = {\n",
    "    'max_depth': range(5, 13),\n",
    "    'min_samples_split': range(100, 200, 10),\n",
    "    'min_samples_leaf': range(2, 42, 2)    \n",
    "}\n",
    "\n",
    "model = DecisionTreeClassifier()\n",
    "grid_cv = GridSearchCV(model, parameters_grid, scoring='f1', verbose=1, n_jobs=-1)\n",
    "grid_cv.fit(features_train, target_train)"
   ]
  },
  {
   "cell_type": "code",
   "execution_count": 70,
   "id": "431b48c5",
   "metadata": {
    "ExecuteTime": {
     "end_time": "2023-04-16T15:50:37.192371Z",
     "start_time": "2023-04-16T15:50:37.180403Z"
    }
   },
   "outputs": [
    {
     "data": {
      "text/plain": [
       "{'max_depth': 12, 'min_samples_leaf': 4, 'min_samples_split': 100}"
      ]
     },
     "execution_count": 70,
     "metadata": {},
     "output_type": "execute_result"
    }
   ],
   "source": [
    "grid_cv.best_params_"
   ]
  },
  {
   "cell_type": "code",
   "execution_count": 71,
   "id": "a5f6f437",
   "metadata": {
    "ExecuteTime": {
     "end_time": "2023-04-16T15:50:37.272157Z",
     "start_time": "2023-04-16T15:50:37.196361Z"
    }
   },
   "outputs": [
    {
     "name": "stdout",
     "output_type": "stream",
     "text": [
      "Best decision tree model metrics: F1 = 0.5706, ROC AUC = 0.8352\n"
     ]
    }
   ],
   "source": [
    "model_tree = DecisionTreeClassifier(**grid_cv.best_params_, random_state=rnd_state)\n",
    "model_tree.fit(features_train, target_train)\n",
    "predictions = model_tree.predict(features_valid)\n",
    "f1_tree = f1_score(target_valid, predictions)\n",
    "probabilities_one_valid = model_tree.predict_proba(features_valid)[:, 1]\n",
    "auc_roc_tree = roc_auc_score(target_valid, probabilities_one_valid)\n",
    "print(f'Best decision tree model metrics: F1 = {f1_tree:.4f}, ROC AUC = {auc_roc_tree:.4f}')"
   ]
  },
  {
   "cell_type": "markdown",
   "id": "b71d708c",
   "metadata": {},
   "source": [
    "Результат намного лучше, чем с логистической регрессией."
   ]
  },
  {
   "cell_type": "markdown",
   "id": "854612ad",
   "metadata": {},
   "source": [
    "### Случайный лес"
   ]
  },
  {
   "cell_type": "markdown",
   "id": "6d78842c",
   "metadata": {},
   "source": [
    "Смотрю, какое значение F1-меры получится у модели с алгоритмом случайный лес с параметрами по умолчанию."
   ]
  },
  {
   "cell_type": "code",
   "execution_count": 72,
   "id": "9af5a7f3",
   "metadata": {
    "ExecuteTime": {
     "end_time": "2023-04-16T15:50:38.159726Z",
     "start_time": "2023-04-16T15:50:37.275150Z"
    }
   },
   "outputs": [
    {
     "name": "stdout",
     "output_type": "stream",
     "text": [
      "F1 = 0.5140, ROC AUC = 0.8352\n"
     ]
    }
   ],
   "source": [
    "model = RandomForestClassifier(random_state=rnd_state)\n",
    "model.fit(features_train, target_train)\n",
    "predictions = model.predict(features_valid)\n",
    "probabilities_one_valid = model_tree.predict_proba(features_valid)[:, 1]\n",
    "auc_roc = roc_auc_score(target_valid, probabilities_one_valid)\n",
    "print(f'F1 = {f1:.4f}, ROC AUC = {auc_roc:.4f}')"
   ]
  },
  {
   "cell_type": "markdown",
   "id": "92e664c3",
   "metadata": {},
   "source": [
    "Значение F1-меры для случайного леса с параметрами по умолчанию похуже, чем у дерева решений с подобранными параметрами. Попробую подобрать оптимальные параметры для случайного леса."
   ]
  },
  {
   "cell_type": "code",
   "execution_count": 73,
   "id": "36f5f24e",
   "metadata": {
    "ExecuteTime": {
     "end_time": "2023-04-16T15:51:02.052429Z",
     "start_time": "2023-04-16T15:50:38.161723Z"
    }
   },
   "outputs": [],
   "source": [
    "f1_list = [ ]\n",
    "for n in range(10, 400, 10):\n",
    "    model = RandomForestClassifier(n_estimators=n, random_state=rnd_state, n_jobs=-1)\n",
    "    model.fit(features_train, target_train)\n",
    "    predictions = model.predict(features_valid)\n",
    "    f1_list.append(f1_score(target_valid, predictions))"
   ]
  },
  {
   "cell_type": "code",
   "execution_count": 74,
   "id": "e7558a6e",
   "metadata": {
    "ExecuteTime": {
     "end_time": "2023-04-16T15:51:02.226812Z",
     "start_time": "2023-04-16T15:51:02.054431Z"
    }
   },
   "outputs": [
    {
     "data": {
      "image/png": "[encoded data removed]",
      "text/plain": [
       "<Figure size 720x432 with 1 Axes>"
      ]
     },
     "metadata": {
      "needs_background": "light"
     },
     "output_type": "display_data"
    }
   ],
   "source": [
    "estimators_list = range(10, 400, 10)\n",
    "plt.figure(figsize=(10, 6))\n",
    "plt.xlabel('estimators')\n",
    "plt.ylabel('F1-мера')\n",
    "plt.title('Изменение F1 c увеличением количества деревьев')\n",
    "plt.plot(estimators_list, f1_list, 'bs--')\n",
    "plt.show()"
   ]
  },
  {
   "cell_type": "markdown",
   "id": "e154385f",
   "metadata": {},
   "source": [
    "С увеличением количества деревьев качество модели будет расти. По графику видно, что для оптимального качества достаточно взять диапазон количества деревьев примерно от 100 до 150."
   ]
  },
  {
   "cell_type": "code",
   "execution_count": 75,
   "id": "382bc0f1",
   "metadata": {
    "ExecuteTime": {
     "end_time": "2023-04-16T15:51:10.780421Z",
     "start_time": "2023-04-16T15:51:02.228812Z"
    },
    "scrolled": true
   },
   "outputs": [
    {
     "name": "stdout",
     "output_type": "stream",
     "text": [
      "max_features = 4, F1 = 0.5460\n",
      "max_features = 5, F1 = 0.5557\n",
      "max_features = 6, F1 = 0.5580\n",
      "max_features = 7, F1 = 0.5573\n",
      "max_features = 8, F1 = 0.5526\n",
      "max_features = 9, F1 = 0.5478\n",
      "max_features = 10, F1 = 0.5585\n",
      "max_features = 11, F1 = 0.5576\n"
     ]
    }
   ],
   "source": [
    "for features in range(4, 12):\n",
    "    model = RandomForestClassifier(max_features=features, random_state=rnd_state)\n",
    "    model.fit(features_train, target_train)\n",
    "    predictions = model.predict(features_valid)\n",
    "    f1 = f1_score(target_valid, predictions)\n",
    "    print(f'max_features = {features}, F1 = {f1:.4f}')"
   ]
  },
  {
   "cell_type": "code",
   "execution_count": 76,
   "id": "d2e449b8",
   "metadata": {
    "ExecuteTime": {
     "end_time": "2023-04-16T15:51:19.779415Z",
     "start_time": "2023-04-16T15:51:10.782347Z"
    }
   },
   "outputs": [
    {
     "name": "stdout",
     "output_type": "stream",
     "text": [
      "max_depth = 5, F1 = 0.4528\n",
      "max_depth = 6, F1 = 0.5140\n",
      "max_depth = 7, F1 = 0.5223\n",
      "max_depth = 8, F1 = 0.5403\n",
      "max_depth = 9, F1 = 0.5415\n",
      "max_depth = 10, F1 = 0.5482\n",
      "max_depth = 11, F1 = 0.5452\n",
      "max_depth = 12, F1 = 0.5481\n",
      "max_depth = 13, F1 = 0.5499\n",
      "max_depth = 14, F1 = 0.5539\n",
      "max_depth = 15, F1 = 0.5692\n",
      "max_depth = 16, F1 = 0.5577\n",
      "max_depth = 17, F1 = 0.5490\n",
      "max_depth = 18, F1 = 0.5493\n",
      "max_depth = 19, F1 = 0.5622\n",
      "max_depth = 20, F1 = 0.5620\n",
      "max_depth = 21, F1 = 0.5586\n",
      "max_depth = 22, F1 = 0.5541\n",
      "max_depth = 23, F1 = 0.5533\n",
      "max_depth = 24, F1 = 0.5527\n",
      "max_depth = 25, F1 = 0.5596\n",
      "max_depth = 26, F1 = 0.5610\n",
      "max_depth = 27, F1 = 0.5541\n",
      "max_depth = 28, F1 = 0.5556\n",
      "max_depth = 29, F1 = 0.5556\n",
      "max_depth = 30, F1 = 0.5556\n",
      "max_depth = 31, F1 = 0.5556\n",
      "max_depth = 32, F1 = 0.5556\n",
      "max_depth = 33, F1 = 0.5556\n",
      "max_depth = 34, F1 = 0.5556\n"
     ]
    }
   ],
   "source": [
    "for depth in range(5, 35):\n",
    "    model = RandomForestClassifier(max_depth=depth, random_state=rnd_state, n_jobs=-1)\n",
    "    model.fit(features_train, target_train)\n",
    "    predictions = model.predict(features_valid)\n",
    "    f1 = f1_score(target_valid, predictions)\n",
    "    print(f'max_depth = {depth}, F1 = {f1:.4f}')"
   ]
  },
  {
   "cell_type": "code",
   "execution_count": 77,
   "id": "62eea818",
   "metadata": {
    "ExecuteTime": {
     "end_time": "2023-04-16T15:51:26.942532Z",
     "start_time": "2023-04-16T15:51:19.781411Z"
    }
   },
   "outputs": [
    {
     "name": "stdout",
     "output_type": "stream",
     "text": [
      "min_samples_split = 2, F1 = 0.5556\n",
      "min_samples_split = 4, F1 = 0.5425\n",
      "min_samples_split = 6, F1 = 0.5457\n",
      "min_samples_split = 8, F1 = 0.5510\n",
      "min_samples_split = 10, F1 = 0.5508\n",
      "min_samples_split = 12, F1 = 0.5458\n",
      "min_samples_split = 14, F1 = 0.5556\n",
      "min_samples_split = 16, F1 = 0.5557\n",
      "min_samples_split = 18, F1 = 0.5599\n",
      "min_samples_split = 20, F1 = 0.5636\n",
      "min_samples_split = 22, F1 = 0.5557\n",
      "min_samples_split = 24, F1 = 0.5603\n",
      "min_samples_split = 26, F1 = 0.5566\n",
      "min_samples_split = 28, F1 = 0.5590\n",
      "min_samples_split = 30, F1 = 0.5525\n",
      "min_samples_split = 32, F1 = 0.5463\n",
      "min_samples_split = 34, F1 = 0.5478\n",
      "min_samples_split = 36, F1 = 0.5493\n",
      "min_samples_split = 38, F1 = 0.5554\n",
      "min_samples_split = 40, F1 = 0.5539\n",
      "min_samples_split = 42, F1 = 0.5554\n",
      "min_samples_split = 44, F1 = 0.5446\n",
      "min_samples_split = 46, F1 = 0.5507\n",
      "min_samples_split = 48, F1 = 0.5446\n"
     ]
    }
   ],
   "source": [
    "for samples_split in range(2, 50, 2):\n",
    "    model = RandomForestClassifier(min_samples_split=samples_split, random_state=rnd_state, n_jobs=-1)\n",
    "    model.fit(features_train, target_train)\n",
    "    predictions = model.predict(features_valid)\n",
    "    f1 = f1_score(target_valid, predictions)\n",
    "    print(f'min_samples_split = {samples_split}, F1 = {f1:.4f}')"
   ]
  },
  {
   "cell_type": "code",
   "execution_count": 78,
   "id": "782b938f",
   "metadata": {
    "ExecuteTime": {
     "end_time": "2023-04-16T15:51:35.149991Z",
     "start_time": "2023-04-16T15:51:26.944527Z"
    }
   },
   "outputs": [
    {
     "name": "stdout",
     "output_type": "stream",
     "text": [
      "min_samples_leaf = 1, F1 = 0.5556\n",
      "min_samples_leaf = 2, F1 = 0.5437\n",
      "min_samples_leaf = 3, F1 = 0.5528\n",
      "min_samples_leaf = 4, F1 = 0.5526\n",
      "min_samples_leaf = 5, F1 = 0.5493\n",
      "min_samples_leaf = 6, F1 = 0.5532\n",
      "min_samples_leaf = 7, F1 = 0.5479\n",
      "min_samples_leaf = 8, F1 = 0.5563\n",
      "min_samples_leaf = 9, F1 = 0.5539\n",
      "min_samples_leaf = 10, F1 = 0.5376\n",
      "min_samples_leaf = 11, F1 = 0.5568\n",
      "min_samples_leaf = 12, F1 = 0.5502\n",
      "min_samples_leaf = 13, F1 = 0.5458\n",
      "min_samples_leaf = 14, F1 = 0.5410\n",
      "min_samples_leaf = 15, F1 = 0.5367\n",
      "min_samples_leaf = 16, F1 = 0.5479\n",
      "min_samples_leaf = 17, F1 = 0.5449\n",
      "min_samples_leaf = 18, F1 = 0.5409\n",
      "min_samples_leaf = 19, F1 = 0.5424\n",
      "min_samples_leaf = 20, F1 = 0.5497\n",
      "min_samples_leaf = 21, F1 = 0.5458\n",
      "min_samples_leaf = 22, F1 = 0.5369\n",
      "min_samples_leaf = 23, F1 = 0.5360\n",
      "min_samples_leaf = 24, F1 = 0.5327\n",
      "min_samples_leaf = 25, F1 = 0.5320\n",
      "min_samples_leaf = 26, F1 = 0.5212\n",
      "min_samples_leaf = 27, F1 = 0.5219\n",
      "min_samples_leaf = 28, F1 = 0.5360\n",
      "min_samples_leaf = 29, F1 = 0.5238\n"
     ]
    }
   ],
   "source": [
    "for samples_leaf in range(1, 30):\n",
    "    model = RandomForestClassifier(min_samples_leaf=samples_leaf, random_state=rnd_state, n_jobs=-1)\n",
    "    model.fit(features_train, target_train)\n",
    "    predictions = model.predict(features_valid)\n",
    "    f1 = f1_score(target_valid, predictions)\n",
    "    print(f'min_samples_leaf = {samples_leaf}, F1 = {f1:.4f}')"
   ]
  },
  {
   "cell_type": "markdown",
   "id": "b5dd9b58",
   "metadata": {},
   "source": [
    "Выбираю и задаю диапазоны параметров для поиска оптимальной модели с помощью `GridSearchCV`"
   ]
  },
  {
   "cell_type": "markdown",
   "id": "a128b2b6",
   "metadata": {},
   "source": [
    "**Строка с запуском `GridSearchCV` закомментирована**, т.к. выполнение занимает много времени (делаю проект локально, на моём ноуте на выполнение ушло около часа). Параметры, найденные с помощью `GridSearchCV`, зафиксированы."
   ]
  },
  {
   "cell_type": "code",
   "execution_count": 79,
   "id": "2d350521",
   "metadata": {
    "ExecuteTime": {
     "end_time": "2023-04-16T15:51:35.165268Z",
     "start_time": "2023-04-16T15:51:35.153989Z"
    }
   },
   "outputs": [],
   "source": [
    "parameters_grid = {\n",
    "    'n_estimators': range(170, 250, 10),\n",
    "    'max_features': range(5, 8),\n",
    "    'max_depth': range(18, 22, 2),\n",
    "    'min_samples_split': range(20, 28, 2),\n",
    "    'min_samples_leaf': range(6, 9)    \n",
    "}\n",
    "\n",
    "model = RandomForestClassifier()\n",
    "# grid_cv = GridSearchCV(model, parameters_grid, scoring='roc_auc', verbose=2, n_jobs=-1, cv=3)\n",
    "# grid_cv.fit(features_train, target_train)"
   ]
  },
  {
   "cell_type": "markdown",
   "id": "c80779e0",
   "metadata": {},
   "source": [
    "С помощью `GridSearchCV` были найдены такие параметры случайного леса:\n",
    "- 'max_depth': 18,\n",
    "- 'max_features': 5,\n",
    "- 'min_samples_leaf': 6,\n",
    "- 'min_samples_split': 24,\n",
    "- 'n_estimators': 170"
   ]
  },
  {
   "cell_type": "code",
   "execution_count": 80,
   "id": "a53d3190",
   "metadata": {
    "ExecuteTime": {
     "end_time": "2023-04-16T15:51:36.492727Z",
     "start_time": "2023-04-16T15:51:35.169260Z"
    }
   },
   "outputs": [
    {
     "name": "stdout",
     "output_type": "stream",
     "text": [
      "Grid random forest model metrics: F1 = 0.5561, ROC AUC = 0.8536\n"
     ]
    }
   ],
   "source": [
    "model_forest_grid = RandomForestClassifier(\n",
    "    max_depth=18, max_features=5, min_samples_leaf=6, min_samples_split=24,\n",
    "    n_estimators=170, random_state=rnd_state\n",
    ")\n",
    "\n",
    "model_forest_grid.fit(features_train, target_train)\n",
    "predictions = model_forest_grid.predict(features_valid)\n",
    "f1_forest_grid = f1_score(target_valid, predictions)\n",
    "probabilities_one_valid = model_forest_grid.predict_proba(features_valid)[:, 1]\n",
    "auc_roc_forest_grid = roc_auc_score(target_valid, probabilities_one_valid)\n",
    "print(f'Grid random forest model metrics: F1 = {f1_forest_grid:.4f}, ROC AUC = {auc_roc_forest_grid:.4f}')"
   ]
  },
  {
   "cell_type": "markdown",
   "id": "7fe332ba",
   "metadata": {},
   "source": [
    "Значение F1 получилось похуже, чем у дерева, но AUC ROC при этом заметно выше. По сравнению с параметрами по умолчанию обе метрики выше."
   ]
  },
  {
   "cell_type": "markdown",
   "id": "d7fca032",
   "metadata": {},
   "source": [
    "### Catboost"
   ]
  },
  {
   "cell_type": "code",
   "execution_count": 99,
   "id": "6b4b7c02",
   "metadata": {
    "ExecuteTime": {
     "end_time": "2023-04-16T16:53:33.204155Z",
     "start_time": "2023-04-16T16:53:30.488226Z"
    }
   },
   "outputs": [
    {
     "name": "stdout",
     "output_type": "stream",
     "text": [
      "Requirement already satisfied: catboost in c:\\users\\anna\\anaconda3\\envs\\practicum\\lib\\site-packages (1.0.3)\n",
      "Requirement already satisfied: plotly in c:\\users\\anna\\anaconda3\\envs\\practicum\\lib\\site-packages (from catboost) (5.4.0)\n",
      "Requirement already satisfied: six in c:\\users\\anna\\anaconda3\\envs\\practicum\\lib\\site-packages (from catboost) (1.16.0)\n",
      "Requirement already satisfied: matplotlib in c:\\users\\anna\\anaconda3\\envs\\practicum\\lib\\site-packages (from catboost) (3.3.4)\n",
      "Requirement already satisfied: scipy in c:\\users\\anna\\anaconda3\\envs\\practicum\\lib\\site-packages (from catboost) (1.8.0)\n",
      "Requirement already satisfied: graphviz in c:\\users\\anna\\anaconda3\\envs\\practicum\\lib\\site-packages (from catboost) (0.20)\n",
      "Requirement already satisfied: numpy>=1.16.0 in c:\\users\\anna\\anaconda3\\envs\\practicum\\lib\\site-packages (from catboost) (1.20.1)\n",
      "Requirement already satisfied: pandas>=0.24.0 in c:\\users\\anna\\anaconda3\\envs\\practicum\\lib\\site-packages (from catboost) (1.2.4)\n",
      "Requirement already satisfied: pytz>=2017.3 in c:\\users\\anna\\anaconda3\\envs\\practicum\\lib\\site-packages (from pandas>=0.24.0->catboost) (2022.1)\n",
      "Requirement already satisfied: python-dateutil>=2.7.3 in c:\\users\\anna\\anaconda3\\envs\\practicum\\lib\\site-packages (from pandas>=0.24.0->catboost) (2.8.2)\n",
      "Requirement already satisfied: cycler>=0.10 in c:\\users\\anna\\anaconda3\\envs\\practicum\\lib\\site-packages (from matplotlib->catboost) (0.11.0)\n",
      "Requirement already satisfied: pyparsing!=2.0.4,!=2.1.2,!=2.1.6,>=2.0.3 in c:\\users\\anna\\anaconda3\\envs\\practicum\\lib\\site-packages (from matplotlib->catboost) (3.0.9)\n",
      "Requirement already satisfied: kiwisolver>=1.0.1 in c:\\users\\anna\\anaconda3\\envs\\practicum\\lib\\site-packages (from matplotlib->catboost) (1.4.2)\n",
      "Requirement already satisfied: pillow>=6.2.0 in c:\\users\\anna\\anaconda3\\envs\\practicum\\lib\\site-packages (from matplotlib->catboost) (8.4.0)\n",
      "Requirement already satisfied: tenacity>=6.2.0 in c:\\users\\anna\\anaconda3\\envs\\practicum\\lib\\site-packages (from plotly->catboost) (8.0.1)\n",
      "Note: you may need to restart the kernel to use updated packages.\n"
     ]
    }
   ],
   "source": [
    "pip install catboost"
   ]
  },
  {
   "cell_type": "code",
   "execution_count": 111,
   "id": "4d96f6f3",
   "metadata": {
    "ExecuteTime": {
     "end_time": "2023-04-16T22:26:08.496386Z",
     "start_time": "2023-04-16T22:26:08.490434Z"
    }
   },
   "outputs": [],
   "source": [
    "from catboost import CatBoostClassifier, Pool"
   ]
  },
  {
   "cell_type": "markdown",
   "id": "26fa7345",
   "metadata": {},
   "source": [
    "Для catboost не нужно масштабирование признаков и OneHotEncoding. Создаю отдельные train, valid и test выборки для него"
   ]
  },
  {
   "cell_type": "code",
   "execution_count": 106,
   "id": "2e8a9a26",
   "metadata": {
    "ExecuteTime": {
     "end_time": "2023-04-16T22:23:02.102466Z",
     "start_time": "2023-04-16T22:23:02.061768Z"
    }
   },
   "outputs": [
    {
     "data": {
      "text/html": [
       "<div>\n",
       "<style scoped>\n",
       "    .dataframe tbody tr th:only-of-type {\n",
       "        vertical-align: middle;\n",
       "    }\n",
       "\n",
       "    .dataframe tbody tr th {\n",
       "        vertical-align: top;\n",
       "    }\n",
       "\n",
       "    .dataframe thead th {\n",
       "        text-align: right;\n",
       "    }\n",
       "</style>\n",
       "<table border=\"1\" class=\"dataframe\">\n",
       "  <thead>\n",
       "    <tr style=\"text-align: right;\">\n",
       "      <th></th>\n",
       "      <th>credit_score</th>\n",
       "      <th>geography</th>\n",
       "      <th>gender</th>\n",
       "      <th>age</th>\n",
       "      <th>tenure</th>\n",
       "      <th>balance</th>\n",
       "      <th>num_of_products</th>\n",
       "      <th>has_cr_card</th>\n",
       "      <th>is_active</th>\n",
       "      <th>salary</th>\n",
       "    </tr>\n",
       "  </thead>\n",
       "  <tbody>\n",
       "    <tr>\n",
       "      <th>0</th>\n",
       "      <td>619</td>\n",
       "      <td>France</td>\n",
       "      <td>Female</td>\n",
       "      <td>42</td>\n",
       "      <td>2</td>\n",
       "      <td>0</td>\n",
       "      <td>1</td>\n",
       "      <td>1</td>\n",
       "      <td>1</td>\n",
       "      <td>101349</td>\n",
       "    </tr>\n",
       "    <tr>\n",
       "      <th>1</th>\n",
       "      <td>608</td>\n",
       "      <td>Spain</td>\n",
       "      <td>Female</td>\n",
       "      <td>41</td>\n",
       "      <td>1</td>\n",
       "      <td>83808</td>\n",
       "      <td>1</td>\n",
       "      <td>0</td>\n",
       "      <td>1</td>\n",
       "      <td>112543</td>\n",
       "    </tr>\n",
       "    <tr>\n",
       "      <th>2</th>\n",
       "      <td>502</td>\n",
       "      <td>France</td>\n",
       "      <td>Female</td>\n",
       "      <td>42</td>\n",
       "      <td>8</td>\n",
       "      <td>159661</td>\n",
       "      <td>3</td>\n",
       "      <td>1</td>\n",
       "      <td>0</td>\n",
       "      <td>113932</td>\n",
       "    </tr>\n",
       "    <tr>\n",
       "      <th>3</th>\n",
       "      <td>699</td>\n",
       "      <td>France</td>\n",
       "      <td>Female</td>\n",
       "      <td>39</td>\n",
       "      <td>1</td>\n",
       "      <td>0</td>\n",
       "      <td>2</td>\n",
       "      <td>0</td>\n",
       "      <td>0</td>\n",
       "      <td>93827</td>\n",
       "    </tr>\n",
       "    <tr>\n",
       "      <th>4</th>\n",
       "      <td>850</td>\n",
       "      <td>Spain</td>\n",
       "      <td>Female</td>\n",
       "      <td>43</td>\n",
       "      <td>2</td>\n",
       "      <td>125511</td>\n",
       "      <td>1</td>\n",
       "      <td>1</td>\n",
       "      <td>1</td>\n",
       "      <td>79085</td>\n",
       "    </tr>\n",
       "    <tr>\n",
       "      <th>...</th>\n",
       "      <td>...</td>\n",
       "      <td>...</td>\n",
       "      <td>...</td>\n",
       "      <td>...</td>\n",
       "      <td>...</td>\n",
       "      <td>...</td>\n",
       "      <td>...</td>\n",
       "      <td>...</td>\n",
       "      <td>...</td>\n",
       "      <td>...</td>\n",
       "    </tr>\n",
       "    <tr>\n",
       "      <th>9995</th>\n",
       "      <td>771</td>\n",
       "      <td>France</td>\n",
       "      <td>Male</td>\n",
       "      <td>39</td>\n",
       "      <td>5</td>\n",
       "      <td>0</td>\n",
       "      <td>2</td>\n",
       "      <td>1</td>\n",
       "      <td>0</td>\n",
       "      <td>96271</td>\n",
       "    </tr>\n",
       "    <tr>\n",
       "      <th>9996</th>\n",
       "      <td>516</td>\n",
       "      <td>France</td>\n",
       "      <td>Male</td>\n",
       "      <td>35</td>\n",
       "      <td>10</td>\n",
       "      <td>57370</td>\n",
       "      <td>1</td>\n",
       "      <td>1</td>\n",
       "      <td>1</td>\n",
       "      <td>101700</td>\n",
       "    </tr>\n",
       "    <tr>\n",
       "      <th>9997</th>\n",
       "      <td>709</td>\n",
       "      <td>France</td>\n",
       "      <td>Female</td>\n",
       "      <td>36</td>\n",
       "      <td>7</td>\n",
       "      <td>0</td>\n",
       "      <td>1</td>\n",
       "      <td>0</td>\n",
       "      <td>1</td>\n",
       "      <td>42086</td>\n",
       "    </tr>\n",
       "    <tr>\n",
       "      <th>9998</th>\n",
       "      <td>772</td>\n",
       "      <td>Germany</td>\n",
       "      <td>Male</td>\n",
       "      <td>42</td>\n",
       "      <td>3</td>\n",
       "      <td>75076</td>\n",
       "      <td>2</td>\n",
       "      <td>1</td>\n",
       "      <td>0</td>\n",
       "      <td>92889</td>\n",
       "    </tr>\n",
       "    <tr>\n",
       "      <th>9999</th>\n",
       "      <td>792</td>\n",
       "      <td>France</td>\n",
       "      <td>Female</td>\n",
       "      <td>28</td>\n",
       "      <td>5</td>\n",
       "      <td>130143</td>\n",
       "      <td>1</td>\n",
       "      <td>1</td>\n",
       "      <td>0</td>\n",
       "      <td>38191</td>\n",
       "    </tr>\n",
       "  </tbody>\n",
       "</table>\n",
       "<p>10000 rows × 10 columns</p>\n",
       "</div>"
      ],
      "text/plain": [
       "      credit_score geography  gender  age  tenure  balance  num_of_products  \\\n",
       "0              619    France  Female   42       2        0                1   \n",
       "1              608     Spain  Female   41       1    83808                1   \n",
       "2              502    France  Female   42       8   159661                3   \n",
       "3              699    France  Female   39       1        0                2   \n",
       "4              850     Spain  Female   43       2   125511                1   \n",
       "...            ...       ...     ...  ...     ...      ...              ...   \n",
       "9995           771    France    Male   39       5        0                2   \n",
       "9996           516    France    Male   35      10    57370                1   \n",
       "9997           709    France  Female   36       7        0                1   \n",
       "9998           772   Germany    Male   42       3    75076                2   \n",
       "9999           792    France  Female   28       5   130143                1   \n",
       "\n",
       "      has_cr_card  is_active  salary  \n",
       "0               1          1  101349  \n",
       "1               0          1  112543  \n",
       "2               1          0  113932  \n",
       "3               0          0   93827  \n",
       "4               1          1   79085  \n",
       "...           ...        ...     ...  \n",
       "9995            1          0   96271  \n",
       "9996            1          1  101700  \n",
       "9997            0          1   42086  \n",
       "9998            1          0   92889  \n",
       "9999            1          0   38191  \n",
       "\n",
       "[10000 rows x 10 columns]"
      ]
     },
     "execution_count": 106,
     "metadata": {},
     "output_type": "execute_result"
    }
   ],
   "source": [
    "features"
   ]
  },
  {
   "cell_type": "code",
   "execution_count": 107,
   "id": "f99fb612",
   "metadata": {
    "ExecuteTime": {
     "end_time": "2023-04-16T22:23:13.195063Z",
     "start_time": "2023-04-16T22:23:13.164096Z"
    }
   },
   "outputs": [],
   "source": [
    "features_train_cat, features_test_cat, target_train_cat, target_test_cat = train_test_split(\n",
    "     features, target, test_size=0.2, random_state=12345)\n",
    "\n",
    "features_train_cat, features_valid_cat, target_train_cat, target_valid_cat = train_test_split(\n",
    "    features_train_cat, target_train_cat, test_size=0.25, random_state=12345)"
   ]
  },
  {
   "cell_type": "code",
   "execution_count": 108,
   "id": "c0a1cd3a",
   "metadata": {
    "ExecuteTime": {
     "end_time": "2023-04-16T22:23:30.739057Z",
     "start_time": "2023-04-16T22:23:30.727090Z"
    }
   },
   "outputs": [
    {
     "data": {
      "text/plain": [
       "['geography', 'gender']"
      ]
     },
     "execution_count": 108,
     "metadata": {},
     "output_type": "execute_result"
    }
   ],
   "source": [
    "cat_cols"
   ]
  },
  {
   "cell_type": "code",
   "execution_count": 109,
   "id": "8e011edf",
   "metadata": {
    "ExecuteTime": {
     "end_time": "2023-04-16T22:23:38.156450Z",
     "start_time": "2023-04-16T22:23:38.135111Z"
    }
   },
   "outputs": [
    {
     "data": {
      "text/plain": [
       "['credit_score', 'age', 'balance', 'tenure', 'salary', 'num_of_products']"
      ]
     },
     "execution_count": 109,
     "metadata": {},
     "output_type": "execute_result"
    }
   ],
   "source": [
    "num_cols"
   ]
  },
  {
   "cell_type": "code",
   "execution_count": 112,
   "id": "388acc4f",
   "metadata": {
    "ExecuteTime": {
     "end_time": "2023-04-16T22:26:12.987078Z",
     "start_time": "2023-04-16T22:26:12.939125Z"
    }
   },
   "outputs": [],
   "source": [
    "train_dataset = Pool(features_train_cat, target_train_cat, cat_features=cat_cols)\n",
    "val_dataset = Pool(features_valid_cat, target_valid_cat, cat_features=cat_cols)"
   ]
  },
  {
   "cell_type": "code",
   "execution_count": 113,
   "id": "8435f2ac",
   "metadata": {
    "ExecuteTime": {
     "end_time": "2023-04-16T22:26:41.174926Z",
     "start_time": "2023-04-16T22:26:41.163570Z"
    }
   },
   "outputs": [],
   "source": [
    "model_cat = CatBoostClassifier(\n",
    "    eval_metric='AUC',\n",
    "    random_seed=rnd_state)"
   ]
  },
  {
   "cell_type": "code",
   "execution_count": 114,
   "id": "82862f8d",
   "metadata": {
    "ExecuteTime": {
     "end_time": "2023-04-16T22:27:28.792359Z",
     "start_time": "2023-04-16T22:26:49.846082Z"
    }
   },
   "outputs": [
    {
     "name": "stdout",
     "output_type": "stream",
     "text": [
      "Learning rate set to 0.04933\n",
      "0:\ttest: 0.7640820\tbest: 0.7640820 (0)\ttotal: 208ms\tremaining: 3m 28s\n",
      "100:\ttest: 0.8683683\tbest: 0.8684271 (99)\ttotal: 3.89s\tremaining: 34.6s\n",
      "200:\ttest: 0.8682459\tbest: 0.8693745 (159)\ttotal: 7.56s\tremaining: 30s\n",
      "300:\ttest: 0.8664307\tbest: 0.8693745 (159)\ttotal: 11.4s\tremaining: 26.5s\n",
      "400:\ttest: 0.8646250\tbest: 0.8693745 (159)\ttotal: 15.3s\tremaining: 22.8s\n",
      "500:\ttest: 0.8632103\tbest: 0.8693745 (159)\ttotal: 19.1s\tremaining: 19.1s\n",
      "600:\ttest: 0.8608371\tbest: 0.8693745 (159)\ttotal: 23s\tremaining: 15.3s\n",
      "700:\ttest: 0.8606686\tbest: 0.8693745 (159)\ttotal: 26.9s\tremaining: 11.5s\n",
      "800:\ttest: 0.8587151\tbest: 0.8693745 (159)\ttotal: 30.7s\tremaining: 7.63s\n",
      "900:\ttest: 0.8581953\tbest: 0.8693745 (159)\ttotal: 34.6s\tremaining: 3.8s\n",
      "999:\ttest: 0.8572448\tbest: 0.8693745 (159)\ttotal: 38.4s\tremaining: 0us\n",
      "\n",
      "bestTest = 0.8693744745\n",
      "bestIteration = 159\n",
      "\n",
      "Shrink model to first 160 iterations.\n"
     ]
    },
    {
     "data": {
      "text/plain": [
       "<catboost.core.CatBoostClassifier at 0x2eb42a8d100>"
      ]
     },
     "execution_count": 114,
     "metadata": {},
     "output_type": "execute_result"
    }
   ],
   "source": [
    "model_cat.fit(\n",
    "    train_dataset,\n",
    "    eval_set=val_dataset,\n",
    "    verbose=100\n",
    ")"
   ]
  },
  {
   "cell_type": "code",
   "execution_count": 115,
   "id": "e9da939d",
   "metadata": {
    "ExecuteTime": {
     "end_time": "2023-04-16T22:31:34.852242Z",
     "start_time": "2023-04-16T22:31:34.789295Z"
    }
   },
   "outputs": [
    {
     "name": "stdout",
     "output_type": "stream",
     "text": [
      "Catboost model metrics: F1 = 0.5802, ROC AUC = 0.8694\n"
     ]
    }
   ],
   "source": [
    "predictions = model_cat.predict(features_valid_cat)\n",
    "f1_cat = f1_score(target_valid_cat, predictions)\n",
    "probabilities_one_valid = model_cat.predict_proba(features_valid_cat)[:, 1]\n",
    "auc_roc_cat = roc_auc_score(target_valid_cat, probabilities_one_valid)\n",
    "print(f'Catboost model metrics: F1 = {f1_cat:.4f}, ROC AUC = {auc_roc_cat:.4f}')"
   ]
  },
  {
   "cell_type": "markdown",
   "id": "c7f4a285",
   "metadata": {},
   "source": [
    "Значения метрик F1 и ROC AUC у модели Catboost самые высокие."
   ]
  },
  {
   "cell_type": "markdown",
   "id": "64a30276",
   "metadata": {},
   "source": [
    "### Вывод"
   ]
  },
  {
   "cell_type": "markdown",
   "id": "3a51ee59",
   "metadata": {},
   "source": [
    "Без учёта дисбаланса классов, удалось достичь следующих результатов для моделей:"
   ]
  },
  {
   "cell_type": "code",
   "execution_count": 118,
   "id": "c8720ff6",
   "metadata": {
    "ExecuteTime": {
     "end_time": "2023-04-16T22:38:21.224833Z",
     "start_time": "2023-04-16T22:38:21.213596Z"
    }
   },
   "outputs": [
    {
     "name": "stdout",
     "output_type": "stream",
     "text": [
      "Best decision tree model metrics: F1 = 0.5706, ROC AUC = 0.8352\n",
      "Best random forest model metrics: F1 = 0.5561, ROC AUC = 0.8536\n",
      "Best catboost model metrics:      F1 = 0.5802, ROC AUC = 0.8694\n"
     ]
    }
   ],
   "source": [
    "print(f'Best decision tree model metrics: F1 = {f1_tree:.4f}, ROC AUC = {auc_roc_tree:.4f}')\n",
    "print(f'Best random forest model metrics: F1 = {f1_forest_grid:.4f}, ROC AUC = {auc_roc_forest_grid:.4f}')\n",
    "print(f'Best catboost model metrics:      F1 = {f1_cat:.4f}, ROC AUC = {auc_roc_cat:.4f}')"
   ]
  },
  {
   "cell_type": "markdown",
   "id": "1ed17128",
   "metadata": {},
   "source": [
    "Значение F1-меры ни у одной модели не дотягивает до требуемого в задаче минимального значения `0,59`. Следующий шаг - учесть дисбаланс классов и попробовать улучшить модели."
   ]
  },
  {
   "cell_type": "markdown",
   "id": "0f0cb6fa",
   "metadata": {},
   "source": [
    "## Дисбаланс классов"
   ]
  },
  {
   "cell_type": "markdown",
   "id": "a0bb8777",
   "metadata": {},
   "source": [
    "### Взвешивание классов"
   ]
  },
  {
   "cell_type": "markdown",
   "id": "1242288f",
   "metadata": {},
   "source": [
    "Посмотрю, как изменится качество моделей при использовании параметра `class_weight='balanced'`"
   ]
  },
  {
   "cell_type": "code",
   "execution_count": 82,
   "id": "3b6d4669",
   "metadata": {
    "ExecuteTime": {
     "end_time": "2023-04-16T15:51:36.571973Z",
     "start_time": "2023-04-16T15:51:36.521078Z"
    }
   },
   "outputs": [
    {
     "name": "stdout",
     "output_type": "stream",
     "text": [
      "Decision tree model metrics without class weight:\n",
      " F1 = 0.5706, ROC AUC = 0.8352\n",
      "\n",
      "Decision tree model metrics with class weight:\n",
      " F1 = 0.5301, ROC AUC = 0.8139\n"
     ]
    }
   ],
   "source": [
    "model_tree_weight = DecisionTreeClassifier(\n",
    "    max_depth=10, min_samples_leaf=8, min_samples_split=100, class_weight='balanced', random_state=rnd_state\n",
    ")\n",
    "model_tree_weight.fit(features_train, target_train)\n",
    "predictions = model_tree_weight.predict(features_valid)\n",
    "f1_tree_weight = f1_score(target_valid, predictions)\n",
    "probabilities_one_valid = model_tree_weight.predict_proba(features_valid)[:, 1]\n",
    "auc_roc_tree_weight = roc_auc_score(target_valid, probabilities_one_valid)\n",
    "print(f'Decision tree model metrics without class weight:\\n F1 = {f1_tree:.4f}, ROC AUC = {auc_roc_tree:.4f}\\n')\n",
    "print(f'Decision tree model metrics with class weight:\\n F1 = {f1_tree_weight:.4f}, ROC AUC = {auc_roc_tree_weight:.4f}')"
   ]
  },
  {
   "cell_type": "markdown",
   "id": "bb9c1d00",
   "metadata": {},
   "source": [
    "Для дерева решений использование параметра `class_weight='balanced'` ухудшило значения метрик."
   ]
  },
  {
   "cell_type": "code",
   "execution_count": 83,
   "id": "50c0649c",
   "metadata": {
    "ExecuteTime": {
     "end_time": "2023-04-16T15:51:37.800859Z",
     "start_time": "2023-04-16T15:51:36.574003Z"
    }
   },
   "outputs": [
    {
     "name": "stdout",
     "output_type": "stream",
     "text": [
      "Random forest model metrics without class weight:\n",
      " F1 = 0.5561, ROC AUC = 0.8536\n",
      "\n",
      "Random forest model metrics with class weight:\n",
      " F1 = 0.6077, ROC AUC = 0.8548\n"
     ]
    }
   ],
   "source": [
    "model_forest_weight = RandomForestClassifier(\n",
    "    max_depth=18, max_features=5, min_samples_leaf=6, min_samples_split=24,\n",
    "    n_estimators=170, class_weight='balanced', random_state=rnd_state\n",
    ")\n",
    "model_forest_weight.fit(features_train, target_train)\n",
    "predictions = model_forest_weight.predict(features_valid)\n",
    "f1_forest_weight = f1_score(target_valid, predictions)\n",
    "probabilities_one_valid = model_forest_weight.predict_proba(features_valid)[:, 1]\n",
    "auc_roc_forest_weight = roc_auc_score(target_valid, probabilities_one_valid)\n",
    "print(f'Random forest model metrics without class weight:\\n F1 = {f1_forest_grid:.4f}, ROC AUC = {auc_roc_forest_grid:.4f}\\n')\n",
    "print(f'Random forest model metrics with class weight:\\n F1 = {f1_forest_weight:.4f}, ROC AUC = {auc_roc_forest_weight:.4f}')"
   ]
  },
  {
   "cell_type": "markdown",
   "id": "0413938b",
   "metadata": {},
   "source": [
    "Для случайного леса значение F1-меры при использовании параметра `class_weight='balanced'` значительно повысилось и даже достигло требуемого в задаче значения."
   ]
  },
  {
   "cell_type": "code",
   "execution_count": 122,
   "id": "78efd35a",
   "metadata": {
    "ExecuteTime": {
     "end_time": "2023-04-16T22:42:42.967128Z",
     "start_time": "2023-04-16T22:42:42.959151Z"
    }
   },
   "outputs": [],
   "source": [
    "model_cat_weight = CatBoostClassifier(\n",
    "    eval_metric='AUC',\n",
    "    auto_class_weights='Balanced',\n",
    "    random_seed=rnd_state)"
   ]
  },
  {
   "cell_type": "code",
   "execution_count": 123,
   "id": "22e539eb",
   "metadata": {
    "ExecuteTime": {
     "end_time": "2023-04-16T22:43:23.119697Z",
     "start_time": "2023-04-16T22:42:43.673565Z"
    }
   },
   "outputs": [
    {
     "name": "stdout",
     "output_type": "stream",
     "text": [
      "Learning rate set to 0.04933\n",
      "0:\ttest: 0.8015344\tbest: 0.8015344 (0)\ttotal: 22.6ms\tremaining: 22.6s\n",
      "100:\ttest: 0.8688102\tbest: 0.8688102 (100)\ttotal: 3.76s\tremaining: 33.5s\n",
      "200:\ttest: 0.8689135\tbest: 0.8698036 (163)\ttotal: 7.5s\tremaining: 29.8s\n",
      "300:\ttest: 0.8652433\tbest: 0.8698036 (163)\ttotal: 11.4s\tremaining: 26.6s\n",
      "400:\ttest: 0.8640957\tbest: 0.8698036 (163)\ttotal: 15.4s\tremaining: 23s\n",
      "500:\ttest: 0.8615031\tbest: 0.8698036 (163)\ttotal: 19.4s\tremaining: 19.3s\n",
      "600:\ttest: 0.8589297\tbest: 0.8698036 (163)\ttotal: 23.3s\tremaining: 15.4s\n",
      "700:\ttest: 0.8570175\tbest: 0.8698036 (163)\ttotal: 27.3s\tremaining: 11.6s\n",
      "800:\ttest: 0.8555806\tbest: 0.8698036 (163)\ttotal: 31.2s\tremaining: 7.75s\n",
      "900:\ttest: 0.8548669\tbest: 0.8698036 (163)\ttotal: 35.2s\tremaining: 3.86s\n",
      "999:\ttest: 0.8542708\tbest: 0.8698036 (163)\ttotal: 39.1s\tremaining: 0us\n",
      "\n",
      "bestTest = 0.8698036461\n",
      "bestIteration = 163\n",
      "\n",
      "Shrink model to first 164 iterations.\n"
     ]
    },
    {
     "data": {
      "text/plain": [
       "<catboost.core.CatBoostClassifier at 0x2eb42aa95e0>"
      ]
     },
     "execution_count": 123,
     "metadata": {},
     "output_type": "execute_result"
    }
   ],
   "source": [
    "model_cat_weight.fit(\n",
    "    train_dataset,\n",
    "    eval_set=val_dataset,\n",
    "    verbose=100\n",
    ")"
   ]
  },
  {
   "cell_type": "code",
   "execution_count": 124,
   "id": "8c610c46",
   "metadata": {
    "ExecuteTime": {
     "end_time": "2023-04-16T22:47:34.011463Z",
     "start_time": "2023-04-16T22:47:33.983332Z"
    }
   },
   "outputs": [
    {
     "name": "stdout",
     "output_type": "stream",
     "text": [
      "Catboost model metrics without class weight: F1 = 0.5802, ROC AUC = 0.8694\n",
      "Catboost model metrics with class weight: F1 = 0.5932, ROC AUC = 0.8698\n"
     ]
    }
   ],
   "source": [
    "predictions = model_cat_weight.predict(features_valid_cat)\n",
    "f1_cat_weight = f1_score(target_valid_cat, predictions)\n",
    "probabilities_one_valid = model_cat_weight.predict_proba(features_valid_cat)[:, 1]\n",
    "auc_roc_cat_weight = roc_auc_score(target_valid_cat, probabilities_one_valid)\n",
    "print(f'Catboost model metrics without class weight: F1 = {f1_cat:.4f}, ROC AUC = {auc_roc_cat:.4f}')\n",
    "print(f'Catboost model metrics with class weight: F1 = {f1_cat_weight:.4f}, ROC AUC = {auc_roc_cat_weight:.4f}')"
   ]
  },
  {
   "cell_type": "markdown",
   "id": "348f2642",
   "metadata": {},
   "source": [
    "Для модели Catboost значение метрики F1 заметно повысилось с использованием `auto_class_weights='Balanced'`"
   ]
  },
  {
   "cell_type": "markdown",
   "id": "fb8155e9",
   "metadata": {},
   "source": [
    "### Upsampling"
   ]
  },
  {
   "cell_type": "markdown",
   "id": "d555137c",
   "metadata": {},
   "source": [
    "Провожу `upsampling` - увеличиваю количество объектов редкого класса - ушедших клиентов."
   ]
  },
  {
   "cell_type": "code",
   "execution_count": 84,
   "id": "1cedcfaf",
   "metadata": {
    "ExecuteTime": {
     "end_time": "2023-04-16T15:51:37.816682Z",
     "start_time": "2023-04-16T15:51:37.801856Z"
    }
   },
   "outputs": [
    {
     "data": {
      "text/plain": [
       "3.922067268252666"
      ]
     },
     "execution_count": 84,
     "metadata": {},
     "output_type": "execute_result"
    }
   ],
   "source": [
    "features_train[target_train == 0]['credit_score'].count() / features_train[target_train == 1]['credit_score'].count()"
   ]
  },
  {
   "cell_type": "code",
   "execution_count": 85,
   "id": "69dc8e24",
   "metadata": {
    "ExecuteTime": {
     "end_time": "2023-04-16T15:51:37.846629Z",
     "start_time": "2023-04-16T15:51:37.822673Z"
    }
   },
   "outputs": [],
   "source": [
    "repeat = 4\n",
    "\n",
    "features_train_upsampled = pd.concat(\n",
    "    [features_train[target_train == 0]] + [features_train[target_train == 1]] * repeat\n",
    ")\n",
    "target_train_upsampled = pd.concat(\n",
    "    [target_train[target_train == 0]] + [target_train[target_train == 1]] * repeat\n",
    ")\n",
    "    \n",
    "features_train_upsampled, target_train_upsampled = shuffle(\n",
    "    features_train_upsampled, target_train_upsampled, random_state=12345\n",
    ")"
   ]
  },
  {
   "cell_type": "code",
   "execution_count": 86,
   "id": "d202ca47",
   "metadata": {
    "ExecuteTime": {
     "end_time": "2023-04-16T15:51:37.862588Z",
     "start_time": "2023-04-16T15:51:37.850621Z"
    }
   },
   "outputs": [
    {
     "data": {
      "text/plain": [
       "4876"
      ]
     },
     "execution_count": 86,
     "metadata": {},
     "output_type": "execute_result"
    }
   ],
   "source": [
    "features_train_upsampled[target_train_upsampled == 1]['credit_score'].count()"
   ]
  },
  {
   "cell_type": "code",
   "execution_count": 87,
   "id": "f492cae1",
   "metadata": {
    "ExecuteTime": {
     "end_time": "2023-04-16T15:51:37.878578Z",
     "start_time": "2023-04-16T15:51:37.863586Z"
    }
   },
   "outputs": [
    {
     "data": {
      "text/plain": [
       "4781"
      ]
     },
     "execution_count": 87,
     "metadata": {},
     "output_type": "execute_result"
    }
   ],
   "source": [
    "features_train_upsampled[target_train_upsampled == 0]['credit_score'].count()"
   ]
  },
  {
   "cell_type": "code",
   "execution_count": 88,
   "id": "bf797c49",
   "metadata": {
    "ExecuteTime": {
     "end_time": "2023-04-16T15:51:37.941575Z",
     "start_time": "2023-04-16T15:51:37.881540Z"
    }
   },
   "outputs": [
    {
     "name": "stdout",
     "output_type": "stream",
     "text": [
      "Decision tree model with upsampling: F1 = 0.5283, ROC AUC = 0.7947\n"
     ]
    }
   ],
   "source": [
    "model_tree.fit(features_train_upsampled, target_train_upsampled)\n",
    "predictions = model_tree.predict(features_valid)\n",
    "f1_tree_ups = f1_score(target_valid, predictions)\n",
    "probabilities_one_valid = model_tree.predict_proba(features_valid)[:, 1]\n",
    "auc_roc_tree_ups = roc_auc_score(target_valid, probabilities_one_valid)\n",
    "print(f'Decision tree model with upsampling: F1 = {f1_tree_ups:.4f}, ROC AUC = {auc_roc_tree_ups:.4f}')"
   ]
  },
  {
   "cell_type": "code",
   "execution_count": 89,
   "id": "ca824a28",
   "metadata": {
    "ExecuteTime": {
     "end_time": "2023-04-16T15:51:39.757719Z",
     "start_time": "2023-04-16T15:51:37.943574Z"
    }
   },
   "outputs": [
    {
     "name": "stdout",
     "output_type": "stream",
     "text": [
      "Random forest model with upsampling: F1 = 0.5953, ROC AUC = 0.8497\n"
     ]
    }
   ],
   "source": [
    "model_forest_grid.fit(features_train_upsampled, target_train_upsampled)\n",
    "predictions = model_forest_grid.predict(features_valid)\n",
    "f1_forest_ups = f1_score(target_valid, predictions)\n",
    "probabilities_one_valid = model_forest_grid.predict_proba(features_valid)[:, 1]\n",
    "auc_roc_forest_ups = roc_auc_score(target_valid, probabilities_one_valid)\n",
    "print(f'Random forest model with upsampling: F1 = {f1_forest_ups:.4f}, ROC AUC = {auc_roc_forest_ups:.4f}')"
   ]
  },
  {
   "cell_type": "markdown",
   "id": "278670eb",
   "metadata": {},
   "source": [
    "Использование upsampling не дало лучших результатов."
   ]
  },
  {
   "cell_type": "markdown",
   "id": "b757ebd3",
   "metadata": {},
   "source": [
    "### Downsampling"
   ]
  },
  {
   "cell_type": "code",
   "execution_count": 90,
   "id": "934c4274",
   "metadata": {
    "ExecuteTime": {
     "end_time": "2023-04-16T15:51:39.773899Z",
     "start_time": "2023-04-16T15:51:39.759713Z"
    }
   },
   "outputs": [
    {
     "data": {
      "text/plain": [
       "0.25496758000418324"
      ]
     },
     "execution_count": 90,
     "metadata": {},
     "output_type": "execute_result"
    }
   ],
   "source": [
    "features_train[target_train == 1]['credit_score'].count() / features_train[target_train == 0]['credit_score'].count()"
   ]
  },
  {
   "cell_type": "code",
   "execution_count": 91,
   "id": "d163f14e",
   "metadata": {
    "ExecuteTime": {
     "end_time": "2023-04-16T15:51:39.820060Z",
     "start_time": "2023-04-16T15:51:39.775903Z"
    }
   },
   "outputs": [],
   "source": [
    "fraction = 0.25\n",
    "features_train_downsampled = pd.concat(\n",
    "    [features_train[target_train == 0].sample(frac=fraction, random_state=rnd_state)] + [features_train[target_train == 1]]\n",
    ")\n",
    "target_train_downsampled = pd.concat(\n",
    "    [target_train[target_train == 0].sample(frac=fraction, random_state=rnd_state)] + [target_train[target_train == 1]]\n",
    ")\n",
    "    \n",
    "features_train_downsampled, target_train_downsampled = shuffle(\n",
    "    features_train_downsampled, target_train_downsampled, random_state=rnd_state\n",
    ")"
   ]
  },
  {
   "cell_type": "code",
   "execution_count": 92,
   "id": "5c7c2dd8",
   "metadata": {
    "ExecuteTime": {
     "end_time": "2023-04-16T15:51:39.852041Z",
     "start_time": "2023-04-16T15:51:39.821063Z"
    }
   },
   "outputs": [
    {
     "name": "stdout",
     "output_type": "stream",
     "text": [
      "Decision tree model with downsampling: F1 = 0.5429, ROC AUC = 0.8249\n"
     ]
    }
   ],
   "source": [
    "model_tree.fit(features_train_downsampled, target_train_downsampled)\n",
    "predictions = model_tree.predict(features_valid)\n",
    "f1_tree_downs = f1_score(target_valid, predictions)\n",
    "probabilities_one_valid = model_tree.predict_proba(features_valid)[:, 1]\n",
    "auc_roc_tree_downs = roc_auc_score(target_valid, probabilities_one_valid)\n",
    "print(f'Decision tree model with downsampling: F1 = {f1_tree_downs:.4f}, ROC AUC = {auc_roc_tree_downs:.4f}')"
   ]
  },
  {
   "cell_type": "code",
   "execution_count": 93,
   "id": "60e44f5d",
   "metadata": {
    "ExecuteTime": {
     "end_time": "2023-04-16T15:51:40.483062Z",
     "start_time": "2023-04-16T15:51:39.854195Z"
    }
   },
   "outputs": [
    {
     "name": "stdout",
     "output_type": "stream",
     "text": [
      "Random forest model with downsampling: F1 = 0.5714, ROC AUC = 0.8520\n"
     ]
    }
   ],
   "source": [
    "model_forest_grid.fit(features_train_downsampled, target_train_downsampled)\n",
    "predictions = model_forest_grid.predict(features_valid)\n",
    "f1_forest_downs = f1_score(target_valid, predictions)\n",
    "probabilities_one_valid = model_forest_grid.predict_proba(features_valid)[:, 1]\n",
    "auc_roc_forest_downs = roc_auc_score(target_valid, probabilities_one_valid)\n",
    "print(f'Random forest model with downsampling: F1 = {f1_forest_downs:.4f}, ROC AUC = {auc_roc_forest_downs:.4f}')"
   ]
  },
  {
   "cell_type": "markdown",
   "id": "6e48ecbd",
   "metadata": {},
   "source": [
    "Использование downsampling не дало лучших результатов."
   ]
  },
  {
   "cell_type": "markdown",
   "id": "d811f51f",
   "metadata": {},
   "source": [
    "### Изменение порога"
   ]
  },
  {
   "cell_type": "markdown",
   "id": "896c28a5",
   "metadata": {},
   "source": [
    "Беру наилучшую модель - Catboost с балансировкой классов - и смотрю, какие значения метрик можно получить с помощью изменения порога."
   ]
  },
  {
   "cell_type": "code",
   "execution_count": 127,
   "id": "0710639d",
   "metadata": {
    "ExecuteTime": {
     "end_time": "2023-04-16T22:51:36.210669Z",
     "start_time": "2023-04-16T22:51:35.866885Z"
    }
   },
   "outputs": [
    {
     "name": "stdout",
     "output_type": "stream",
     "text": [
      "Порог = 0.30 | F1 = 0.508 | Recall = 0.898 | Precision = 0.354\n",
      "Порог = 0.31 | F1 = 0.516 | Recall = 0.893 | Precision = 0.363\n",
      "Порог = 0.32 | F1 = 0.521 | Recall = 0.887 | Precision = 0.369\n",
      "Порог = 0.33 | F1 = 0.524 | Recall = 0.882 | Precision = 0.373\n",
      "Порог = 0.34 | F1 = 0.532 | Recall = 0.882 | Precision = 0.381\n",
      "Порог = 0.35 | F1 = 0.540 | Recall = 0.877 | Precision = 0.390\n",
      "Порог = 0.36 | F1 = 0.543 | Recall = 0.864 | Precision = 0.395\n",
      "Порог = 0.37 | F1 = 0.540 | Recall = 0.849 | Precision = 0.396\n",
      "Порог = 0.38 | F1 = 0.543 | Recall = 0.836 | Precision = 0.402\n",
      "Порог = 0.39 | F1 = 0.553 | Recall = 0.829 | Precision = 0.415\n",
      "Порог = 0.40 | F1 = 0.556 | Recall = 0.821 | Precision = 0.420\n",
      "Порог = 0.41 | F1 = 0.561 | Recall = 0.813 | Precision = 0.429\n",
      "Порог = 0.42 | F1 = 0.562 | Recall = 0.801 | Precision = 0.434\n",
      "Порог = 0.43 | F1 = 0.568 | Recall = 0.793 | Precision = 0.443\n",
      "Порог = 0.44 | F1 = 0.574 | Recall = 0.785 | Precision = 0.452\n",
      "Порог = 0.45 | F1 = 0.577 | Recall = 0.775 | Precision = 0.460\n",
      "Порог = 0.46 | F1 = 0.586 | Recall = 0.775 | Precision = 0.470\n",
      "Порог = 0.47 | F1 = 0.585 | Recall = 0.765 | Precision = 0.474\n",
      "Порог = 0.48 | F1 = 0.587 | Recall = 0.754 | Precision = 0.480\n",
      "Порог = 0.49 | F1 = 0.589 | Recall = 0.744 | Precision = 0.487\n",
      "Порог = 0.50 | F1 = 0.593 | Recall = 0.737 | Precision = 0.497\n",
      "Порог = 0.51 | F1 = 0.594 | Recall = 0.721 | Precision = 0.504\n",
      "Порог = 0.52 | F1 = 0.601 | Recall = 0.719 | Precision = 0.517\n",
      "Порог = 0.53 | F1 = 0.602 | Recall = 0.706 | Precision = 0.525\n",
      "Порог = 0.54 | F1 = 0.603 | Recall = 0.691 | Precision = 0.535\n",
      "Порог = 0.55 | F1 = 0.602 | Recall = 0.683 | Precision = 0.538\n",
      "Порог = 0.56 | F1 = 0.609 | Recall = 0.683 | Precision = 0.549\n",
      "Порог = 0.57 | F1 = 0.607 | Recall = 0.670 | Precision = 0.555\n",
      "Порог = 0.58 | F1 = 0.614 | Recall = 0.668 | Precision = 0.569\n",
      "Порог = 0.59 | F1 = 0.613 | Recall = 0.657 | Precision = 0.574\n",
      "Порог = 0.60 | F1 = 0.618 | Recall = 0.655 | Precision = 0.584\n",
      "Порог = 0.61 | F1 = 0.623 | Recall = 0.645 | Precision = 0.603\n",
      "Порог = 0.62 | F1 = 0.627 | Recall = 0.637 | Precision = 0.618\n",
      "Порог = 0.63 | F1 = 0.631 | Recall = 0.624 | Precision = 0.639\n",
      "Порог = 0.64 | F1 = 0.635 | Recall = 0.614 | Precision = 0.658\n",
      "Порог = 0.65 | F1 = 0.635 | Recall = 0.606 | Precision = 0.668\n",
      "Порог = 0.66 | F1 = 0.632 | Recall = 0.596 | Precision = 0.673\n",
      "Порог = 0.67 | F1 = 0.636 | Recall = 0.591 | Precision = 0.690\n",
      "Порог = 0.68 | F1 = 0.628 | Recall = 0.575 | Precision = 0.690\n",
      "Порог = 0.69 | F1 = 0.622 | Recall = 0.563 | Precision = 0.696\n",
      "Порог = 0.70 | F1 = 0.611 | Recall = 0.545 | Precision = 0.696\n"
     ]
    }
   ],
   "source": [
    "probabilities_valid = model_cat_weight.predict_proba(features_valid_cat)\n",
    "probabilities_one_valid = probabilities_valid[:, 1]\n",
    "\n",
    "for threshold in np.arange(0.3, 0.71, 0.01):\n",
    "    predicted_valid = probabilities_one_valid > threshold \n",
    "    f1 = f1_score(target_valid_cat, predicted_valid)\n",
    "    precision = precision_score(target_valid_cat, predicted_valid) \n",
    "    recall = recall_score(target_valid_cat, predicted_valid) \n",
    "\n",
    "    print(f'Порог = {threshold:.2f} | F1 = {f1:.3f} | Recall = {recall:.3f} | Precision = {precision:.3f}')"
   ]
  },
  {
   "cell_type": "markdown",
   "id": "4613a845",
   "metadata": {},
   "source": [
    "Наилучшее значение F1-меры можно получить, используя порог `0,65`.\n",
    "\n",
    "В таком случае **метрика F1 составит `0,635`**, полнота при этом `0,606`, а точность `0,668`"
   ]
  },
  {
   "cell_type": "code",
   "execution_count": 128,
   "id": "29ee1719",
   "metadata": {
    "ExecuteTime": {
     "end_time": "2023-04-16T22:53:11.355713Z",
     "start_time": "2023-04-16T22:53:11.101432Z"
    },
    "scrolled": false
   },
   "outputs": [
    {
     "data": {
      "image/png": "[encoded data removed]",
      "text/plain": [
       "<Figure size 504x504 with 1 Axes>"
      ]
     },
     "metadata": {
      "needs_background": "light"
     },
     "output_type": "display_data"
    }
   ],
   "source": [
    "probabilities_valid = model_cat_weight.predict_proba(features_valid_cat)\n",
    "probabilities_one_valid = probabilities_valid[:, 1]\n",
    "\n",
    "fpr, tpr, thresholds = roc_curve(target_valid_cat, probabilities_one_valid)\n",
    "\n",
    "plt.figure(figsize=(7, 7))\n",
    "plt.plot(fpr, tpr)\n",
    "plt.plot([0, 1], [0, 1], linestyle='--')\n",
    "plt.ylim([0.0, 1.0])\n",
    "plt.xlim([0.0, 1.0])\n",
    "plt.xlabel('False Positive Rate')\n",
    "plt.ylabel('True Positive Rate')\n",
    "plt.title('ROC-кривая')\n",
    "\n",
    "plt.show()"
   ]
  },
  {
   "cell_type": "code",
   "execution_count": 129,
   "id": "cb4ab3ab",
   "metadata": {
    "ExecuteTime": {
     "end_time": "2023-04-16T22:53:35.727431Z",
     "start_time": "2023-04-16T22:53:35.717041Z"
    }
   },
   "outputs": [
    {
     "name": "stdout",
     "output_type": "stream",
     "text": [
      "Значение метрики AUC ROC: 0.870\n"
     ]
    }
   ],
   "source": [
    "auc_roc = roc_auc_score(target_valid_cat, probabilities_one_valid)\n",
    "print(f'Значение метрики AUC ROC: {auc_roc:.3f}')"
   ]
  },
  {
   "cell_type": "code",
   "execution_count": 131,
   "id": "85722367",
   "metadata": {
    "ExecuteTime": {
     "end_time": "2023-04-16T22:56:59.159786Z",
     "start_time": "2023-04-16T22:56:59.148127Z"
    }
   },
   "outputs": [
    {
     "name": "stdout",
     "output_type": "stream",
     "text": [
      "Интерполяция по графику, значения метрик при пороге 0,65\n",
      "TPR = 0.691\n",
      "FPR = 0.147\n"
     ]
    }
   ],
   "source": [
    "from scipy import interpolate\n",
    "tpr_intrp = interpolate.interp1d(thresholds, tpr)\n",
    "fpr_intrp = interpolate.interp1d(thresholds, fpr)\n",
    "\n",
    "print('Интерполяция по графику, значения метрик при пороге 0,65')\n",
    "print(f'TPR = {tpr_intrp(0.54):.3f}')\n",
    "print(f'FPR = {fpr_intrp(0.54):.3f}')"
   ]
  },
  {
   "cell_type": "markdown",
   "id": "d36b4765",
   "metadata": {},
   "source": [
    "На графике - ROC кривая выбранной модели, которая отражает изменение значений метрик TPR (она же полнота, Recall) и FPR при различных порогах. Для порога `0,65` и TPR `0,69` доля ложных положительных ответов составит около `0,15`."
   ]
  },
  {
   "cell_type": "markdown",
   "id": "3eb4d463",
   "metadata": {},
   "source": [
    "### Вывод"
   ]
  },
  {
   "cell_type": "markdown",
   "id": "bee19590",
   "metadata": {},
   "source": [
    "С помощью взвешивания классов и изменения порога удалось улучшить значение F1-меры для модели случайного леса до `0,635`. Если модель пройдёт тестирование, требование к значению метрики выполнено."
   ]
  },
  {
   "cell_type": "markdown",
   "id": "90e5567f",
   "metadata": {},
   "source": [
    "## Тестирование"
   ]
  },
  {
   "cell_type": "code",
   "execution_count": 133,
   "id": "3429c3de",
   "metadata": {
    "ExecuteTime": {
     "end_time": "2023-04-16T22:57:53.131164Z",
     "start_time": "2023-04-16T22:57:53.113901Z"
    }
   },
   "outputs": [
    {
     "name": "stdout",
     "output_type": "stream",
     "text": [
      "Значение F1-меры на тестовой выборке: 0.672\n",
      "Значение ROC_AUC на тестовой выборке: 0.879\n"
     ]
    }
   ],
   "source": [
    "predicted_test = (model_cat_weight.predict_proba(features_test_cat)[:, 1] > 0.65).astype(bool)\n",
    "f1_test = f1_score(target_test_cat, predicted_test)\n",
    "print(f'Значение F1-меры на тестовой выборке: {f1_test:.3f}')\n",
    "roc_auc_test = roc_auc_score(target_test, model_cat_weight.predict_proba(features_test_cat)[:, 1])\n",
    "print(f'Значение ROC_AUC на тестовой выборке: {roc_auc_test:.3f}')"
   ]
  },
  {
   "cell_type": "markdown",
   "id": "070a9597",
   "metadata": {},
   "source": [
    "Модель прошла тестирование, значение F1-меры на тестовой выборке удовлетворяет требованиям задачи."
   ]
  },
  {
   "cell_type": "markdown",
   "id": "879f9f94",
   "metadata": {},
   "source": [
    "## Общий вывод"
   ]
  },
  {
   "cell_type": "markdown",
   "id": "97b98218",
   "metadata": {},
   "source": [
    "Были предоставлены исторические данные о поведении клиентов \"Бета-Банка\" и расторжении договоров. Поставлена задача - построить модель, предсказывающую уход клиента из банка. Требования к качеству модели - значение метрики F1-меры не менее `0,59`.\n",
    "\n",
    "* Данные были предобработаны: заполнены пропуски, выделены и подготовлены признаки - категориальные переведены в численные, количественные стандартизованы.\n",
    "\n",
    "\n",
    "* Проведено исследование задачи без учёта дисбаланса классов. Рассмотрены модели с алгоритмами логистической регресии, дерева решений, случайного леса, градиентного бустинга (catboost). Подобраны параметры для обучения, дающие наиболее высокий результат по заданной метрике.\n",
    "\n",
    "\n",
    "* Затем проведено улучшение моделей с учётом дисбаланса классов. С помощью взвешивания классов улучшена **модель catboost**. Построен график ROC-кривой для модели, вычислена AUC ROC.\n",
    "\n",
    "\n",
    "* Выбран порог `0,65`, позволяющий достичь следующих значений метрик для предсказаний модели:\n",
    "    - F1-мера = `0,635`\n",
    "    - TPR, Recall = `0,69`\n",
    "    - FPR = `0,15`\n",
    "\n",
    "\n",
    "* Выбранная модель успешно прошла проверку на тестовой выборке."
   ]
  },
  {
   "cell_type": "code",
   "execution_count": null,
   "id": "19c77727",
   "metadata": {},
   "outputs": [],
   "source": []
  }
 ],
 "metadata": {
  "ExecuteTimeLog": [
   {
    "duration": 1463,
    "start_time": "2023-01-09T10:40:49.418Z"
   },
   {
    "duration": 2,
    "start_time": "2023-01-09T10:40:50.883Z"
   },
   {
    "duration": 468,
    "start_time": "2023-01-09T10:40:50.887Z"
   },
   {
    "duration": 18,
    "start_time": "2023-01-09T10:40:51.358Z"
   },
   {
    "duration": 11,
    "start_time": "2023-01-09T10:40:51.377Z"
   },
   {
    "duration": 3,
    "start_time": "2023-01-09T10:40:51.390Z"
   },
   {
    "duration": 14,
    "start_time": "2023-01-09T10:40:51.395Z"
   },
   {
    "duration": 7,
    "start_time": "2023-01-09T10:40:51.410Z"
   },
   {
    "duration": 4,
    "start_time": "2023-01-09T10:40:51.418Z"
   },
   {
    "duration": 14,
    "start_time": "2023-01-09T10:40:51.424Z"
   },
   {
    "duration": 10,
    "start_time": "2023-01-09T10:40:51.439Z"
   },
   {
    "duration": 407,
    "start_time": "2023-01-09T10:40:51.450Z"
   },
   {
    "duration": 326,
    "start_time": "2023-01-09T10:40:51.858Z"
   },
   {
    "duration": 355,
    "start_time": "2023-01-09T10:40:52.186Z"
   },
   {
    "duration": 334,
    "start_time": "2023-01-09T10:40:52.543Z"
   },
   {
    "duration": 383,
    "start_time": "2023-01-09T10:40:52.879Z"
   },
   {
    "duration": 479,
    "start_time": "2023-01-09T10:40:53.264Z"
   },
   {
    "duration": 280,
    "start_time": "2023-01-09T10:40:53.776Z"
   },
   {
    "duration": 19,
    "start_time": "2023-01-09T10:40:54.058Z"
   },
   {
    "duration": 587,
    "start_time": "2023-01-09T10:40:54.079Z"
   },
   {
    "duration": 509,
    "start_time": "2023-01-09T10:40:54.667Z"
   },
   {
    "duration": 667,
    "start_time": "2023-01-09T10:40:55.178Z"
   },
   {
    "duration": 8,
    "start_time": "2023-01-09T10:40:55.846Z"
   },
   {
    "duration": 275,
    "start_time": "2023-01-09T10:40:55.855Z"
   },
   {
    "duration": 3,
    "start_time": "2023-01-09T10:40:56.132Z"
   },
   {
    "duration": 369,
    "start_time": "2023-01-09T10:40:56.137Z"
   },
   {
    "duration": 528,
    "start_time": "2023-01-09T10:40:56.508Z"
   },
   {
    "duration": 378,
    "start_time": "2023-01-09T10:40:57.040Z"
   },
   {
    "duration": 6,
    "start_time": "2023-01-09T10:40:57.419Z"
   },
   {
    "duration": 14,
    "start_time": "2023-01-09T10:40:57.426Z"
   },
   {
    "duration": 13,
    "start_time": "2023-01-09T10:40:57.442Z"
   },
   {
    "duration": 4,
    "start_time": "2023-01-09T10:40:57.457Z"
   },
   {
    "duration": 264,
    "start_time": "2023-01-09T10:40:57.475Z"
   },
   {
    "duration": 7,
    "start_time": "2023-01-09T10:40:57.741Z"
   },
   {
    "duration": 27,
    "start_time": "2023-01-09T10:40:57.750Z"
   },
   {
    "duration": 21,
    "start_time": "2023-01-09T10:40:57.778Z"
   },
   {
    "duration": 4,
    "start_time": "2023-01-09T10:40:57.800Z"
   },
   {
    "duration": 15,
    "start_time": "2023-01-09T10:40:57.805Z"
   },
   {
    "duration": 18,
    "start_time": "2023-01-09T10:40:57.821Z"
   },
   {
    "duration": 17,
    "start_time": "2023-01-09T10:40:57.840Z"
   },
   {
    "duration": 22,
    "start_time": "2023-01-09T10:40:57.859Z"
   },
   {
    "duration": 235,
    "start_time": "2023-01-09T10:40:57.882Z"
   },
   {
    "duration": 8,
    "start_time": "2023-01-09T10:40:58.119Z"
   },
   {
    "duration": 9,
    "start_time": "2023-01-09T10:40:58.128Z"
   },
   {
    "duration": 1838,
    "start_time": "2023-01-09T10:40:58.138Z"
   },
   {
    "duration": 125,
    "start_time": "2023-01-09T10:40:59.978Z"
   },
   {
    "duration": 430,
    "start_time": "2023-01-09T10:41:00.106Z"
   },
   {
    "duration": 491,
    "start_time": "2023-01-09T10:41:00.539Z"
   },
   {
    "duration": 471,
    "start_time": "2023-01-09T10:41:01.031Z"
   },
   {
    "duration": 128480,
    "start_time": "2023-01-09T10:41:01.503Z"
   },
   {
    "duration": 5,
    "start_time": "2023-01-09T10:43:09.985Z"
   },
   {
    "duration": 34,
    "start_time": "2023-01-09T10:43:09.992Z"
   },
   {
    "duration": 720,
    "start_time": "2023-01-09T10:43:10.028Z"
   },
   {
    "duration": 52745,
    "start_time": "2023-01-09T10:43:10.749Z"
   },
   {
    "duration": 226,
    "start_time": "2023-01-09T10:44:03.496Z"
   },
   {
    "duration": 9829,
    "start_time": "2023-01-09T10:44:03.724Z"
   },
   {
    "duration": 19617,
    "start_time": "2023-01-09T10:44:13.555Z"
   },
   {
    "duration": 15330,
    "start_time": "2023-01-09T10:44:33.174Z"
   },
   {
    "duration": 16664,
    "start_time": "2023-01-09T10:44:48.506Z"
   },
   {
    "duration": 4,
    "start_time": "2023-01-09T10:45:05.172Z"
   },
   {
    "duration": 1528,
    "start_time": "2023-01-09T10:45:05.178Z"
   },
   {
    "duration": 3,
    "start_time": "2023-01-09T10:45:06.707Z"
   },
   {
    "duration": 39,
    "start_time": "2023-01-09T10:45:06.712Z"
   },
   {
    "duration": 1391,
    "start_time": "2023-01-09T10:45:06.752Z"
   },
   {
    "duration": 7,
    "start_time": "2023-01-09T10:45:08.144Z"
   },
   {
    "duration": 24,
    "start_time": "2023-01-09T10:45:08.153Z"
   },
   {
    "duration": 6,
    "start_time": "2023-01-09T10:45:08.179Z"
   },
   {
    "duration": 5,
    "start_time": "2023-01-09T10:45:08.186Z"
   },
   {
    "duration": 48,
    "start_time": "2023-01-09T10:45:08.193Z"
   },
   {
    "duration": 2075,
    "start_time": "2023-01-09T10:45:08.243Z"
   },
   {
    "duration": 7,
    "start_time": "2023-01-09T10:45:10.320Z"
   },
   {
    "duration": 9,
    "start_time": "2023-01-09T10:45:10.329Z"
   },
   {
    "duration": 39,
    "start_time": "2023-01-09T10:45:10.340Z"
   },
   {
    "duration": 641,
    "start_time": "2023-01-09T10:45:10.381Z"
   },
   {
    "duration": 146,
    "start_time": "2023-01-09T10:45:11.024Z"
   },
   {
    "duration": 187,
    "start_time": "2023-01-09T10:45:11.172Z"
   },
   {
    "duration": 14,
    "start_time": "2023-01-09T10:45:11.362Z"
   },
   {
    "duration": 4,
    "start_time": "2023-01-09T10:45:11.378Z"
   },
   {
    "duration": 63,
    "start_time": "2023-01-09T10:45:11.383Z"
   },
   {
    "duration": 1648,
    "start_time": "2023-01-09T10:52:06.651Z"
   },
   {
    "duration": 3,
    "start_time": "2023-01-09T10:52:08.302Z"
   },
   {
    "duration": 98,
    "start_time": "2023-01-09T10:52:08.306Z"
   },
   {
    "duration": 21,
    "start_time": "2023-01-09T10:52:08.406Z"
   },
   {
    "duration": 30,
    "start_time": "2023-01-09T10:52:08.429Z"
   },
   {
    "duration": 33,
    "start_time": "2023-01-09T10:52:08.461Z"
   },
   {
    "duration": 52,
    "start_time": "2023-01-09T10:52:08.496Z"
   },
   {
    "duration": 52,
    "start_time": "2023-01-09T10:52:08.550Z"
   },
   {
    "duration": 38,
    "start_time": "2023-01-09T10:52:08.604Z"
   },
   {
    "duration": 46,
    "start_time": "2023-01-09T10:52:08.646Z"
   },
   {
    "duration": 28,
    "start_time": "2023-01-09T10:52:08.694Z"
   },
   {
    "duration": 431,
    "start_time": "2023-01-09T10:52:08.724Z"
   },
   {
    "duration": 345,
    "start_time": "2023-01-09T10:52:09.157Z"
   },
   {
    "duration": 356,
    "start_time": "2023-01-09T10:52:09.503Z"
   },
   {
    "duration": 328,
    "start_time": "2023-01-09T10:52:09.861Z"
   },
   {
    "duration": 416,
    "start_time": "2023-01-09T10:52:10.191Z"
   },
   {
    "duration": 504,
    "start_time": "2023-01-09T10:52:10.609Z"
   },
   {
    "duration": 236,
    "start_time": "2023-01-09T10:52:11.115Z"
   },
   {
    "duration": 27,
    "start_time": "2023-01-09T10:52:11.353Z"
   },
   {
    "duration": 582,
    "start_time": "2023-01-09T10:52:11.381Z"
   },
   {
    "duration": 483,
    "start_time": "2023-01-09T10:52:11.965Z"
   },
   {
    "duration": 621,
    "start_time": "2023-01-09T10:52:12.449Z"
   },
   {
    "duration": 15,
    "start_time": "2023-01-09T10:52:13.071Z"
   },
   {
    "duration": 268,
    "start_time": "2023-01-09T10:52:13.088Z"
   },
   {
    "duration": 6,
    "start_time": "2023-01-09T10:52:13.358Z"
   },
   {
    "duration": 383,
    "start_time": "2023-01-09T10:52:13.377Z"
   },
   {
    "duration": 578,
    "start_time": "2023-01-09T10:52:13.762Z"
   },
   {
    "duration": 465,
    "start_time": "2023-01-09T10:52:14.344Z"
   },
   {
    "duration": 7,
    "start_time": "2023-01-09T10:52:14.812Z"
   },
   {
    "duration": 24,
    "start_time": "2023-01-09T10:52:14.820Z"
   },
   {
    "duration": 19,
    "start_time": "2023-01-09T10:52:14.846Z"
   },
   {
    "duration": 30,
    "start_time": "2023-01-09T10:52:14.867Z"
   },
   {
    "duration": 377,
    "start_time": "2023-01-09T10:52:14.899Z"
   },
   {
    "duration": 8,
    "start_time": "2023-01-09T10:52:15.278Z"
   },
   {
    "duration": 13,
    "start_time": "2023-01-09T10:52:15.289Z"
   },
   {
    "duration": 34,
    "start_time": "2023-01-09T10:52:15.305Z"
   },
   {
    "duration": 4,
    "start_time": "2023-01-09T10:52:15.341Z"
   },
   {
    "duration": 20,
    "start_time": "2023-01-09T10:52:15.347Z"
   },
   {
    "duration": 15,
    "start_time": "2023-01-09T10:52:15.376Z"
   },
   {
    "duration": 29,
    "start_time": "2023-01-09T10:52:15.393Z"
   },
   {
    "duration": 12,
    "start_time": "2023-01-09T10:52:15.424Z"
   },
   {
    "duration": 289,
    "start_time": "2023-01-09T10:52:15.438Z"
   },
   {
    "duration": 9,
    "start_time": "2023-01-09T10:52:15.729Z"
   },
   {
    "duration": 5,
    "start_time": "2023-01-09T10:52:15.739Z"
   },
   {
    "duration": 836,
    "start_time": "2023-01-09T10:52:15.745Z"
   },
   {
    "duration": 221,
    "start_time": "2023-01-09T10:52:16.583Z"
   },
   {
    "duration": 522,
    "start_time": "2023-01-09T10:52:16.806Z"
   },
   {
    "duration": 538,
    "start_time": "2023-01-09T10:52:17.330Z"
   },
   {
    "duration": 510,
    "start_time": "2023-01-09T10:52:17.870Z"
   },
   {
    "duration": 134199,
    "start_time": "2023-01-09T10:52:18.382Z"
   },
   {
    "duration": 6,
    "start_time": "2023-01-09T10:54:32.583Z"
   },
   {
    "duration": 44,
    "start_time": "2023-01-09T10:54:32.591Z"
   },
   {
    "duration": 756,
    "start_time": "2023-01-09T10:54:32.636Z"
   },
   {
    "duration": 56286,
    "start_time": "2023-01-09T10:54:33.396Z"
   },
   {
    "duration": 242,
    "start_time": "2023-01-09T10:55:29.684Z"
   },
   {
    "duration": 10997,
    "start_time": "2023-01-09T10:55:29.928Z"
   },
   {
    "duration": 19649,
    "start_time": "2023-01-09T10:55:40.927Z"
   },
   {
    "duration": 14986,
    "start_time": "2023-01-09T10:56:00.578Z"
   },
   {
    "duration": 16384,
    "start_time": "2023-01-09T10:56:15.566Z"
   },
   {
    "duration": 3,
    "start_time": "2023-01-09T10:56:31.952Z"
   },
   {
    "duration": 1367,
    "start_time": "2023-01-09T10:56:31.957Z"
   },
   {
    "duration": 3,
    "start_time": "2023-01-09T10:56:33.326Z"
   },
   {
    "duration": 35,
    "start_time": "2023-01-09T10:56:33.331Z"
   },
   {
    "duration": 1301,
    "start_time": "2023-01-09T10:56:33.376Z"
   },
   {
    "duration": 10,
    "start_time": "2023-01-09T10:56:34.681Z"
   },
   {
    "duration": 24,
    "start_time": "2023-01-09T10:56:34.693Z"
   },
   {
    "duration": 7,
    "start_time": "2023-01-09T10:56:34.718Z"
   },
   {
    "duration": 9,
    "start_time": "2023-01-09T10:56:34.727Z"
   },
   {
    "duration": 63,
    "start_time": "2023-01-09T10:56:34.743Z"
   },
   {
    "duration": 2130,
    "start_time": "2023-01-09T10:56:34.808Z"
   },
   {
    "duration": 8,
    "start_time": "2023-01-09T10:56:36.939Z"
   },
   {
    "duration": 18,
    "start_time": "2023-01-09T10:56:36.948Z"
   },
   {
    "duration": 19,
    "start_time": "2023-01-09T10:56:36.975Z"
   },
   {
    "duration": 611,
    "start_time": "2023-01-09T10:56:36.996Z"
   },
   {
    "duration": 156,
    "start_time": "2023-01-09T10:56:37.609Z"
   },
   {
    "duration": 195,
    "start_time": "2023-01-09T10:56:37.767Z"
   },
   {
    "duration": 12,
    "start_time": "2023-01-09T10:56:37.964Z"
   },
   {
    "duration": 6,
    "start_time": "2023-01-09T10:56:37.978Z"
   },
   {
    "duration": 74,
    "start_time": "2023-01-09T10:56:37.986Z"
   },
   {
    "duration": 1464,
    "start_time": "2023-01-09T10:58:11.468Z"
   },
   {
    "duration": 2,
    "start_time": "2023-01-09T10:58:12.934Z"
   },
   {
    "duration": 83,
    "start_time": "2023-01-09T10:58:12.938Z"
   },
   {
    "duration": 21,
    "start_time": "2023-01-09T10:58:13.023Z"
   },
   {
    "duration": 13,
    "start_time": "2023-01-09T10:58:13.046Z"
   },
   {
    "duration": 4,
    "start_time": "2023-01-09T10:58:13.061Z"
   },
   {
    "duration": 23,
    "start_time": "2023-01-09T10:58:13.066Z"
   },
   {
    "duration": 6,
    "start_time": "2023-01-09T10:58:13.091Z"
   },
   {
    "duration": 10,
    "start_time": "2023-01-09T10:58:13.098Z"
   },
   {
    "duration": 16,
    "start_time": "2023-01-09T10:58:13.110Z"
   },
   {
    "duration": 9,
    "start_time": "2023-01-09T10:58:13.128Z"
   },
   {
    "duration": 410,
    "start_time": "2023-01-09T10:58:13.138Z"
   },
   {
    "duration": 382,
    "start_time": "2023-01-09T10:58:13.550Z"
   },
   {
    "duration": 430,
    "start_time": "2023-01-09T10:58:13.936Z"
   },
   {
    "duration": 356,
    "start_time": "2023-01-09T10:58:14.368Z"
   },
   {
    "duration": 413,
    "start_time": "2023-01-09T10:58:14.726Z"
   },
   {
    "duration": 581,
    "start_time": "2023-01-09T10:58:15.141Z"
   },
   {
    "duration": 309,
    "start_time": "2023-01-09T10:58:15.724Z"
   },
   {
    "duration": 11,
    "start_time": "2023-01-09T10:58:16.035Z"
   },
   {
    "duration": 618,
    "start_time": "2023-01-09T10:58:16.048Z"
   },
   {
    "duration": 558,
    "start_time": "2023-01-09T10:58:16.676Z"
   },
   {
    "duration": 617,
    "start_time": "2023-01-09T10:58:17.236Z"
   },
   {
    "duration": 25,
    "start_time": "2023-01-09T10:58:17.855Z"
   },
   {
    "duration": 259,
    "start_time": "2023-01-09T10:58:17.882Z"
   },
   {
    "duration": 5,
    "start_time": "2023-01-09T10:58:18.143Z"
   },
   {
    "duration": 369,
    "start_time": "2023-01-09T10:58:18.149Z"
   },
   {
    "duration": 526,
    "start_time": "2023-01-09T10:58:18.520Z"
   },
   {
    "duration": 459,
    "start_time": "2023-01-09T10:58:19.048Z"
   },
   {
    "duration": 8,
    "start_time": "2023-01-09T10:58:19.509Z"
   },
   {
    "duration": 18,
    "start_time": "2023-01-09T10:58:19.518Z"
   },
   {
    "duration": 9,
    "start_time": "2023-01-09T10:58:19.538Z"
   },
   {
    "duration": 14,
    "start_time": "2023-01-09T10:58:19.549Z"
   },
   {
    "duration": 370,
    "start_time": "2023-01-09T10:58:19.564Z"
   },
   {
    "duration": 9,
    "start_time": "2023-01-09T10:58:19.936Z"
   },
   {
    "duration": 10,
    "start_time": "2023-01-09T10:58:19.946Z"
   },
   {
    "duration": 32,
    "start_time": "2023-01-09T10:58:19.957Z"
   },
   {
    "duration": 4,
    "start_time": "2023-01-09T10:58:19.991Z"
   },
   {
    "duration": 15,
    "start_time": "2023-01-09T10:58:19.997Z"
   },
   {
    "duration": 15,
    "start_time": "2023-01-09T10:58:20.014Z"
   },
   {
    "duration": 51,
    "start_time": "2023-01-09T10:58:20.030Z"
   },
   {
    "duration": 15,
    "start_time": "2023-01-09T10:58:20.086Z"
   },
   {
    "duration": 245,
    "start_time": "2023-01-09T10:58:20.102Z"
   },
   {
    "duration": 10,
    "start_time": "2023-01-09T10:58:20.377Z"
   },
   {
    "duration": 26,
    "start_time": "2023-01-09T10:58:20.389Z"
   },
   {
    "duration": 669,
    "start_time": "2023-01-09T10:58:20.417Z"
   },
   {
    "duration": 202,
    "start_time": "2023-01-09T10:58:21.089Z"
   },
   {
    "duration": 424,
    "start_time": "2023-01-09T10:58:21.293Z"
   },
   {
    "duration": 486,
    "start_time": "2023-01-09T10:58:21.719Z"
   },
   {
    "duration": 454,
    "start_time": "2023-01-09T10:58:22.207Z"
   },
   {
    "duration": 138454,
    "start_time": "2023-01-09T10:58:22.663Z"
   },
   {
    "duration": 5,
    "start_time": "2023-01-09T11:00:41.118Z"
   },
   {
    "duration": 32,
    "start_time": "2023-01-09T11:00:41.124Z"
   },
   {
    "duration": 734,
    "start_time": "2023-01-09T11:00:41.157Z"
   },
   {
    "duration": 56198,
    "start_time": "2023-01-09T11:00:41.893Z"
   },
   {
    "duration": 236,
    "start_time": "2023-01-09T11:01:38.096Z"
   },
   {
    "duration": 10264,
    "start_time": "2023-01-09T11:01:38.334Z"
   },
   {
    "duration": 19988,
    "start_time": "2023-01-09T11:01:48.599Z"
   },
   {
    "duration": 15289,
    "start_time": "2023-01-09T11:02:08.589Z"
   },
   {
    "duration": 16937,
    "start_time": "2023-01-09T11:02:23.887Z"
   },
   {
    "duration": 6,
    "start_time": "2023-01-09T11:02:40.826Z"
   },
   {
    "duration": 1474,
    "start_time": "2023-01-09T11:02:40.834Z"
   },
   {
    "duration": 4,
    "start_time": "2023-01-09T11:02:42.310Z"
   },
   {
    "duration": 42,
    "start_time": "2023-01-09T11:02:42.315Z"
   },
   {
    "duration": 1498,
    "start_time": "2023-01-09T11:02:42.359Z"
   },
   {
    "duration": 24,
    "start_time": "2023-01-09T11:02:43.858Z"
   },
   {
    "duration": 17,
    "start_time": "2023-01-09T11:02:43.883Z"
   },
   {
    "duration": 6,
    "start_time": "2023-01-09T11:02:43.901Z"
   },
   {
    "duration": 9,
    "start_time": "2023-01-09T11:02:43.909Z"
   },
   {
    "duration": 40,
    "start_time": "2023-01-09T11:02:43.919Z"
   },
   {
    "duration": 2308,
    "start_time": "2023-01-09T11:02:43.961Z"
   },
   {
    "duration": 13,
    "start_time": "2023-01-09T11:02:46.270Z"
   },
   {
    "duration": 28,
    "start_time": "2023-01-09T11:02:46.285Z"
   },
   {
    "duration": 20,
    "start_time": "2023-01-09T11:02:46.315Z"
   },
   {
    "duration": 696,
    "start_time": "2023-01-09T11:02:46.337Z"
   },
   {
    "duration": 152,
    "start_time": "2023-01-09T11:02:47.035Z"
   },
   {
    "duration": 209,
    "start_time": "2023-01-09T11:02:47.190Z"
   },
   {
    "duration": 6,
    "start_time": "2023-01-09T11:02:47.402Z"
   },
   {
    "duration": 15,
    "start_time": "2023-01-09T11:02:47.410Z"
   },
   {
    "duration": 66,
    "start_time": "2023-01-09T11:02:47.427Z"
   },
   {
    "duration": 15,
    "start_time": "2023-01-09T11:23:59.934Z"
   },
   {
    "duration": 63,
    "start_time": "2023-01-09T11:24:06.226Z"
   },
   {
    "duration": 1495,
    "start_time": "2023-01-09T11:42:15.486Z"
   },
   {
    "duration": 1443,
    "start_time": "2023-01-09T11:42:32.478Z"
   },
   {
    "duration": 5,
    "start_time": "2023-01-09T11:44:04.565Z"
   },
   {
    "duration": 5,
    "start_time": "2023-01-09T11:44:19.275Z"
   },
   {
    "duration": 3,
    "start_time": "2023-01-09T11:44:28.126Z"
   },
   {
    "duration": 3,
    "start_time": "2023-01-09T11:44:31.054Z"
   },
   {
    "duration": 4,
    "start_time": "2023-01-09T11:45:12.996Z"
   },
   {
    "duration": 50,
    "start_time": "2023-01-19T00:49:04.999Z"
   },
   {
    "duration": 1477,
    "start_time": "2023-01-19T00:49:10.888Z"
   },
   {
    "duration": 3,
    "start_time": "2023-01-19T00:49:12.367Z"
   },
   {
    "duration": 146,
    "start_time": "2023-01-19T00:49:12.371Z"
   },
   {
    "duration": 18,
    "start_time": "2023-01-19T00:49:12.519Z"
   },
   {
    "duration": 12,
    "start_time": "2023-01-19T00:49:12.539Z"
   },
   {
    "duration": 4,
    "start_time": "2023-01-19T00:49:12.552Z"
   },
   {
    "duration": 16,
    "start_time": "2023-01-19T00:49:12.557Z"
   },
   {
    "duration": 6,
    "start_time": "2023-01-19T00:49:12.575Z"
   },
   {
    "duration": 3,
    "start_time": "2023-01-19T00:49:12.583Z"
   },
   {
    "duration": 13,
    "start_time": "2023-01-19T00:49:12.589Z"
   },
   {
    "duration": 8,
    "start_time": "2023-01-19T00:49:12.603Z"
   },
   {
    "duration": 379,
    "start_time": "2023-01-19T00:49:12.639Z"
   },
   {
    "duration": 351,
    "start_time": "2023-01-19T00:49:13.020Z"
   },
   {
    "duration": 352,
    "start_time": "2023-01-19T00:49:13.373Z"
   },
   {
    "duration": 340,
    "start_time": "2023-01-19T00:49:13.726Z"
   },
   {
    "duration": 390,
    "start_time": "2023-01-19T00:49:14.068Z"
   },
   {
    "duration": 492,
    "start_time": "2023-01-19T00:49:14.459Z"
   },
   {
    "duration": 270,
    "start_time": "2023-01-19T00:49:14.953Z"
   },
   {
    "duration": 8,
    "start_time": "2023-01-19T00:49:15.240Z"
   },
   {
    "duration": 621,
    "start_time": "2023-01-19T00:49:15.250Z"
   },
   {
    "duration": 583,
    "start_time": "2023-01-19T00:49:15.872Z"
   },
   {
    "duration": 567,
    "start_time": "2023-01-19T00:49:16.457Z"
   },
   {
    "duration": 17,
    "start_time": "2023-01-19T00:49:17.025Z"
   },
   {
    "duration": 262,
    "start_time": "2023-01-19T00:49:17.044Z"
   },
   {
    "duration": 5,
    "start_time": "2023-01-19T00:49:17.307Z"
   },
   {
    "duration": 370,
    "start_time": "2023-01-19T00:49:17.313Z"
   },
   {
    "duration": 541,
    "start_time": "2023-01-19T00:49:17.684Z"
   },
   {
    "duration": 439,
    "start_time": "2023-01-19T00:49:18.230Z"
   },
   {
    "duration": 6,
    "start_time": "2023-01-19T00:49:18.671Z"
   },
   {
    "duration": 7,
    "start_time": "2023-01-19T00:49:18.679Z"
   },
   {
    "duration": 8,
    "start_time": "2023-01-19T00:49:18.688Z"
   },
   {
    "duration": 10,
    "start_time": "2023-01-19T00:49:18.698Z"
   },
   {
    "duration": 30,
    "start_time": "2023-01-19T00:49:18.710Z"
   },
   {
    "duration": 9,
    "start_time": "2023-01-19T00:49:18.742Z"
   },
   {
    "duration": 10,
    "start_time": "2023-01-19T00:49:18.753Z"
   },
   {
    "duration": 26,
    "start_time": "2023-01-19T00:49:18.764Z"
   },
   {
    "duration": 72,
    "start_time": "2023-01-19T00:49:18.791Z"
   },
   {
    "duration": 174,
    "start_time": "2023-01-19T00:49:18.865Z"
   },
   {
    "duration": 3,
    "start_time": "2023-01-19T00:49:19.041Z"
   },
   {
    "duration": 8,
    "start_time": "2023-01-19T00:49:19.046Z"
   },
   {
    "duration": 7,
    "start_time": "2023-01-19T00:49:19.056Z"
   },
   {
    "duration": 28,
    "start_time": "2023-01-19T00:49:19.064Z"
   },
   {
    "duration": 152,
    "start_time": "2023-01-19T00:49:19.093Z"
   },
   {
    "duration": 8,
    "start_time": "2023-01-19T00:49:19.247Z"
   },
   {
    "duration": 193,
    "start_time": "2023-01-19T00:49:19.257Z"
   },
   {
    "duration": 3,
    "start_time": "2023-01-19T00:49:19.452Z"
   },
   {
    "duration": 9,
    "start_time": "2023-01-19T00:49:19.456Z"
   },
   {
    "duration": 26,
    "start_time": "2023-01-19T00:49:19.467Z"
   },
   {
    "duration": 12,
    "start_time": "2023-01-19T00:49:19.494Z"
   },
   {
    "duration": 304,
    "start_time": "2023-01-19T00:49:19.507Z"
   },
   {
    "duration": 8,
    "start_time": "2023-01-19T00:49:19.813Z"
   },
   {
    "duration": 22,
    "start_time": "2023-01-19T00:49:19.823Z"
   },
   {
    "duration": 4,
    "start_time": "2023-01-19T00:49:19.847Z"
   },
   {
    "duration": 8,
    "start_time": "2023-01-19T00:49:19.852Z"
   },
   {
    "duration": 4,
    "start_time": "2023-01-19T00:49:19.862Z"
   },
   {
    "duration": 13,
    "start_time": "2023-01-19T00:49:19.868Z"
   },
   {
    "duration": 15,
    "start_time": "2023-01-19T00:49:19.882Z"
   },
   {
    "duration": 12,
    "start_time": "2023-01-19T00:49:19.898Z"
   },
   {
    "duration": 58,
    "start_time": "2023-01-19T00:49:19.912Z"
   },
   {
    "duration": 14,
    "start_time": "2023-01-19T00:49:19.971Z"
   },
   {
    "duration": 14,
    "start_time": "2023-01-19T00:49:19.987Z"
   },
   {
    "duration": 17,
    "start_time": "2023-01-19T00:49:20.002Z"
   },
   {
    "duration": 295,
    "start_time": "2023-01-19T00:49:20.020Z"
   },
   {
    "duration": 935,
    "start_time": "2023-01-19T00:49:20.317Z"
   },
   {
    "duration": 129,
    "start_time": "2023-01-19T00:49:21.345Z"
   },
   {
    "duration": 449,
    "start_time": "2023-01-19T00:49:21.476Z"
   },
   {
    "duration": 524,
    "start_time": "2023-01-19T00:49:21.927Z"
   },
   {
    "duration": 472,
    "start_time": "2023-01-19T00:49:22.453Z"
   },
   {
    "duration": 139050,
    "start_time": "2023-01-19T00:49:22.927Z"
   },
   {
    "duration": 4,
    "start_time": "2023-01-19T00:51:41.979Z"
   },
   {
    "duration": 47,
    "start_time": "2023-01-19T00:51:41.984Z"
   },
   {
    "duration": 728,
    "start_time": "2023-01-19T00:51:42.033Z"
   },
   {
    "duration": 55666,
    "start_time": "2023-01-19T00:51:42.762Z"
   },
   {
    "duration": 151,
    "start_time": "2023-01-19T00:52:38.429Z"
   },
   {
    "duration": 10451,
    "start_time": "2023-01-19T00:52:38.582Z"
   },
   {
    "duration": 19979,
    "start_time": "2023-01-19T00:52:49.040Z"
   },
   {
    "duration": 15603,
    "start_time": "2023-01-19T00:53:09.021Z"
   },
   {
    "duration": 17703,
    "start_time": "2023-01-19T00:53:24.627Z"
   },
   {
    "duration": 8,
    "start_time": "2023-01-19T00:53:42.332Z"
   },
   {
    "duration": 1465,
    "start_time": "2023-01-19T00:53:42.341Z"
   },
   {
    "duration": 3,
    "start_time": "2023-01-19T00:53:43.808Z"
   },
   {
    "duration": 51,
    "start_time": "2023-01-19T00:53:43.817Z"
   },
   {
    "duration": 1425,
    "start_time": "2023-01-19T00:53:43.870Z"
   },
   {
    "duration": 7,
    "start_time": "2023-01-19T00:53:45.296Z"
   },
   {
    "duration": 10,
    "start_time": "2023-01-19T00:53:45.304Z"
   },
   {
    "duration": 25,
    "start_time": "2023-01-19T00:53:45.316Z"
   },
   {
    "duration": 6,
    "start_time": "2023-01-19T00:53:45.343Z"
   },
   {
    "duration": 45,
    "start_time": "2023-01-19T00:53:45.350Z"
   },
   {
    "duration": 2143,
    "start_time": "2023-01-19T00:53:45.397Z"
   },
   {
    "duration": 8,
    "start_time": "2023-01-19T00:53:47.542Z"
   },
   {
    "duration": 11,
    "start_time": "2023-01-19T00:53:47.551Z"
   },
   {
    "duration": 20,
    "start_time": "2023-01-19T00:53:47.564Z"
   },
   {
    "duration": 767,
    "start_time": "2023-01-19T00:53:47.586Z"
   },
   {
    "duration": 270,
    "start_time": "2023-01-19T00:53:48.355Z"
   },
   {
    "duration": 219,
    "start_time": "2023-01-19T00:53:48.627Z"
   },
   {
    "duration": 8,
    "start_time": "2023-01-19T00:53:48.848Z"
   },
   {
    "duration": 13,
    "start_time": "2023-01-19T00:53:48.858Z"
   },
   {
    "duration": 95,
    "start_time": "2023-01-19T00:53:48.873Z"
   },
   {
    "duration": 151,
    "start_time": "2023-01-19T00:55:32.938Z"
   },
   {
    "duration": 163,
    "start_time": "2023-01-19T00:55:58.813Z"
   },
   {
    "duration": 74,
    "start_time": "2023-01-19T00:56:17.083Z"
   },
   {
    "duration": 144,
    "start_time": "2023-01-19T00:59:20.349Z"
   },
   {
    "duration": 150,
    "start_time": "2023-01-19T00:59:34.650Z"
   }
  ],
  "kernelspec": {
   "display_name": "Python 3 (ipykernel)",
   "language": "python",
   "name": "python3"
  },
  "language_info": {
   "codemirror_mode": {
    "name": "ipython",
    "version": 3
   },
   "file_extension": ".py",
   "mimetype": "text/x-python",
   "name": "python",
   "nbconvert_exporter": "python",
   "pygments_lexer": "ipython3",
   "version": "3.9.12"
  },
  "toc": {
   "base_numbering": 1,
   "nav_menu": {
    "height": "203px",
    "width": "217px"
   },
   "number_sections": true,
   "sideBar": true,
   "skip_h1_title": true,
   "title_cell": "Table of Contents",
   "title_sidebar": "Contents",
   "toc_cell": true,
   "toc_position": {
    "height": "calc(100% - 180px)",
    "left": "10px",
    "top": "150px",
    "width": "303.825px"
   },
   "toc_section_display": true,
   "toc_window_display": true
  }
 },
 "nbformat": 4,
 "nbformat_minor": 5
}
